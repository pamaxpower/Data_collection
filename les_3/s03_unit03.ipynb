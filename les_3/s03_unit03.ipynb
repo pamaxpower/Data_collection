{
 "cells": [
  {
   "cell_type": "code",
   "execution_count": 5,
   "metadata": {},
   "outputs": [],
   "source": [
    "from clickhouse_driver import Client\n",
    "import json"
   ]
  },
  {
   "cell_type": "code",
   "execution_count": 6,
   "metadata": {},
   "outputs": [
    {
     "data": {
      "text/plain": [
       "[]"
      ]
     },
     "execution_count": 6,
     "metadata": {},
     "output_type": "execute_result"
    }
   ],
   "source": [
    "# Подключение к серверу ClickHouse\n",
    "client = Client('localhost')\n",
    "\n",
    "# Создание базы данных (если она не существует)\n",
    "client.execute('CREATE DATABASE IF NOT EXISTS town_cary')"
   ]
  },
  {
   "cell_type": "code",
   "execution_count": 7,
   "metadata": {},
   "outputs": [
    {
     "name": "stdout",
     "output_type": "stream",
     "text": [
      "Таблица создана успешно.\n"
     ]
    }
   ],
   "source": [
    "# Создание таблицы\n",
    "# Создание основной таблицы 'crashes'\n",
    "client.execute('''\n",
    "CREATE TABLE IF NOT EXISTS town_cary.crashes (\n",
    "    id UInt64,\n",
    "    location_description String,\n",
    "    rdfeature String,\n",
    "    rdsurface String,\n",
    "    rdcondition String,\n",
    "    lightcond String,\n",
    "    weather String,\n",
    "    crash_date Int64,\n",
    "    year String,\n",
    "    fatalities String,\n",
    "    injuries String,\n",
    "    month String\n",
    ") ENGINE = MergeTree()\n",
    "ORDER BY id\n",
    "''')\n",
    "\n",
    "print(\"Таблица создана успешно.\")"
   ]
  },
  {
   "cell_type": "code",
   "execution_count": 8,
   "metadata": {},
   "outputs": [],
   "source": [
    "with open('./crash-data.json', 'r') as file:\n",
    "    data = json.load(file)\n",
    "\n",
    "data = data['features']\n",
    "\n",
    "# Вставка данных в таблицу\n",
    "for feature in data:\n",
    "    properties = feature['properties']\n",
    "\n",
    "    # Определение crash_id\n",
    "    crash_id = properties['tamainid']\n",
    "\n",
    "    # Вставка данных о ДТП\n",
    "    client.execute(\"\"\"\n",
    "    INSERT INTO town_cary.crashes (\n",
    "        id, location_description, rdfeature,\n",
    "        rdsurface, rdcondition, lightcond,\n",
    "        weather, crash_date, year,\n",
    "        fatalities, injuries, month\n",
    "    ) VALUES\"\"\",\n",
    "    [(crash_id,\n",
    "      properties['location_description'] or \"\",\n",
    "      properties['rdfeature'] or \"\",\n",
    "      properties['rdsurface'] or \"\",\n",
    "      properties['rdcondition'] or \"\",\n",
    "      properties['lightcond'] or \"\",\n",
    "      properties['weather'] or \"\",\n",
    "      properties['crash_date'],\n",
    "      properties['year'],\n",
    "      properties['fatalities'] or \"\",\n",
    "      properties['injuries'] or \"\",\n",
    "      properties['month'])])\n",
    "\n",
    "print(\"Данные введены успешно.\")"
   ]
  },
  {
   "cell_type": "code",
   "execution_count": null,
   "metadata": {},
   "outputs": [],
   "source": [
    "# Проверка успешности вставки\n",
    "result = client.execute(\"SELECT * FROM town_cary.crashes\")\n",
    "print(\"Вставленная запись:\", result[0])"
   ]
  }
 ],
 "metadata": {
  "kernelspec": {
   "display_name": "Python 3",
   "language": "python",
   "name": "python3"
  },
  "language_info": {
   "codemirror_mode": {
    "name": "ipython",
    "version": 3
   },
   "file_extension": ".py",
   "mimetype": "text/x-python",
   "name": "python",
   "nbconvert_exporter": "python",
   "pygments_lexer": "ipython3",
   "version": "3.10.9"
  }
 },
 "nbformat": 4,
 "nbformat_minor": 2
}
