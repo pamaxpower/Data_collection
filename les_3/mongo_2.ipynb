{
 "cells": [
  {
   "cell_type": "markdown",
   "metadata": {},
   "source": [
    "Метод **find()** - получение данных из БД <br>"
   ]
  },
  {
   "cell_type": "code",
   "execution_count": null,
   "metadata": {},
   "outputs": [],
   "source": []
  },
  {
   "cell_type": "markdown",
   "metadata": {},
   "source": [
    "Метод **update()** - обновляет данные по ключу <br>\n",
    "`new_data = {'author': 'Andrey',` <br>\n",
    "`   'age': 28,              ` <br>\n",
    "`   'text': 'is cool!',     `<br>\n",
    "`   'date': '11.09.1991'}   `<br>\n",
    "`persons.update_one({'author': 'Peter}, {'$set': new_data})`<br>"
   ]
  },
  {
   "cell_type": "markdown",
   "metadata": {},
   "source": [
    "Данный код обновляет первый найденный объект по ключу 'author' = Peter, и меняет его на объект new_data. Причем ключ 'tags', содержащийся в старом объекте, не удаляется, а переносится в новый объект. <br>\n",
    "Таким образом метод **update()** не заменяет объект полностью, а только переписывает (обновляет) ключи, содержащиеся в новом объекте"
   ]
  },
  {
   "cell_type": "markdown",
   "metadata": {},
   "source": [
    "Для замены объекта полностью используется метод **replace()** <br>\n",
    "Он полностью меняет объект, не сохраняя старые данные.\n",
    "`persons.replace_one({'author': 'Peter'}, new_data)`"
   ]
  },
  {
   "cell_type": "markdown",
   "metadata": {},
   "source": [
    "Метод **delete()** безвозвратно удаляет первый встреченный объект по заданному ключу"
   ]
  }
 ],
 "metadata": {
  "language_info": {
   "name": "python"
  }
 },
 "nbformat": 4,
 "nbformat_minor": 2
}
