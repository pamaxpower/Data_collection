{
 "cells": [
  {
   "cell_type": "code",
   "execution_count": 1,
   "metadata": {},
   "outputs": [],
   "source": [
    "from pymongo import MongoClient\n",
    "from pprint import pprint\n",
    "from pymongo.errors import *"
   ]
  },
  {
   "cell_type": "code",
   "execution_count": 2,
   "metadata": {},
   "outputs": [],
   "source": [
    "client = MongoClient(host='localhost', port=27017)"
   ]
  },
  {
   "cell_type": "code",
   "execution_count": 3,
   "metadata": {},
   "outputs": [],
   "source": [
    "db = client['users']"
   ]
  },
  {
   "cell_type": "code",
   "execution_count": 4,
   "metadata": {},
   "outputs": [],
   "source": [
    "persons = db.persons"
   ]
  },
  {
   "cell_type": "code",
   "execution_count": 5,
   "metadata": {},
   "outputs": [],
   "source": [
    "doc = {'_id': '`125u2943yq059yh',\n",
    "    'author': \"Peter\",\n",
    "    'age': 38,\n",
    "    'text': 'Hello, world!',\n",
    "    'tags': ['cool', 'cold', 'cola'],\n",
    "    'date': '28.04.2024'}"
   ]
  },
  {
   "cell_type": "code",
   "execution_count": 6,
   "metadata": {},
   "outputs": [
    {
     "name": "stdout",
     "output_type": "stream",
     "text": [
      "E11000 duplicate key error collection: users.persons index: _id_ dup key: { _id: \"`125u2943yq059yh\" }, full error: {'index': 0, 'code': 11000, 'errmsg': 'E11000 duplicate key error collection: users.persons index: _id_ dup key: { _id: \"`125u2943yq059yh\" }', 'keyPattern': {'_id': 1}, 'keyValue': {'_id': '`125u2943yq059yh'}}\n"
     ]
    }
   ],
   "source": [
    "try:\n",
    "    persons.insert_one(doc)\n",
    "except DuplicateKeyError as e:\n",
    "    print(e)\n"
   ]
  },
  {
   "cell_type": "code",
   "execution_count": 7,
   "metadata": {},
   "outputs": [
    {
     "name": "stdout",
     "output_type": "stream",
     "text": [
      "{'_id': ObjectId('662e5f18993fa6e2bb8a0585'),\n",
      " 'age': 38,\n",
      " 'author': 'Peter',\n",
      " 'date': '28.04.2024',\n",
      " 'tags': ['cool', 'cold', 'cola'],\n",
      " 'text': 'Hello, world!'}\n",
      "{'_id': ObjectId('662e5f83993fa6e2bb8a0586'),\n",
      " 'age': 38,\n",
      " 'author': 'Peter',\n",
      " 'date': '28.04.2024',\n",
      " 'tags': ['cool', 'cold', 'cola'],\n",
      " 'text': 'Hello, world!'}\n",
      "{'_id': '`125u2943yq059yh',\n",
      " 'age': 38,\n",
      " 'author': 'Peter',\n",
      " 'date': '28.04.2024',\n",
      " 'tags': ['cool', 'cold', 'cola'],\n",
      " 'text': 'Hello, world!'}\n"
     ]
    }
   ],
   "source": [
    "for doc in persons.find():\n",
    "    pprint(doc)"
   ]
  }
 ],
 "metadata": {
  "kernelspec": {
   "display_name": "Python 3",
   "language": "python",
   "name": "python3"
  },
  "language_info": {
   "codemirror_mode": {
    "name": "ipython",
    "version": 3
   },
   "file_extension": ".py",
   "mimetype": "text/x-python",
   "name": "python",
   "nbconvert_exporter": "python",
   "pygments_lexer": "ipython3",
   "version": "3.10.9"
  }
 },
 "nbformat": 4,
 "nbformat_minor": 2
}
