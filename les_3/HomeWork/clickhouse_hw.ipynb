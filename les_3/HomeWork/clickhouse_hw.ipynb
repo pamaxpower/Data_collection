{
 "cells": [
  {
   "cell_type": "code",
   "execution_count": 28,
   "metadata": {},
   "outputs": [],
   "source": [
    "from clickhouse_driver import Client\n",
    "import json"
   ]
  },
  {
   "cell_type": "code",
   "execution_count": 34,
   "metadata": {},
   "outputs": [
    {
     "name": "stdout",
     "output_type": "stream",
     "text": [
      "41908675385a95298f362114f5750f99138388ac94029d136e9f18e3b33b5e3b\n"
     ]
    },
    {
     "name": "stderr",
     "output_type": "stream",
     "text": [
      "Unable to find image 'yandex/clickhouse-server:latest' locally\n",
      "latest: Pulling from yandex/clickhouse-server\n",
      "ea362f368469: Already exists\n",
      "38ba82a23e2b: Already exists\n",
      "9b17d04b6c62: Already exists\n",
      "5658714e4e8b: Already exists\n",
      "6bde977a0bf8: Already exists\n",
      "39053b27290b: Already exists\n",
      "762d3d237065: Already exists\n",
      "762d3d237065: Already exists\n",
      "Digest: sha256:1cbf75aabe1e2cc9f62d1d9929c318a59ae552e2700e201db985b92a9bcabc6e\n",
      "Status: Downloaded newer image for yandex/clickhouse-server:latest\n"
     ]
    }
   ],
   "source": [
    "!docker run -d --name clickhouse-server --ulimit nofile=262144:262144 -p 9000:9000 yandex/clickhouse-server"
   ]
  },
  {
   "cell_type": "code",
   "execution_count": 35,
   "metadata": {},
   "outputs": [
    {
     "name": "stdout",
     "output_type": "stream",
     "text": [
      "[]\n"
     ]
    }
   ],
   "source": [
    "# Подключение к серверу ClickHouse\n",
    "client = Client(host='localhost',\n",
    "                user='default',\n",
    "                password='',\n",
    "                port=9000)\n",
    "\n",
    "try:\n",
    "    result = client.execute('SHOW TABLES')\n",
    "    print(result)\n",
    "except Exception as e:\n",
    "    print(f\"Encountered an error: {e}\")"
   ]
  },
  {
   "cell_type": "code",
   "execution_count": 36,
   "metadata": {},
   "outputs": [
    {
     "data": {
      "text/plain": [
       "[]"
      ]
     },
     "execution_count": 36,
     "metadata": {},
     "output_type": "execute_result"
    }
   ],
   "source": [
    "client.execute('SHOW TABLES')"
   ]
  },
  {
   "cell_type": "code",
   "execution_count": 37,
   "metadata": {},
   "outputs": [
    {
     "data": {
      "text/plain": [
       "[]"
      ]
     },
     "execution_count": 37,
     "metadata": {},
     "output_type": "execute_result"
    }
   ],
   "source": [
    "# Создание базы данных (если она не существует)\n",
    "client.execute('CREATE DATABASE IF NOT EXISTS all_books')"
   ]
  },
  {
   "cell_type": "code",
   "execution_count": 38,
   "metadata": {},
   "outputs": [
    {
     "ename": "ServerException",
     "evalue": "Code: 81.\nDB::Exception: Database all_book doesn't exist. Stack trace:\n\n0. DB::Exception::Exception(std::__1::basic_string<char, std::__1::char_traits<char>, std::__1::allocator<char> > const&, int, bool) @ 0xa82d07a in /usr/bin/clickhouse\n1. DB::DatabaseCatalog::assertDatabaseExistsUnlocked(std::__1::basic_string<char, std::__1::char_traits<char>, std::__1::allocator<char> > const&) const @ 0x13519e5a in /usr/bin/clickhouse\n2. DB::DatabaseCatalog::getDatabase(std::__1::basic_string<char, std::__1::char_traits<char>, std::__1::allocator<char> > const&) const @ 0x1351c8f8 in /usr/bin/clickhouse\n3. DB::InterpreterCreateQuery::createTable(DB::ASTCreateQuery&) @ 0x139ce684 in /usr/bin/clickhouse\n4. DB::InterpreterCreateQuery::execute() @ 0x139d64ab in /usr/bin/clickhouse\n5. ? @ 0x13d1434c in /usr/bin/clickhouse\n6. DB::executeQuery(std::__1::basic_string<char, std::__1::char_traits<char>, std::__1::allocator<char> > const&, std::__1::shared_ptr<DB::Context>, bool, DB::QueryProcessingStage::Enum) @ 0x13d11e55 in /usr/bin/clickhouse\n7. DB::TCPHandler::runImpl() @ 0x147f050f in /usr/bin/clickhouse\n8. DB::TCPHandler::run() @ 0x14804259 in /usr/bin/clickhouse\n9. Poco::Net::TCPServerConnection::start() @ 0x1745e52f in /usr/bin/clickhouse\n10. Poco::Net::TCPServerDispatcher::run() @ 0x17460981 in /usr/bin/clickhouse\n11. Poco::PooledThread::run() @ 0x17611609 in /usr/bin/clickhouse\n12. Poco::ThreadImpl::runnableEntry(void*) @ 0x1760ed00 in /usr/bin/clickhouse\n13. ? @ 0x7fa232ea3609 in ?\n14. __clone @ 0x7fa232dca293 in ?\n",
     "output_type": "error",
     "traceback": [
      "\u001b[1;31m---------------------------------------------------------------------------\u001b[0m",
      "\u001b[1;31mServerException\u001b[0m                           Traceback (most recent call last)",
      "Cell \u001b[1;32mIn[38], line 3\u001b[0m\n\u001b[0;32m      1\u001b[0m \u001b[38;5;66;03m# Создание таблицы\u001b[39;00m\n\u001b[0;32m      2\u001b[0m \u001b[38;5;66;03m# Создание основной таблицы 'books'\u001b[39;00m\n\u001b[1;32m----> 3\u001b[0m \u001b[43mclient\u001b[49m\u001b[38;5;241;43m.\u001b[39;49m\u001b[43mexecute\u001b[49m\u001b[43m(\u001b[49m\u001b[38;5;124;43m'''\u001b[39;49m\n\u001b[0;32m      4\u001b[0m \u001b[38;5;124;43mCREATE TABLE IF NOT EXISTS all_book.books (\u001b[39;49m\n\u001b[0;32m      5\u001b[0m \u001b[38;5;124;43m    `id` String,\u001b[39;49m\n\u001b[0;32m      6\u001b[0m \u001b[38;5;124;43m    `UPC` String,\u001b[39;49m\n\u001b[0;32m      7\u001b[0m \u001b[38;5;124;43m    `name` String,\u001b[39;49m\n\u001b[0;32m      8\u001b[0m \u001b[38;5;124;43m    `description` String,\u001b[39;49m\n\u001b[0;32m      9\u001b[0m \u001b[38;5;124;43m    `category` String,\u001b[39;49m\n\u001b[0;32m     10\u001b[0m \u001b[38;5;124;43m    `rating` String,\u001b[39;49m\n\u001b[0;32m     11\u001b[0m \u001b[38;5;124;43m    `price` Float32,\u001b[39;49m\n\u001b[0;32m     12\u001b[0m \u001b[38;5;124;43m    `quantity` Int16\u001b[39;49m\n\u001b[0;32m     13\u001b[0m \u001b[38;5;124;43m) ENGINE = MergeTree()\u001b[39;49m\n\u001b[0;32m     14\u001b[0m \u001b[38;5;124;43mORDER BY id\u001b[39;49m\n\u001b[0;32m     15\u001b[0m \u001b[38;5;124;43m'''\u001b[39;49m\u001b[43m)\u001b[49m\n\u001b[0;32m     17\u001b[0m \u001b[38;5;28mprint\u001b[39m(\u001b[38;5;124m\"\u001b[39m\u001b[38;5;124mТаблица создана успешно.\u001b[39m\u001b[38;5;124m\"\u001b[39m)\n",
      "File \u001b[1;32mc:\\Users\\Lenovo\\AppData\\Local\\Programs\\Python\\Python310\\lib\\site-packages\\clickhouse_driver\\client.py:382\u001b[0m, in \u001b[0;36mClient.execute\u001b[1;34m(self, query, params, with_column_types, external_tables, query_id, settings, types_check, columnar)\u001b[0m\n\u001b[0;32m    376\u001b[0m     rv \u001b[38;5;241m=\u001b[39m \u001b[38;5;28mself\u001b[39m\u001b[38;5;241m.\u001b[39mprocess_insert_query(\n\u001b[0;32m    377\u001b[0m         query, params, external_tables\u001b[38;5;241m=\u001b[39mexternal_tables,\n\u001b[0;32m    378\u001b[0m         query_id\u001b[38;5;241m=\u001b[39mquery_id, types_check\u001b[38;5;241m=\u001b[39mtypes_check,\n\u001b[0;32m    379\u001b[0m         columnar\u001b[38;5;241m=\u001b[39mcolumnar\n\u001b[0;32m    380\u001b[0m     )\n\u001b[0;32m    381\u001b[0m \u001b[38;5;28;01melse\u001b[39;00m:\n\u001b[1;32m--> 382\u001b[0m     rv \u001b[38;5;241m=\u001b[39m \u001b[38;5;28;43mself\u001b[39;49m\u001b[38;5;241;43m.\u001b[39;49m\u001b[43mprocess_ordinary_query\u001b[49m\u001b[43m(\u001b[49m\n\u001b[0;32m    383\u001b[0m \u001b[43m        \u001b[49m\u001b[43mquery\u001b[49m\u001b[43m,\u001b[49m\u001b[43m \u001b[49m\u001b[43mparams\u001b[49m\u001b[38;5;241;43m=\u001b[39;49m\u001b[43mparams\u001b[49m\u001b[43m,\u001b[49m\u001b[43m \u001b[49m\u001b[43mwith_column_types\u001b[49m\u001b[38;5;241;43m=\u001b[39;49m\u001b[43mwith_column_types\u001b[49m\u001b[43m,\u001b[49m\n\u001b[0;32m    384\u001b[0m \u001b[43m        \u001b[49m\u001b[43mexternal_tables\u001b[49m\u001b[38;5;241;43m=\u001b[39;49m\u001b[43mexternal_tables\u001b[49m\u001b[43m,\u001b[49m\n\u001b[0;32m    385\u001b[0m \u001b[43m        \u001b[49m\u001b[43mquery_id\u001b[49m\u001b[38;5;241;43m=\u001b[39;49m\u001b[43mquery_id\u001b[49m\u001b[43m,\u001b[49m\u001b[43m \u001b[49m\u001b[43mtypes_check\u001b[49m\u001b[38;5;241;43m=\u001b[39;49m\u001b[43mtypes_check\u001b[49m\u001b[43m,\u001b[49m\n\u001b[0;32m    386\u001b[0m \u001b[43m        \u001b[49m\u001b[43mcolumnar\u001b[49m\u001b[38;5;241;43m=\u001b[39;49m\u001b[43mcolumnar\u001b[49m\n\u001b[0;32m    387\u001b[0m \u001b[43m    \u001b[49m\u001b[43m)\u001b[49m\n\u001b[0;32m    388\u001b[0m \u001b[38;5;28mself\u001b[39m\u001b[38;5;241m.\u001b[39mlast_query\u001b[38;5;241m.\u001b[39mstore_elapsed(time() \u001b[38;5;241m-\u001b[39m start_time)\n\u001b[0;32m    389\u001b[0m \u001b[38;5;28;01mreturn\u001b[39;00m rv\n",
      "File \u001b[1;32mc:\\Users\\Lenovo\\AppData\\Local\\Programs\\Python\\Python310\\lib\\site-packages\\clickhouse_driver\\client.py:580\u001b[0m, in \u001b[0;36mClient.process_ordinary_query\u001b[1;34m(self, query, params, with_column_types, external_tables, query_id, types_check, columnar)\u001b[0m\n\u001b[0;32m    577\u001b[0m \u001b[38;5;28mself\u001b[39m\u001b[38;5;241m.\u001b[39mconnection\u001b[38;5;241m.\u001b[39msend_query(query, query_id\u001b[38;5;241m=\u001b[39mquery_id, params\u001b[38;5;241m=\u001b[39mparams)\n\u001b[0;32m    578\u001b[0m \u001b[38;5;28mself\u001b[39m\u001b[38;5;241m.\u001b[39mconnection\u001b[38;5;241m.\u001b[39msend_external_tables(external_tables,\n\u001b[0;32m    579\u001b[0m                                      types_check\u001b[38;5;241m=\u001b[39mtypes_check)\n\u001b[1;32m--> 580\u001b[0m \u001b[38;5;28;01mreturn\u001b[39;00m \u001b[38;5;28;43mself\u001b[39;49m\u001b[38;5;241;43m.\u001b[39;49m\u001b[43mreceive_result\u001b[49m\u001b[43m(\u001b[49m\u001b[43mwith_column_types\u001b[49m\u001b[38;5;241;43m=\u001b[39;49m\u001b[43mwith_column_types\u001b[49m\u001b[43m,\u001b[49m\n\u001b[0;32m    581\u001b[0m \u001b[43m                           \u001b[49m\u001b[43mcolumnar\u001b[49m\u001b[38;5;241;43m=\u001b[39;49m\u001b[43mcolumnar\u001b[49m\u001b[43m)\u001b[49m\n",
      "File \u001b[1;32mc:\\Users\\Lenovo\\AppData\\Local\\Programs\\Python\\Python310\\lib\\site-packages\\clickhouse_driver\\client.py:213\u001b[0m, in \u001b[0;36mClient.receive_result\u001b[1;34m(self, with_column_types, progress, columnar)\u001b[0m\n\u001b[0;32m    209\u001b[0m \u001b[38;5;28;01melse\u001b[39;00m:\n\u001b[0;32m    210\u001b[0m     result \u001b[38;5;241m=\u001b[39m \u001b[38;5;28mself\u001b[39m\u001b[38;5;241m.\u001b[39mquery_result_cls(\n\u001b[0;32m    211\u001b[0m         gen, with_column_types\u001b[38;5;241m=\u001b[39mwith_column_types, columnar\u001b[38;5;241m=\u001b[39mcolumnar\n\u001b[0;32m    212\u001b[0m     )\n\u001b[1;32m--> 213\u001b[0m     \u001b[38;5;28;01mreturn\u001b[39;00m \u001b[43mresult\u001b[49m\u001b[38;5;241;43m.\u001b[39;49m\u001b[43mget_result\u001b[49m\u001b[43m(\u001b[49m\u001b[43m)\u001b[49m\n",
      "File \u001b[1;32mc:\\Users\\Lenovo\\AppData\\Local\\Programs\\Python\\Python310\\lib\\site-packages\\clickhouse_driver\\result.py:50\u001b[0m, in \u001b[0;36mQueryResult.get_result\u001b[1;34m(self)\u001b[0m\n\u001b[0;32m     45\u001b[0m \u001b[38;5;28;01mdef\u001b[39;00m \u001b[38;5;21mget_result\u001b[39m(\u001b[38;5;28mself\u001b[39m):\n\u001b[0;32m     46\u001b[0m \u001b[38;5;250m    \u001b[39m\u001b[38;5;124;03m\"\"\"\u001b[39;00m\n\u001b[0;32m     47\u001b[0m \u001b[38;5;124;03m    :return: stored query result.\u001b[39;00m\n\u001b[0;32m     48\u001b[0m \u001b[38;5;124;03m    \"\"\"\u001b[39;00m\n\u001b[1;32m---> 50\u001b[0m     \u001b[38;5;28;01mfor\u001b[39;00m packet \u001b[38;5;129;01min\u001b[39;00m \u001b[38;5;28mself\u001b[39m\u001b[38;5;241m.\u001b[39mpacket_generator:\n\u001b[0;32m     51\u001b[0m         \u001b[38;5;28mself\u001b[39m\u001b[38;5;241m.\u001b[39mstore(packet)\n\u001b[0;32m     53\u001b[0m     data \u001b[38;5;241m=\u001b[39m \u001b[38;5;28mself\u001b[39m\u001b[38;5;241m.\u001b[39mdata\n",
      "File \u001b[1;32mc:\\Users\\Lenovo\\AppData\\Local\\Programs\\Python\\Python310\\lib\\site-packages\\clickhouse_driver\\client.py:229\u001b[0m, in \u001b[0;36mClient.packet_generator\u001b[1;34m(self)\u001b[0m\n\u001b[0;32m    227\u001b[0m \u001b[38;5;28;01mwhile\u001b[39;00m \u001b[38;5;28;01mTrue\u001b[39;00m:\n\u001b[0;32m    228\u001b[0m     \u001b[38;5;28;01mtry\u001b[39;00m:\n\u001b[1;32m--> 229\u001b[0m         packet \u001b[38;5;241m=\u001b[39m \u001b[38;5;28;43mself\u001b[39;49m\u001b[38;5;241;43m.\u001b[39;49m\u001b[43mreceive_packet\u001b[49m\u001b[43m(\u001b[49m\u001b[43m)\u001b[49m\n\u001b[0;32m    230\u001b[0m         \u001b[38;5;28;01mif\u001b[39;00m \u001b[38;5;129;01mnot\u001b[39;00m packet:\n\u001b[0;32m    231\u001b[0m             \u001b[38;5;28;01mbreak\u001b[39;00m\n",
      "File \u001b[1;32mc:\\Users\\Lenovo\\AppData\\Local\\Programs\\Python\\Python310\\lib\\site-packages\\clickhouse_driver\\client.py:246\u001b[0m, in \u001b[0;36mClient.receive_packet\u001b[1;34m(self)\u001b[0m\n\u001b[0;32m    243\u001b[0m packet \u001b[38;5;241m=\u001b[39m \u001b[38;5;28mself\u001b[39m\u001b[38;5;241m.\u001b[39mconnection\u001b[38;5;241m.\u001b[39mreceive_packet()\n\u001b[0;32m    245\u001b[0m \u001b[38;5;28;01mif\u001b[39;00m packet\u001b[38;5;241m.\u001b[39mtype \u001b[38;5;241m==\u001b[39m ServerPacketTypes\u001b[38;5;241m.\u001b[39mEXCEPTION:\n\u001b[1;32m--> 246\u001b[0m     \u001b[38;5;28;01mraise\u001b[39;00m packet\u001b[38;5;241m.\u001b[39mexception\n\u001b[0;32m    248\u001b[0m \u001b[38;5;28;01melif\u001b[39;00m packet\u001b[38;5;241m.\u001b[39mtype \u001b[38;5;241m==\u001b[39m ServerPacketTypes\u001b[38;5;241m.\u001b[39mPROGRESS:\n\u001b[0;32m    249\u001b[0m     \u001b[38;5;28mself\u001b[39m\u001b[38;5;241m.\u001b[39mlast_query\u001b[38;5;241m.\u001b[39mstore_progress(packet\u001b[38;5;241m.\u001b[39mprogress)\n",
      "\u001b[1;31mServerException\u001b[0m: Code: 81.\nDB::Exception: Database all_book doesn't exist. Stack trace:\n\n0. DB::Exception::Exception(std::__1::basic_string<char, std::__1::char_traits<char>, std::__1::allocator<char> > const&, int, bool) @ 0xa82d07a in /usr/bin/clickhouse\n1. DB::DatabaseCatalog::assertDatabaseExistsUnlocked(std::__1::basic_string<char, std::__1::char_traits<char>, std::__1::allocator<char> > const&) const @ 0x13519e5a in /usr/bin/clickhouse\n2. DB::DatabaseCatalog::getDatabase(std::__1::basic_string<char, std::__1::char_traits<char>, std::__1::allocator<char> > const&) const @ 0x1351c8f8 in /usr/bin/clickhouse\n3. DB::InterpreterCreateQuery::createTable(DB::ASTCreateQuery&) @ 0x139ce684 in /usr/bin/clickhouse\n4. DB::InterpreterCreateQuery::execute() @ 0x139d64ab in /usr/bin/clickhouse\n5. ? @ 0x13d1434c in /usr/bin/clickhouse\n6. DB::executeQuery(std::__1::basic_string<char, std::__1::char_traits<char>, std::__1::allocator<char> > const&, std::__1::shared_ptr<DB::Context>, bool, DB::QueryProcessingStage::Enum) @ 0x13d11e55 in /usr/bin/clickhouse\n7. DB::TCPHandler::runImpl() @ 0x147f050f in /usr/bin/clickhouse\n8. DB::TCPHandler::run() @ 0x14804259 in /usr/bin/clickhouse\n9. Poco::Net::TCPServerConnection::start() @ 0x1745e52f in /usr/bin/clickhouse\n10. Poco::Net::TCPServerDispatcher::run() @ 0x17460981 in /usr/bin/clickhouse\n11. Poco::PooledThread::run() @ 0x17611609 in /usr/bin/clickhouse\n12. Poco::ThreadImpl::runnableEntry(void*) @ 0x1760ed00 in /usr/bin/clickhouse\n13. ? @ 0x7fa232ea3609 in ?\n14. __clone @ 0x7fa232dca293 in ?\n"
     ]
    }
   ],
   "source": [
    "# Создание таблицы\n",
    "# Создание основной таблицы 'books'\n",
    "client.execute('''\n",
    "CREATE TABLE IF NOT EXISTS all_book.books (\n",
    "    `id` String,\n",
    "    `UPC` String,\n",
    "    `name` String,\n",
    "    `description` String,\n",
    "    `category` String,\n",
    "    `rating` String,\n",
    "    `price` Float32,\n",
    "    `quantity` Int16\n",
    ") ENGINE = MergeTree()\n",
    "ORDER BY id\n",
    "''')\n",
    "\n",
    "print(\"Таблица создана успешно.\")"
   ]
  },
  {
   "cell_type": "code",
   "execution_count": null,
   "metadata": {},
   "outputs": [],
   "source": [
    "with open('./all_book.json', 'r', encoding='UTF-8-sig') as file:\n",
    "    data = json.load(file)"
   ]
  },
  {
   "cell_type": "code",
   "execution_count": null,
   "metadata": {},
   "outputs": [],
   "source": [
    "for doc in data:\n",
    "    _id = doc['UPC']\n",
    "    client.execute(\"\"\"\n",
    "    INSERT INTO all_book.books (\n",
    "        UPC, name, description,\n",
    "        category, rating, price, quantity\n",
    "    ) VALUES\"\"\",\n",
    "    [(_id,\n",
    "     doc['name'] or \"\",\n",
    "     doc['description'] or \"\",\n",
    "     doc['category'] or \"\",\n",
    "     doc['rating'] or \"\",\n",
    "     doc['price'] or 0,\n",
    "     doc['quantity'] or 0)])\n",
    "print(\"Данные введены успешно.\")"
   ]
  },
  {
   "cell_type": "code",
   "execution_count": null,
   "metadata": {},
   "outputs": [],
   "source": [
    "# Проверка успешности вставки\n",
    "result = client.execute(\"SELECT * FROM all_book.book\")\n",
    "print(\"Вставленная запись:\", result[0])"
   ]
  }
 ],
 "metadata": {
  "kernelspec": {
   "display_name": "Python 3",
   "language": "python",
   "name": "python3"
  },
  "language_info": {
   "codemirror_mode": {
    "name": "ipython",
    "version": 3
   },
   "file_extension": ".py",
   "mimetype": "text/x-python",
   "name": "python",
   "nbconvert_exporter": "python",
   "pygments_lexer": "ipython3",
   "version": "3.10.9"
  }
 },
 "nbformat": 4,
 "nbformat_minor": 2
}
