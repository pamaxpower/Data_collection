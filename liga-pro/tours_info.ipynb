{
 "cells": [
  {
   "cell_type": "code",
   "execution_count": 1,
   "metadata": {},
   "outputs": [],
   "source": [
    "# импортируем нужные библиотеки\n",
    "from lxml import html\n",
    "import requests\n",
    "from pprint import pprint\n",
    "import csv\n",
    "import pandas as pd"
   ]
  },
  {
   "cell_type": "code",
   "execution_count": 2,
   "metadata": {},
   "outputs": [],
   "source": [
    "url='https://tt.sport-liga.pro/'\n",
    "\n",
    "# задаем user-agent\n",
    "header = {\n",
    "    'User-Agent': 'Mozilla/5.0 (Windows NT 10.0; Win64; x64) AppleWebKit/537.36 (KHTML, like Gecko) Chrome/124.0.0.0 Safari/537.36'\n",
    "    }\n",
    "\n",
    "# просьба ввести данные пользователя из консоли (В РАЗРАБОТКЕ)\n",
    "date = input('Введите дату в формате DD:MM:YYYY ')\n",
    "day, month, year = date.split('.')\n",
    "param = {\n",
    "    'year': year,\n",
    "    'month': month,\n",
    "    'day': day\n",
    "}\n",
    "\n",
    "# param = {\n",
    "#     'year': '2024',\n",
    "#     'month': '05',\n",
    "#     'day': '15'\n",
    "# }\n",
    "\n",
    "\n",
    "url_tour = 'tours/'\n",
    "# url_tour = 'tours/34256'\n",
    "# url_tour = 'tours/34279'\n",
    "\n",
    "session = requests.Session()"
   ]
  },
  {
   "cell_type": "code",
   "execution_count": 3,
   "metadata": {},
   "outputs": [
    {
     "name": "stdout",
     "output_type": "stream",
     "text": [
      "200\n"
     ]
    }
   ],
   "source": [
    "# делаем get-запрос\n",
    "response = session.get(url+url_tour, params=param, headers=header)\n",
    "# проверяем статус-код\n",
    "if response.status_code < 400:\n",
    "    # если да, печатаем статус код и представляем ответ в виде дерева html\n",
    "    print(response.status_code)\n",
    "    tree = html.fromstring(response.text)\n",
    "else:\n",
    "    print('Что-то пошло не так')"
   ]
  },
  {
   "cell_type": "code",
   "execution_count": 4,
   "metadata": {},
   "outputs": [],
   "source": [
    "# находим нужную таблицу на странице\n",
    "table = tree.xpath('//table[@class=\"table\"]//tr')\n",
    "# находим ссылки на переход к просмотру турнира\n",
    "ref = tree.xpath('.//td[@class=\"tournament-name\"]/a/@href')"
   ]
  },
  {
   "cell_type": "code",
   "execution_count": 5,
   "metadata": {},
   "outputs": [],
   "source": [
    "tables = tree.xpath('//td[@class=\"tournament-name\"]/a/text()')\n",
    "tables = [el.split(' ')[1][:-1] for el in tables]\n",
    "time = tree.xpath('//td[@class=\"tournament-date\"]/text()')\n",
    "time = [el.split(' ')[-1] for el in time]"
   ]
  },
  {
   "cell_type": "code",
   "execution_count": 6,
   "metadata": {},
   "outputs": [],
   "source": [
    "tours = []\n",
    "for row, item, i in zip(table[1:], ref, range(len(tables))):\n",
    "    res = session.get(url+item, headers=header)\n",
    "    tour = html.fromstring(res.text)\n",
    "\n",
    "    player1 = tour.xpath('.//td[@class=\"right\"]/a/text()')\n",
    "    player2 = tour.xpath('.//td[@class=\"left\"]/a/text()')\n",
    "    score = tour.xpath('.//td[@class=\"score\"]//a/text()')\n",
    "    url_match = tour.xpath('.//td[@class=\"score\"]//a/@href')\n",
    "    if len(tour.xpath('//table')) > 3:\n",
    "        score_set = tour.xpath('.//small[@class=\"nowrap\"]/text()')\n",
    "        for i in range(len(score)):\n",
    "            if score[i] == \"- : -\":\n",
    "                score_set.insert(i, 'не сыгран')\n",
    "    else: score_set = ['не сыгран' for _ in range(len(score))]\n",
    "        \n",
    "\n",
    "    tours_info = {\n",
    "        'table': tables[i],\n",
    "        'time': time[i],\n",
    "        'player1': player1,\n",
    "        'player2': player2,\n",
    "        'score': score ,\n",
    "        'url_match': url_match,\n",
    "        'score_set': score_set\n",
    "    }\n",
    "\n",
    "    tours.append(tours_info)"
   ]
  },
  {
   "cell_type": "code",
   "execution_count": 7,
   "metadata": {},
   "outputs": [
    {
     "name": "stdout",
     "output_type": "stream",
     "text": [
      "{'table': 'А6', 'time': '23:45', 'player1': ['Обухов В', 'Илюхин Е', 'Мамека М', 'Обухов В', 'Кутузов О', 'Мамека М', 'Анисимов Е', 'Илюхин Е', 'Анисимов Е', 'Кутузов О'], 'player2': ['Мамека М', 'Анисимов Е', 'Кутузов О', 'Илюхин Е', 'Анисимов Е', 'Илюхин Е', 'Обухов В', 'Кутузов О', 'Мамека М', 'Обухов В'], 'score': ['- : -', '- : -', '- : -', '- : -', '- : -', '- : -', '- : -', '- : -', '- : -', '- : -'], 'url_match': ['games/324833', 'games/324834', 'games/324835', 'games/324836', 'games/324837', 'games/324838', 'games/324839', 'games/324840', 'games/324841', 'games/324842'], 'score_set': ['не сыгран', 'не сыгран', 'не сыгран', 'не сыгран', 'не сыгран', 'не сыгран', 'не сыгран', 'не сыгран', 'не сыгран', 'не сыгран']}\n",
      "{'table': 'А4', 'time': '23:45', 'player1': ['Шершнев А', 'Лбов Ю', 'Слесарев В', 'Шершнев А', 'Федоров А', 'Слесарев В', 'Беспалов Н', 'Лбов Ю', 'Беспалов Н', 'Федоров А'], 'player2': ['Слесарев В', 'Беспалов Н', 'Федоров А', 'Лбов Ю', 'Беспалов Н', 'Лбов Ю', 'Шершнев А', 'Федоров А', 'Слесарев В', 'Шершнев А'], 'score': ['- : -', '- : -', '- : -', '- : -', '- : -', '- : -', '- : -', '- : -', '- : -', '- : -'], 'url_match': ['games/324765', 'games/324766', 'games/324767', 'games/324768', 'games/324769', 'games/324770', 'games/324771', 'games/324772', 'games/324773', 'games/324774'], 'score_set': ['не сыгран', 'не сыгран', 'не сыгран', 'не сыгран', 'не сыгран', 'не сыгран', 'не сыгран', 'не сыгран', 'не сыгран', 'не сыгран']}\n",
      "{'table': 'А5', 'time': '23:30', 'player1': ['Чернов В', 'Попов О', 'Матонин А', 'Чернов В', 'Зюганов О', 'Матонин А', 'Зеленский Р', 'Попов О', 'Зеленский Р', 'Зюганов О'], 'player2': ['Матонин А', 'Зеленский Р', 'Зюганов О', 'Попов О', 'Зеленский Р', 'Попов О', 'Чернов В', 'Зюганов О', 'Матонин А', 'Чернов В'], 'score': ['- : -', '- : -', '- : -', '- : -', '- : -', '- : -', '- : -', '- : -', '- : -', '- : -'], 'url_match': ['games/324799', 'games/324800', 'games/324801', 'games/324802', 'games/324803', 'games/324804', 'games/324805', 'games/324806', 'games/324807', 'games/324808'], 'score_set': ['не сыгран', 'не сыгран', 'не сыгран', 'не сыгран', 'не сыгран', 'не сыгран', 'не сыгран', 'не сыгран', 'не сыгран', 'не сыгран']}\n",
      "{'table': 'А15', 'time': '20:00', 'player1': ['Атоманчик К', 'Галимов М', 'Ляльков В', 'Дехтяренко А', 'Атоманчик К', 'Ляльков В'], 'player2': ['Ляльков В', 'Дехтяренко А', 'Галимов М', 'Атоманчик К', 'Галимов М', 'Дехтяренко А'], 'score': ['- : -', '- : -', '- : -', '- : -', '- : -', '- : -'], 'url_match': ['games/324885', 'games/324886', 'games/324887', 'games/324888', 'games/324889', 'games/324890'], 'score_set': ['не сыгран', 'не сыгран', 'не сыгран', 'не сыгран', 'не сыгран', 'не сыгран']}\n",
      "{'table': 'А9', 'time': '20:00', 'player1': ['Сташковский Г', 'Фролов А И', 'Желубенков Ал-й', 'Салкин Р', 'Сташковский Г', 'Желубенков Ал-й'], 'player2': ['Желубенков Ал-й', 'Салкин Р', 'Фролов А И', 'Сташковский Г', 'Фролов А И', 'Салкин Р'], 'score': ['- : -', '- : -', '- : -', '- : -', '- : -', '- : -'], 'url_match': ['games/324843', 'games/324844', 'games/324845', 'games/324846', 'games/324847', 'games/324848'], 'score_set': ['не сыгран', 'не сыгран', 'не сыгран', 'не сыгран', 'не сыгран', 'не сыгран']}\n",
      "{'table': 'А3', 'time': '20:00', 'player1': ['Самоха Е', 'Амеличкин И', 'Лобанов М', 'Мельников М', 'Самоха Е', 'Лобанов М'], 'player2': ['Лобанов М', 'Мельников М', 'Амеличкин И', 'Самоха Е', 'Амеличкин И', 'Мельников М'], 'score': ['- : -', '- : -', '- : -', '- : -', '- : -', '- : -'], 'url_match': ['games/324735', 'games/324736', 'games/324737', 'games/324738', 'games/324739', 'games/324740'], 'score_set': ['не сыгран', 'не сыгран', 'не сыгран', 'не сыгран', 'не сыгран', 'не сыгран']}\n",
      "{'table': 'А6', 'time': '19:45', 'player1': ['Денисов А-м', 'Евлампиев В', 'Гришаев Е', 'Хоменко Р', 'Денисов А-м', 'Гришаев Е'], 'player2': ['Гришаев Е', 'Хоменко Р', 'Евлампиев В', 'Денисов А-м', 'Евлампиев В', 'Хоменко Р'], 'score': ['- : -', '- : -', '- : -', '- : -', '- : -', '- : -'], 'url_match': ['games/324827', 'games/324828', 'games/324829', 'games/324830', 'games/324831', 'games/324832'], 'score_set': ['не сыгран', 'не сыгран', 'не сыгран', 'не сыгран', 'не сыгран', 'не сыгран']}\n",
      "{'table': 'А4', 'time': '19:45', 'player1': ['Гиревенков А', 'Афанасьев М А', 'Ляличев Д', 'Крючков Е', 'Гиревенков А', 'Ляличев Д'], 'player2': ['Ляличев Д', 'Крючков Е', 'Афанасьев М А', 'Гиревенков А', 'Афанасьев М А', 'Крючков Е'], 'score': ['- : -', '- : -', '- : -', '- : -', '- : -', '- : -'], 'url_match': ['games/324759', 'games/324760', 'games/324761', 'games/324762', 'games/324763', 'games/324764'], 'score_set': ['не сыгран', 'не сыгран', 'не сыгран', 'не сыгран', 'не сыгран', 'не сыгран']}\n",
      "{'table': 'А5', 'time': '19:30', 'player1': ['Савченко А', 'Нурмухамедов М', 'Акуленко Е', 'Чернявский М', 'Савченко А', 'Акуленко Е'], 'player2': ['Акуленко Е', 'Чернявский М', 'Нурмухамедов М', 'Савченко А', 'Нурмухамедов М', 'Чернявский М'], 'score': ['- : -', '- : -', '- : -', '- : -', '- : -', '- : -'], 'url_match': ['games/324793', 'games/324794', 'games/324795', 'games/324796', 'games/324797', 'games/324798'], 'score_set': ['не сыгран', 'не сыгран', 'не сыгран', 'не сыгран', 'не сыгран', 'не сыгран']}\n",
      "{'table': 'А3', 'time': '16:00', 'player1': ['Шершнев А', 'Свердлов М', 'Алексеев А', 'Слесарев В', 'Шершнев А', 'Алексеев А'], 'player2': ['Алексеев А', 'Слесарев В', 'Свердлов М', 'Шершнев А', 'Свердлов М', 'Слесарев В'], 'score': ['- : -', '- : -', '- : -', '- : -', '- : -', '- : -'], 'url_match': ['games/324729', 'games/324730', 'games/324731', 'games/324732', 'games/324733', 'games/324734'], 'score_set': ['не сыгран', 'не сыгран', 'не сыгран', 'не сыгран', 'не сыгран', 'не сыгран']}\n",
      "{'table': 'А15', 'time': '16:00', 'player1': ['Король Д', 'Кошель В', 'Кулагин А', 'Пузанов П', 'Король Д', 'Кулагин А'], 'player2': ['Кулагин А', 'Пузанов П', 'Кошель В', 'Король Д', 'Кошель В', 'Пузанов П'], 'score': ['- : -', '- : -', '- : -', '- : -', '- : -', '- : -'], 'url_match': ['games/324879', 'games/324880', 'games/324881', 'games/324882', 'games/324883', 'games/324884'], 'score_set': ['не сыгран', 'не сыгран', 'не сыгран', 'не сыгран', 'не сыгран', 'не сыгран']}\n",
      "{'table': 'А4', 'time': '15:45', 'player1': ['Алов Р', 'Чернов В', 'Минченков И', 'Новиков И', 'Алов Р', 'Минченков И'], 'player2': ['Минченков И', 'Новиков И', 'Чернов В', 'Алов Р', 'Чернов В', 'Новиков И'], 'score': ['- : -', '- : -', '- : -', '- : -', '- : -', '- : -'], 'url_match': ['games/324753', 'games/324754', 'games/324755', 'games/324756', 'games/324757', 'games/324758'], 'score_set': ['не сыгран', 'не сыгран', 'не сыгран', 'не сыгран', 'не сыгран', 'не сыгран']}\n",
      "{'table': 'А6', 'time': '15:45', 'player1': ['Хургин В', 'Щавелев Н', 'Кузьмин А', 'Попроцкий А', 'Хургин В', 'Кузьмин А'], 'player2': ['Кузьмин А', 'Попроцкий А', 'Щавелев Н', 'Хургин В', 'Щавелев Н', 'Попроцкий А'], 'score': ['- : -', '- : -', '- : -', '- : -', '- : -', '- : -'], 'url_match': ['games/324821', 'games/324822', 'games/324823', 'games/324824', 'games/324825', 'games/324826'], 'score_set': ['не сыгран', 'не сыгран', 'не сыгран', 'не сыгран', 'не сыгран', 'не сыгран']}\n",
      "{'table': 'А5', 'time': '15:30', 'player1': ['Яковлев А', 'Нурмухамедов М', 'Куликов С', 'Орлов О', 'Яковлев А', 'Куликов С'], 'player2': ['Куликов С', 'Орлов О', 'Нурмухамедов М', 'Яковлев А', 'Нурмухамедов М', 'Орлов О'], 'score': ['- : -', '- : -', '- : -', '- : -', '- : -', '- : -'], 'url_match': ['games/324787', 'games/324788', 'games/324789', 'games/324790', 'games/324791', 'games/324792'], 'score_set': ['не сыгран', 'не сыгран', 'не сыгран', 'не сыгран', 'не сыгран', 'не сыгран']}\n",
      "{'table': 'А15', 'time': '12:00', 'player1': ['Гиленков Е', 'Сидорков А', 'Логунов А', 'Стригуцкий Д', 'Гиленков Е', 'Логунов А'], 'player2': ['Логунов А', 'Стригуцкий Д', 'Сидорков А', 'Гиленков Е', 'Сидорков А', 'Стригуцкий Д'], 'score': ['- : -', '- : -', '- : -', '- : -', '- : -', '- : -'], 'url_match': ['games/324873', 'games/324874', 'games/324875', 'games/324876', 'games/324877', 'games/324878'], 'score_set': ['не сыгран', 'не сыгран', 'не сыгран', 'не сыгран', 'не сыгран', 'не сыгран']}\n",
      "{'table': 'А3', 'time': '12:00', 'player1': ['Суриков В', 'Гусев М', 'Лбов Ю', 'Савинский А', 'Суриков В', 'Лбов Ю'], 'player2': ['Лбов Ю', 'Савинский А', 'Гусев М', 'Суриков В', 'Гусев М', 'Савинский А'], 'score': ['- : -', '- : -', '- : -', '- : -', '- : -', '- : -'], 'url_match': ['games/324723', 'games/324724', 'games/324725', 'games/324726', 'games/324727', 'games/324728'], 'score_set': ['не сыгран', 'не сыгран', 'не сыгран', 'не сыгран', 'не сыгран', 'не сыгран']}\n",
      "{'table': 'А6', 'time': '11:45', 'player1': ['Ольшаков К', 'Морозов С', 'Молодых А', 'Туницын Д', 'Ольшаков К', 'Молодых А'], 'player2': ['Молодых А', 'Туницын Д', 'Морозов С', 'Ольшаков К', 'Морозов С', 'Туницын Д'], 'score': ['- : -', '- : -', '- : -', '- : -', '- : -', '- : -'], 'url_match': ['games/324815', 'games/324816', 'games/324817', 'games/324818', 'games/324819', 'games/324820'], 'score_set': ['не сыгран', 'не сыгран', 'не сыгран', 'не сыгран', 'не сыгран', 'не сыгран']}\n",
      "{'table': 'А4', 'time': '11:45', 'player1': ['Калашников Е', 'Рахмановский В', 'Либацкий А', 'Кутенков Д', 'Калашников Е', 'Либацкий А'], 'player2': ['Либацкий А', 'Кутенков Д', 'Рахмановский В', 'Калашников Е', 'Рахмановский В', 'Кутенков Д'], 'score': ['- : -', '- : -', '- : -', '- : -', '- : -', '- : -'], 'url_match': ['games/324747', 'games/324748', 'games/324749', 'games/324750', 'games/324751', 'games/324752'], 'score_set': ['не сыгран', 'не сыгран', 'не сыгран', 'не сыгран', 'не сыгран', 'не сыгран']}\n",
      "{'table': 'А5', 'time': '11:30', 'player1': ['Харлакин О', 'Константинов Д', 'Скомсков В', 'Янковский А', 'Харлакин О', 'Скомсков В'], 'player2': ['Скомсков В', 'Янковский А', 'Константинов Д', 'Харлакин О', 'Константинов Д', 'Янковский А'], 'score': ['- : -', '- : -', '- : -', '- : -', '- : -', '- : -'], 'url_match': ['games/324781', 'games/324782', 'games/324783', 'games/324784', 'games/324785', 'games/324786'], 'score_set': ['не сыгран', 'не сыгран', 'не сыгран', 'не сыгран', 'не сыгран', 'не сыгран']}\n",
      "{'table': 'А3', 'time': '08:00', 'player1': ['Давлитшин И', 'Мошников О', 'Белугин О', 'Кольмин А', 'Давлитшин И', 'Белугин О'], 'player2': ['Белугин О', 'Кольмин А', 'Мошников О', 'Давлитшин И', 'Мошников О', 'Кольмин А'], 'score': ['- : -', '- : -', '- : -', '- : -', '- : -', '- : -'], 'url_match': ['games/324717', 'games/324718', 'games/324719', 'games/324720', 'games/324721', 'games/324722'], 'score_set': ['не сыгран', 'не сыгран', 'не сыгран', 'не сыгран', 'не сыгран', 'не сыгран']}\n",
      "{'table': 'А15', 'time': '08:00', 'player1': ['Козлов В', 'Заворотынский К', 'Абдеев Р', 'Захаров Ю', 'Козлов В', 'Абдеев Р'], 'player2': ['Абдеев Р', 'Захаров Ю', 'Заворотынский К', 'Козлов В', 'Заворотынский К', 'Захаров Ю'], 'score': ['- : -', '- : -', '- : -', '- : -', '- : -', '- : -'], 'url_match': ['games/324867', 'games/324868', 'games/324869', 'games/324870', 'games/324871', 'games/324872'], 'score_set': ['не сыгран', 'не сыгран', 'не сыгран', 'не сыгран', 'не сыгран', 'не сыгран']}\n",
      "{'table': 'А6', 'time': '07:45', 'player1': ['Гаврилов Ю', 'Мартюхин С', 'Симонов С', 'Садовский Н', 'Гаврилов Ю', 'Симонов С'], 'player2': ['Симонов С', 'Садовский Н', 'Мартюхин С', 'Гаврилов Ю', 'Мартюхин С', 'Садовский Н'], 'score': ['- : -', '- : -', '- : -', '- : -', '- : -', '- : -'], 'url_match': ['games/324809', 'games/324810', 'games/324811', 'games/324812', 'games/324813', 'games/324814'], 'score_set': ['не сыгран', 'не сыгран', 'не сыгран', 'не сыгран', 'не сыгран', 'не сыгран']}\n",
      "{'table': 'А4', 'time': '07:45', 'player1': ['Галузинский С', 'Кустов Д', 'Кутузов О', 'Евлахин Д', 'Галузинский С', 'Кутузов О'], 'player2': ['Кутузов О', 'Евлахин Д', 'Кустов Д', 'Галузинский С', 'Кустов Д', 'Евлахин Д'], 'score': ['- : -', '- : -', '- : -', '- : -', '- : -', '- : -'], 'url_match': ['games/324741', 'games/324742', 'games/324743', 'games/324744', 'games/324745', 'games/324746'], 'score_set': ['не сыгран', 'не сыгран', 'не сыгран', 'не сыгран', 'не сыгран', 'не сыгран']}\n",
      "{'table': 'А5', 'time': '07:30', 'player1': ['Дворниченко Ю', 'Василевский К', 'Сергеевич И', 'Рохлин И', 'Дворниченко Ю', 'Сергеевич И'], 'player2': ['Сергеевич И', 'Рохлин И', 'Василевский К', 'Дворниченко Ю', 'Василевский К', 'Рохлин И'], 'score': ['- : -', '- : -', '- : -', '- : -', '- : -', '- : -'], 'url_match': ['games/324775', 'games/324776', 'games/324777', 'games/324778', 'games/324779', 'games/324780'], 'score_set': ['не сыгран', 'не сыгран', 'не сыгран', 'не сыгран', 'не сыгран', 'не сыгран']}\n"
     ]
    }
   ],
   "source": [
    "for el in tours:\n",
    "    print(el)"
   ]
  },
  {
   "cell_type": "code",
   "execution_count": 8,
   "metadata": {},
   "outputs": [
    {
     "name": "stderr",
     "output_type": "stream",
     "text": [
      "C:\\Users\\Lenovo\\AppData\\Local\\Temp\\ipykernel_1452\\4205032851.py:4: FutureWarning: The frame.append method is deprecated and will be removed from pandas in a future version. Use pandas.concat instead.\n",
      "  df = df.append(df_el, ignore_index=True)\n",
      "C:\\Users\\Lenovo\\AppData\\Local\\Temp\\ipykernel_1452\\4205032851.py:4: FutureWarning: The frame.append method is deprecated and will be removed from pandas in a future version. Use pandas.concat instead.\n",
      "  df = df.append(df_el, ignore_index=True)\n",
      "C:\\Users\\Lenovo\\AppData\\Local\\Temp\\ipykernel_1452\\4205032851.py:4: FutureWarning: The frame.append method is deprecated and will be removed from pandas in a future version. Use pandas.concat instead.\n",
      "  df = df.append(df_el, ignore_index=True)\n",
      "C:\\Users\\Lenovo\\AppData\\Local\\Temp\\ipykernel_1452\\4205032851.py:4: FutureWarning: The frame.append method is deprecated and will be removed from pandas in a future version. Use pandas.concat instead.\n",
      "  df = df.append(df_el, ignore_index=True)\n",
      "C:\\Users\\Lenovo\\AppData\\Local\\Temp\\ipykernel_1452\\4205032851.py:4: FutureWarning: The frame.append method is deprecated and will be removed from pandas in a future version. Use pandas.concat instead.\n",
      "  df = df.append(df_el, ignore_index=True)\n",
      "C:\\Users\\Lenovo\\AppData\\Local\\Temp\\ipykernel_1452\\4205032851.py:4: FutureWarning: The frame.append method is deprecated and will be removed from pandas in a future version. Use pandas.concat instead.\n",
      "  df = df.append(df_el, ignore_index=True)\n",
      "C:\\Users\\Lenovo\\AppData\\Local\\Temp\\ipykernel_1452\\4205032851.py:4: FutureWarning: The frame.append method is deprecated and will be removed from pandas in a future version. Use pandas.concat instead.\n",
      "  df = df.append(df_el, ignore_index=True)\n",
      "C:\\Users\\Lenovo\\AppData\\Local\\Temp\\ipykernel_1452\\4205032851.py:4: FutureWarning: The frame.append method is deprecated and will be removed from pandas in a future version. Use pandas.concat instead.\n",
      "  df = df.append(df_el, ignore_index=True)\n",
      "C:\\Users\\Lenovo\\AppData\\Local\\Temp\\ipykernel_1452\\4205032851.py:4: FutureWarning: The frame.append method is deprecated and will be removed from pandas in a future version. Use pandas.concat instead.\n",
      "  df = df.append(df_el, ignore_index=True)\n",
      "C:\\Users\\Lenovo\\AppData\\Local\\Temp\\ipykernel_1452\\4205032851.py:4: FutureWarning: The frame.append method is deprecated and will be removed from pandas in a future version. Use pandas.concat instead.\n",
      "  df = df.append(df_el, ignore_index=True)\n",
      "C:\\Users\\Lenovo\\AppData\\Local\\Temp\\ipykernel_1452\\4205032851.py:4: FutureWarning: The frame.append method is deprecated and will be removed from pandas in a future version. Use pandas.concat instead.\n",
      "  df = df.append(df_el, ignore_index=True)\n",
      "C:\\Users\\Lenovo\\AppData\\Local\\Temp\\ipykernel_1452\\4205032851.py:4: FutureWarning: The frame.append method is deprecated and will be removed from pandas in a future version. Use pandas.concat instead.\n",
      "  df = df.append(df_el, ignore_index=True)\n",
      "C:\\Users\\Lenovo\\AppData\\Local\\Temp\\ipykernel_1452\\4205032851.py:4: FutureWarning: The frame.append method is deprecated and will be removed from pandas in a future version. Use pandas.concat instead.\n",
      "  df = df.append(df_el, ignore_index=True)\n",
      "C:\\Users\\Lenovo\\AppData\\Local\\Temp\\ipykernel_1452\\4205032851.py:4: FutureWarning: The frame.append method is deprecated and will be removed from pandas in a future version. Use pandas.concat instead.\n",
      "  df = df.append(df_el, ignore_index=True)\n",
      "C:\\Users\\Lenovo\\AppData\\Local\\Temp\\ipykernel_1452\\4205032851.py:4: FutureWarning: The frame.append method is deprecated and will be removed from pandas in a future version. Use pandas.concat instead.\n",
      "  df = df.append(df_el, ignore_index=True)\n",
      "C:\\Users\\Lenovo\\AppData\\Local\\Temp\\ipykernel_1452\\4205032851.py:4: FutureWarning: The frame.append method is deprecated and will be removed from pandas in a future version. Use pandas.concat instead.\n",
      "  df = df.append(df_el, ignore_index=True)\n",
      "C:\\Users\\Lenovo\\AppData\\Local\\Temp\\ipykernel_1452\\4205032851.py:4: FutureWarning: The frame.append method is deprecated and will be removed from pandas in a future version. Use pandas.concat instead.\n",
      "  df = df.append(df_el, ignore_index=True)\n",
      "C:\\Users\\Lenovo\\AppData\\Local\\Temp\\ipykernel_1452\\4205032851.py:4: FutureWarning: The frame.append method is deprecated and will be removed from pandas in a future version. Use pandas.concat instead.\n",
      "  df = df.append(df_el, ignore_index=True)\n",
      "C:\\Users\\Lenovo\\AppData\\Local\\Temp\\ipykernel_1452\\4205032851.py:4: FutureWarning: The frame.append method is deprecated and will be removed from pandas in a future version. Use pandas.concat instead.\n",
      "  df = df.append(df_el, ignore_index=True)\n",
      "C:\\Users\\Lenovo\\AppData\\Local\\Temp\\ipykernel_1452\\4205032851.py:4: FutureWarning: The frame.append method is deprecated and will be removed from pandas in a future version. Use pandas.concat instead.\n",
      "  df = df.append(df_el, ignore_index=True)\n",
      "C:\\Users\\Lenovo\\AppData\\Local\\Temp\\ipykernel_1452\\4205032851.py:4: FutureWarning: The frame.append method is deprecated and will be removed from pandas in a future version. Use pandas.concat instead.\n",
      "  df = df.append(df_el, ignore_index=True)\n",
      "C:\\Users\\Lenovo\\AppData\\Local\\Temp\\ipykernel_1452\\4205032851.py:4: FutureWarning: The frame.append method is deprecated and will be removed from pandas in a future version. Use pandas.concat instead.\n",
      "  df = df.append(df_el, ignore_index=True)\n",
      "C:\\Users\\Lenovo\\AppData\\Local\\Temp\\ipykernel_1452\\4205032851.py:4: FutureWarning: The frame.append method is deprecated and will be removed from pandas in a future version. Use pandas.concat instead.\n",
      "  df = df.append(df_el, ignore_index=True)\n",
      "C:\\Users\\Lenovo\\AppData\\Local\\Temp\\ipykernel_1452\\4205032851.py:4: FutureWarning: The frame.append method is deprecated and will be removed from pandas in a future version. Use pandas.concat instead.\n",
      "  df = df.append(df_el, ignore_index=True)\n"
     ]
    }
   ],
   "source": [
    "df = pd.DataFrame(columns=['player1', 'player2', 'score', 'url_match', 'score_set'])\n",
    "for el in tours:\n",
    "    df_el = pd.DataFrame(el)\n",
    "    df = df.append(df_el, ignore_index=True)\n",
    "df['url_match'] = url + df['url_match']"
   ]
  },
  {
   "cell_type": "code",
   "execution_count": 9,
   "metadata": {},
   "outputs": [
    {
     "data": {
      "text/html": [
       "<div>\n",
       "<style scoped>\n",
       "    .dataframe tbody tr th:only-of-type {\n",
       "        vertical-align: middle;\n",
       "    }\n",
       "\n",
       "    .dataframe tbody tr th {\n",
       "        vertical-align: top;\n",
       "    }\n",
       "\n",
       "    .dataframe thead th {\n",
       "        text-align: right;\n",
       "    }\n",
       "</style>\n",
       "<table border=\"1\" class=\"dataframe\">\n",
       "  <thead>\n",
       "    <tr style=\"text-align: right;\">\n",
       "      <th></th>\n",
       "      <th>player1</th>\n",
       "      <th>player2</th>\n",
       "      <th>score</th>\n",
       "      <th>url_match</th>\n",
       "      <th>score_set</th>\n",
       "      <th>table</th>\n",
       "      <th>time</th>\n",
       "    </tr>\n",
       "  </thead>\n",
       "  <tbody>\n",
       "    <tr>\n",
       "      <th>0</th>\n",
       "      <td>Обухов В</td>\n",
       "      <td>Мамека М</td>\n",
       "      <td>- : -</td>\n",
       "      <td>https://tt.sport-liga.pro/games/324833</td>\n",
       "      <td>не сыгран</td>\n",
       "      <td>А6</td>\n",
       "      <td>23:45</td>\n",
       "    </tr>\n",
       "    <tr>\n",
       "      <th>1</th>\n",
       "      <td>Илюхин Е</td>\n",
       "      <td>Анисимов Е</td>\n",
       "      <td>- : -</td>\n",
       "      <td>https://tt.sport-liga.pro/games/324834</td>\n",
       "      <td>не сыгран</td>\n",
       "      <td>А6</td>\n",
       "      <td>23:45</td>\n",
       "    </tr>\n",
       "    <tr>\n",
       "      <th>2</th>\n",
       "      <td>Мамека М</td>\n",
       "      <td>Кутузов О</td>\n",
       "      <td>- : -</td>\n",
       "      <td>https://tt.sport-liga.pro/games/324835</td>\n",
       "      <td>не сыгран</td>\n",
       "      <td>А6</td>\n",
       "      <td>23:45</td>\n",
       "    </tr>\n",
       "    <tr>\n",
       "      <th>3</th>\n",
       "      <td>Обухов В</td>\n",
       "      <td>Илюхин Е</td>\n",
       "      <td>- : -</td>\n",
       "      <td>https://tt.sport-liga.pro/games/324836</td>\n",
       "      <td>не сыгран</td>\n",
       "      <td>А6</td>\n",
       "      <td>23:45</td>\n",
       "    </tr>\n",
       "    <tr>\n",
       "      <th>4</th>\n",
       "      <td>Кутузов О</td>\n",
       "      <td>Анисимов Е</td>\n",
       "      <td>- : -</td>\n",
       "      <td>https://tt.sport-liga.pro/games/324837</td>\n",
       "      <td>не сыгран</td>\n",
       "      <td>А6</td>\n",
       "      <td>23:45</td>\n",
       "    </tr>\n",
       "    <tr>\n",
       "      <th>...</th>\n",
       "      <td>...</td>\n",
       "      <td>...</td>\n",
       "      <td>...</td>\n",
       "      <td>...</td>\n",
       "      <td>...</td>\n",
       "      <td>...</td>\n",
       "      <td>...</td>\n",
       "    </tr>\n",
       "    <tr>\n",
       "      <th>151</th>\n",
       "      <td>Василевский К</td>\n",
       "      <td>Рохлин И</td>\n",
       "      <td>- : -</td>\n",
       "      <td>https://tt.sport-liga.pro/games/324776</td>\n",
       "      <td>не сыгран</td>\n",
       "      <td>А5</td>\n",
       "      <td>07:30</td>\n",
       "    </tr>\n",
       "    <tr>\n",
       "      <th>152</th>\n",
       "      <td>Сергеевич И</td>\n",
       "      <td>Василевский К</td>\n",
       "      <td>- : -</td>\n",
       "      <td>https://tt.sport-liga.pro/games/324777</td>\n",
       "      <td>не сыгран</td>\n",
       "      <td>А5</td>\n",
       "      <td>07:30</td>\n",
       "    </tr>\n",
       "    <tr>\n",
       "      <th>153</th>\n",
       "      <td>Рохлин И</td>\n",
       "      <td>Дворниченко Ю</td>\n",
       "      <td>- : -</td>\n",
       "      <td>https://tt.sport-liga.pro/games/324778</td>\n",
       "      <td>не сыгран</td>\n",
       "      <td>А5</td>\n",
       "      <td>07:30</td>\n",
       "    </tr>\n",
       "    <tr>\n",
       "      <th>154</th>\n",
       "      <td>Дворниченко Ю</td>\n",
       "      <td>Василевский К</td>\n",
       "      <td>- : -</td>\n",
       "      <td>https://tt.sport-liga.pro/games/324779</td>\n",
       "      <td>не сыгран</td>\n",
       "      <td>А5</td>\n",
       "      <td>07:30</td>\n",
       "    </tr>\n",
       "    <tr>\n",
       "      <th>155</th>\n",
       "      <td>Сергеевич И</td>\n",
       "      <td>Рохлин И</td>\n",
       "      <td>- : -</td>\n",
       "      <td>https://tt.sport-liga.pro/games/324780</td>\n",
       "      <td>не сыгран</td>\n",
       "      <td>А5</td>\n",
       "      <td>07:30</td>\n",
       "    </tr>\n",
       "  </tbody>\n",
       "</table>\n",
       "<p>156 rows × 7 columns</p>\n",
       "</div>"
      ],
      "text/plain": [
       "           player1        player2  score  \\\n",
       "0         Обухов В       Мамека М  - : -   \n",
       "1         Илюхин Е     Анисимов Е  - : -   \n",
       "2         Мамека М      Кутузов О  - : -   \n",
       "3         Обухов В       Илюхин Е  - : -   \n",
       "4        Кутузов О     Анисимов Е  - : -   \n",
       "..             ...            ...    ...   \n",
       "151  Василевский К       Рохлин И  - : -   \n",
       "152    Сергеевич И  Василевский К  - : -   \n",
       "153       Рохлин И  Дворниченко Ю  - : -   \n",
       "154  Дворниченко Ю  Василевский К  - : -   \n",
       "155    Сергеевич И       Рохлин И  - : -   \n",
       "\n",
       "                                  url_match  score_set table   time  \n",
       "0    https://tt.sport-liga.pro/games/324833  не сыгран    А6  23:45  \n",
       "1    https://tt.sport-liga.pro/games/324834  не сыгран    А6  23:45  \n",
       "2    https://tt.sport-liga.pro/games/324835  не сыгран    А6  23:45  \n",
       "3    https://tt.sport-liga.pro/games/324836  не сыгран    А6  23:45  \n",
       "4    https://tt.sport-liga.pro/games/324837  не сыгран    А6  23:45  \n",
       "..                                      ...        ...   ...    ...  \n",
       "151  https://tt.sport-liga.pro/games/324776  не сыгран    А5  07:30  \n",
       "152  https://tt.sport-liga.pro/games/324777  не сыгран    А5  07:30  \n",
       "153  https://tt.sport-liga.pro/games/324778  не сыгран    А5  07:30  \n",
       "154  https://tt.sport-liga.pro/games/324779  не сыгран    А5  07:30  \n",
       "155  https://tt.sport-liga.pro/games/324780  не сыгран    А5  07:30  \n",
       "\n",
       "[156 rows x 7 columns]"
      ]
     },
     "execution_count": 9,
     "metadata": {},
     "output_type": "execute_result"
    }
   ],
   "source": [
    "df"
   ]
  },
  {
   "cell_type": "code",
   "execution_count": 10,
   "metadata": {},
   "outputs": [],
   "source": [
    "df.to_csv(f'tours_{date}.csv', index=False)"
   ]
  },
  {
   "cell_type": "code",
   "execution_count": 11,
   "metadata": {},
   "outputs": [
    {
     "data": {
      "text/html": [
       "<div>\n",
       "<style scoped>\n",
       "    .dataframe tbody tr th:only-of-type {\n",
       "        vertical-align: middle;\n",
       "    }\n",
       "\n",
       "    .dataframe tbody tr th {\n",
       "        vertical-align: top;\n",
       "    }\n",
       "\n",
       "    .dataframe thead th {\n",
       "        text-align: right;\n",
       "    }\n",
       "</style>\n",
       "<table border=\"1\" class=\"dataframe\">\n",
       "  <thead>\n",
       "    <tr style=\"text-align: right;\">\n",
       "      <th></th>\n",
       "      <th>player1</th>\n",
       "      <th>player2</th>\n",
       "      <th>score</th>\n",
       "      <th>url_match</th>\n",
       "      <th>score_set</th>\n",
       "      <th>table</th>\n",
       "      <th>time</th>\n",
       "    </tr>\n",
       "  </thead>\n",
       "  <tbody>\n",
       "  </tbody>\n",
       "</table>\n",
       "</div>"
      ],
      "text/plain": [
       "Empty DataFrame\n",
       "Columns: [player1, player2, score, url_match, score_set, table, time]\n",
       "Index: []"
      ]
     },
     "execution_count": 11,
     "metadata": {},
     "output_type": "execute_result"
    }
   ],
   "source": [
    "ta = input('Выберите стол: ')\n",
    "\n",
    "df = df[df['table'] == ta]\n",
    "df = df[df['time'] > '15']\n",
    "df = df[df['time'] <= '20']\n",
    "df"
   ]
  },
  {
   "cell_type": "code",
   "execution_count": 12,
   "metadata": {},
   "outputs": [],
   "source": [
    "df.to_csv(f'tours_{date}_change.csv', index=False)"
   ]
  },
  {
   "cell_type": "code",
   "execution_count": 13,
   "metadata": {},
   "outputs": [
    {
     "data": {
      "text/plain": [
       "Series([], Name: url_match, dtype: object)"
      ]
     },
     "execution_count": 13,
     "metadata": {},
     "output_type": "execute_result"
    }
   ],
   "source": [
    "df['url_match']"
   ]
  }
 ],
 "metadata": {
  "kernelspec": {
   "display_name": "Python 3",
   "language": "python",
   "name": "python3"
  },
  "language_info": {
   "codemirror_mode": {
    "name": "ipython",
    "version": 3
   },
   "file_extension": ".py",
   "mimetype": "text/x-python",
   "name": "python",
   "nbconvert_exporter": "python",
   "pygments_lexer": "ipython3",
   "version": "3.10.9"
  }
 },
 "nbformat": 4,
 "nbformat_minor": 2
}
