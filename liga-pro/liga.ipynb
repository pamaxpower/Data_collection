{
 "cells": [
  {
   "cell_type": "code",
   "execution_count": 1,
   "metadata": {},
   "outputs": [],
   "source": [
    "import requests\n",
    "from bs4 import BeautifulSoup\n",
    "from fake_useragent import UserAgent\n",
    "from pprint import pprint\n",
    "from lxml import html\n",
    "from pymongo import MongoClient"
   ]
  },
  {
   "cell_type": "code",
   "execution_count": 2,
   "metadata": {},
   "outputs": [
    {
     "data": {
      "text/plain": [
       "'Mozilla/5.0 (iPhone; CPU iPhone OS 17_0_2 like Mac OS X) AppleWebKit/605.1.15 (KHTML, like Gecko) Version/17.0 Mobile/15E148 Safari/604.1 Ddg/17.0'"
      ]
     },
     "execution_count": 2,
     "metadata": {},
     "output_type": "execute_result"
    }
   ],
   "source": [
    "ua = UserAgent()\n",
    "ua.safari"
   ]
  },
  {
   "cell_type": "code",
   "execution_count": 3,
   "metadata": {},
   "outputs": [],
   "source": [
    "url_1 = 'https://tt.sport-liga.pro/'\n",
    "\n",
    "headers = {\n",
    "    \"User-Agent\": ua.safari}\n",
    "\n",
    "params = {\n",
    "    'year': '2024',\n",
    "    'month': '05',\n",
    "    'day': '15'\n",
    "}\n",
    "\n",
    "session = requests.Session()"
   ]
  },
  {
   "cell_type": "code",
   "execution_count": 4,
   "metadata": {},
   "outputs": [],
   "source": [
    "response = session.get(url_1+'tours/', params=params, headers=headers)\n",
    "if response.status_code < 400:\n",
    "    soup = BeautifulSoup(response.text, 'html.parser')\n",
    "else:\n",
    "    print('Что-то пошло не так')"
   ]
  },
  {
   "cell_type": "code",
   "execution_count": 5,
   "metadata": {},
   "outputs": [
    {
     "data": {
      "text/plain": [
       "[<tr>\n",
       " <td class=\"tournament-date\" style=\"min-width: 100px;\">15 Мая (срд)  23:45</td>\n",
       " <td class=\"tournament-name\"><a href=\"tours/34363\">Турнир А6. лига 500-550</a></td>\n",
       " <td class=\"tournament-icon\"><a class=\"icon icon-members\" href=\"tours/34363\" title=\"кол-во участников\">5</a></td>\n",
       " <td><a class=\"all-page medal icon-gold\" href=\"players/314\"><img alt=\"\" class=\"userpic\" src=\"../../upload/img/ru/players/mini_314.jpg\"/>Игнатьев Дмитрий (<span class=\"username\">Dm_itry</span>)</a></td>\n",
       " </tr>,\n",
       " <tr>\n",
       " <td class=\"tournament-date\" style=\"min-width: 100px;\">15 Мая (срд)  23:45</td>\n",
       " <td class=\"tournament-name\"><a href=\"tours/34353\">Турнир А4. лига 400-450</a></td>\n",
       " <td class=\"tournament-icon\"><a class=\"icon icon-members\" href=\"tours/34353\" title=\"кол-во участников\">5</a></td>\n",
       " <td><a class=\"all-page medal icon-gold\" href=\"players/1440\"><img alt=\"\" class=\"userpic\" src=\"../../upload/img/ru/players/mini_1440.jpg\"/>Михайлов Игорь (<span class=\"username\">Garri</span>)</a></td>\n",
       " </tr>,\n",
       " <tr>\n",
       " <td class=\"tournament-date\" style=\"min-width: 100px;\">15 Мая (срд)  23:30</td>\n",
       " <td class=\"tournament-name\"><a href=\"tours/34358\">Турнир А5. лига 450-500</a></td>\n",
       " <td class=\"tournament-icon\"><a class=\"icon icon-members\" href=\"tours/34358\" title=\"кол-во участников\">5</a></td>\n",
       " <td><a class=\"all-page medal icon-gold\" href=\"players/3214\"><img alt=\"\" class=\"userpic\" src=\"../../upload/img/ru/players/mini_3214.jpg\"/>Тарасенков Николай</a></td>\n",
       " </tr>,\n",
       " <tr>\n",
       " <td class=\"tournament-date\" style=\"min-width: 100px;\">15 Мая (срд)  20:00</td>\n",
       " <td class=\"tournament-name\"><a href=\"tours/34364\">Турнир А9. лига 900-1000</a></td>\n",
       " <td class=\"tournament-icon\"><a class=\"icon icon-members\" href=\"tours/34364\" title=\"кол-во участников\">4</a></td>\n",
       " <td><a class=\"all-page medal icon-gold\" href=\"players/559\"><img alt=\"\" class=\"userpic\" src=\"../../upload/img/ru/players/mini_559.jpg\"/>Дедов Василий (<span class=\"username\">dedovvasil</span>)</a></td>\n",
       " </tr>,\n",
       " <tr>\n",
       " <td class=\"tournament-date\" style=\"min-width: 100px;\">15 Мая (срд)  20:00</td>\n",
       " <td class=\"tournament-name\"><a href=\"tours/34348\">Турнир А3. лига 350-400</a></td>\n",
       " <td class=\"tournament-icon\"><a class=\"icon icon-members\" href=\"tours/34348\" title=\"кол-во участников\">4</a></td>\n",
       " <td><a class=\"all-page medal icon-gold\" href=\"players/7494\"><img alt=\"\" class=\"userpic\" src=\"../../upload/img/ru/players/mini_7494.jpg\"/>Самоха Евгений</a></td>\n",
       " </tr>,\n",
       " <tr>\n",
       " <td class=\"tournament-date\" style=\"min-width: 100px;\">15 Мая (срд)  20:00</td>\n",
       " <td class=\"tournament-name\"><a href=\"tours/34344\">Турнир А15. лига 500-550. Минск</a></td>\n",
       " <td class=\"tournament-icon\"><a class=\"icon icon-members\" href=\"tours/34344\" title=\"кол-во участников\">4</a></td>\n",
       " <td><a class=\"all-page medal icon-gold\" href=\"players/7123\"><img alt=\"\" class=\"userpic\" src=\"../../upload/img/ru/players/mini_7123.jpg\"/>Ляльков Виталий</a></td>\n",
       " </tr>,\n",
       " <tr>\n",
       " <td class=\"tournament-date\" style=\"min-width: 100px;\">15 Мая (срд)  19:45</td>\n",
       " <td class=\"tournament-name\"><a href=\"tours/34362\">Турнир А6. лига 800-900</a></td>\n",
       " <td class=\"tournament-icon\"><a class=\"icon icon-members\" href=\"tours/34362\" title=\"кол-во участников\">4</a></td>\n",
       " <td><a class=\"all-page medal icon-gold\" href=\"players/4388\"><img alt=\"\" class=\"userpic\" src=\"../../upload/img/ru/players/mini_4388.jpg\"/>Евлампиев Вадим</a></td>\n",
       " </tr>,\n",
       " <tr>\n",
       " <td class=\"tournament-date\" style=\"min-width: 100px;\">15 Мая (срд)  19:45</td>\n",
       " <td class=\"tournament-name\"><a href=\"tours/34352\">Турнир А4. лига 600-700</a></td>\n",
       " <td class=\"tournament-icon\"><a class=\"icon icon-members\" href=\"tours/34352\" title=\"кол-во участников\">4</a></td>\n",
       " <td><a class=\"all-page medal icon-gold\" href=\"players/7194\"><img alt=\"\" class=\"userpic\" src=\"../../upload/img/ru/players/mini_7194.jpg\"/>Шкурко Артем</a></td>\n",
       " </tr>,\n",
       " <tr>\n",
       " <td class=\"tournament-date\" style=\"min-width: 100px;\">15 Мая (срд)  19:30</td>\n",
       " <td class=\"tournament-name\"><a href=\"tours/34357\">Турнир А5. лига 300-350</a></td>\n",
       " <td class=\"tournament-icon\"><a class=\"icon icon-members\" href=\"tours/34357\" title=\"кол-во участников\">4</a></td>\n",
       " <td><a class=\"all-page medal icon-gold\" href=\"players/2287\"><img alt=\"\" class=\"userpic\" src=\"../../upload/img/ru/players/mini_2287.jpg\"/>Яковлев Андрей (<span class=\"username\">Сокол</span>)</a></td>\n",
       " </tr>,\n",
       " <tr>\n",
       " <td class=\"tournament-date\" style=\"min-width: 100px;\">15 Мая (срд)  16:00</td>\n",
       " <td class=\"tournament-name\"><a href=\"tours/34347\">Турнир А3. лига 400-450</a></td>\n",
       " <td class=\"tournament-icon\"><a class=\"icon icon-members\" href=\"tours/34347\" title=\"кол-во участников\">4</a></td>\n",
       " <td><a class=\"all-page medal icon-gold\" href=\"players/2364\"><img alt=\"\" class=\"userpic\" src=\"../../upload/img/ru/players/mini_2364.jpg\"/>Савинский Александр (<span class=\"username\">aist70</span>)</a></td>\n",
       " </tr>,\n",
       " <tr>\n",
       " <td class=\"tournament-date\" style=\"min-width: 100px;\">15 Мая (срд)  16:00</td>\n",
       " <td class=\"tournament-name\"><a href=\"tours/34343\">Турнир А15. лига 600-700. Минск</a></td>\n",
       " <td class=\"tournament-icon\"><a class=\"icon icon-members\" href=\"tours/34343\" title=\"кол-во участников\">4</a></td>\n",
       " <td><a class=\"all-page medal icon-gold\" href=\"players/6662\"><img alt=\"\" class=\"userpic\" src=\"../../upload/img/ru/players/mini_6662.jpg\"/>Кошель Владимир (<span class=\"username\">Extremer79</span>)</a></td>\n",
       " </tr>,\n",
       " <tr>\n",
       " <td class=\"tournament-date\" style=\"min-width: 100px;\">15 Мая (срд)  15:45</td>\n",
       " <td class=\"tournament-name\"><a href=\"tours/34351\">Турнир А4. лига 450-500</a></td>\n",
       " <td class=\"tournament-icon\"><a class=\"icon icon-members\" href=\"tours/34351\" title=\"кол-во участников\">4</a></td>\n",
       " <td><a class=\"all-page medal icon-gold\" href=\"players/6592\"><img alt=\"\" class=\"userpic\" src=\"../../upload/img/ru/players/mini_6592.jpg\"/>Пузырев Сергей</a></td>\n",
       " </tr>,\n",
       " <tr>\n",
       " <td class=\"tournament-date\" style=\"min-width: 100px;\">15 Мая (срд)  15:45</td>\n",
       " <td class=\"tournament-name\"><a href=\"tours/34361\">Турнир А6. лига 250-300</a></td>\n",
       " <td class=\"tournament-icon\"><a class=\"icon icon-members\" href=\"tours/34361\" title=\"кол-во участников\">4</a></td>\n",
       " <td><a class=\"all-page medal icon-gold\" href=\"players/7177\"><img alt=\"\" class=\"userpic\" src=\"../../upload/img/ru/players/mini_7177.jpg\"/>Смолин Евгений (<span class=\"username\">Smolin</span>)</a></td>\n",
       " </tr>,\n",
       " <tr>\n",
       " <td class=\"tournament-date\" style=\"min-width: 100px;\">15 Мая (срд)  15:30</td>\n",
       " <td class=\"tournament-name\"><a href=\"tours/34356\">Турнир А5. лига 300-350</a></td>\n",
       " <td class=\"tournament-icon\"><a class=\"icon icon-members\" href=\"tours/34356\" title=\"кол-во участников\">4</a></td>\n",
       " <td><a class=\"all-page medal icon-gold\" href=\"players/7189\"><img alt=\"\" class=\"userpic\" src=\"../../upload/img/ru/players/mini_7189.jpg\"/>Мошников Олег</a></td>\n",
       " </tr>,\n",
       " <tr>\n",
       " <td class=\"tournament-date\" style=\"min-width: 100px;\">15 Мая (срд)  12:00</td>\n",
       " <td class=\"tournament-name\"><a href=\"tours/34342\">Турнир А15. лига 600-700. Минск</a></td>\n",
       " <td class=\"tournament-icon\"><a class=\"icon icon-members\" href=\"tours/34342\" title=\"кол-во участников\">4</a></td>\n",
       " <td><a class=\"all-page medal icon-gold\" href=\"players/7947\"><img alt=\"\" class=\"userpic\" src=\"../../upload/img/ru/players/mini_7947.jpg\"/>Кулагин Алексей</a></td>\n",
       " </tr>,\n",
       " <tr>\n",
       " <td class=\"tournament-date\" style=\"min-width: 100px;\">15 Мая (срд)  12:00</td>\n",
       " <td class=\"tournament-name\"><a href=\"tours/34346\">Турнир А3. лига 400-450</a></td>\n",
       " <td class=\"tournament-icon\"><a class=\"icon icon-members\" href=\"tours/34346\" title=\"кол-во участников\">4</a></td>\n",
       " <td><a class=\"all-page medal icon-gold\" href=\"players/6264\"><img alt=\"\" class=\"userpic\" src=\"../../upload/img/ru/players/mini_6264.jpg\"/>Беспалов Никита (<span class=\"username\">Dabada44</span>)</a></td>\n",
       " </tr>,\n",
       " <tr>\n",
       " <td class=\"tournament-date\" style=\"min-width: 100px;\">15 Мая (срд)  11:45</td>\n",
       " <td class=\"tournament-name\"><a href=\"tours/34350\">Турнир А4. лига 600-700</a></td>\n",
       " <td class=\"tournament-icon\"><a class=\"icon icon-members\" href=\"tours/34350\" title=\"кол-во участников\">4</a></td>\n",
       " <td><a class=\"all-page medal icon-gold\" href=\"players/6630\"><img alt=\"\" class=\"userpic\" src=\"../../upload/img/ru/players/mini_6630.jpg\"/>Рахмановский Виктор</a></td>\n",
       " </tr>,\n",
       " <tr>\n",
       " <td class=\"tournament-date\" style=\"min-width: 100px;\">15 Мая (срд)  11:45</td>\n",
       " <td class=\"tournament-name\"><a href=\"tours/34360\">Турнир А6. лига 700-800</a></td>\n",
       " <td class=\"tournament-icon\"><a class=\"icon icon-members\" href=\"tours/34360\" title=\"кол-во участников\">4</a></td>\n",
       " <td><a class=\"all-page medal icon-gold\" href=\"players/1443\"><img alt=\"\" class=\"userpic\" src=\"../../upload/img/ru/players/mini_1443.jpg\"/>Туницын Дмитрий (<span class=\"username\">Adge21</span>)</a></td>\n",
       " </tr>,\n",
       " <tr>\n",
       " <td class=\"tournament-date\" style=\"min-width: 100px;\">15 Мая (срд)  11:30</td>\n",
       " <td class=\"tournament-name\"><a href=\"tours/34355\">Турнир А5. лига 350-400</a></td>\n",
       " <td class=\"tournament-icon\"><a class=\"icon icon-members\" href=\"tours/34355\" title=\"кол-во участников\">4</a></td>\n",
       " <td><a class=\"all-page medal icon-gold\" href=\"players/8661\"><img alt=\"\" class=\"userpic\" src=\"../../upload/img/ru/players/mini_8661.jpg\"/>Мареев Никита (<span class=\"username\">YourfaultXd</span>)</a></td>\n",
       " </tr>,\n",
       " <tr>\n",
       " <td class=\"tournament-date\" style=\"min-width: 100px;\">15 Мая (срд)  08:00</td>\n",
       " <td class=\"tournament-name\"><a href=\"tours/34345\">Турнир А3. лига 300-350</a></td>\n",
       " <td class=\"tournament-icon\"><a class=\"icon icon-members\" href=\"tours/34345\" title=\"кол-во участников\">4</a></td>\n",
       " <td><a class=\"all-page medal icon-gold\" href=\"players/2688\"><img alt=\"\" class=\"userpic\" src=\"../../upload/img/ru/players/mini_2688.jpg\"/>Ханевский Андрей (<span class=\"username\">novembero</span>)</a></td>\n",
       " </tr>,\n",
       " <tr>\n",
       " <td class=\"tournament-date\" style=\"min-width: 100px;\">15 Мая (срд)  08:00</td>\n",
       " <td class=\"tournament-name\"><a href=\"tours/34341\">Турнир А15. лига 400-450. Минск</a></td>\n",
       " <td class=\"tournament-icon\"><a class=\"icon icon-members\" href=\"tours/34341\" title=\"кол-во участников\">4</a></td>\n",
       " <td><a class=\"all-page medal icon-gold\" href=\"players/8944\"><img alt=\"\" class=\"userpic\" src=\"../../upload/img/ru/players/mini_8944.jpg\"/>Абдеев Рустам</a></td>\n",
       " </tr>,\n",
       " <tr>\n",
       " <td class=\"tournament-date\" style=\"min-width: 100px;\">15 Мая (срд)  07:45</td>\n",
       " <td class=\"tournament-name\"><a href=\"tours/34359\">Турнир А6. лига 700-800</a></td>\n",
       " <td class=\"tournament-icon\"><a class=\"icon icon-members\" href=\"tours/34359\" title=\"кол-во участников\">4</a></td>\n",
       " <td><a class=\"all-page medal icon-gold\" href=\"players/7661\"><img alt=\"\" class=\"userpic\" src=\"../../upload/img/ru/players/mini_7661.jpg\"/>Молодых Андрей (<span class=\"username\">2544</span>)</a></td>\n",
       " </tr>,\n",
       " <tr>\n",
       " <td class=\"tournament-date\" style=\"min-width: 100px;\">15 Мая (срд)  07:45</td>\n",
       " <td class=\"tournament-name\"><a href=\"tours/34349\">Турнир А4. лига 500-550</a></td>\n",
       " <td class=\"tournament-icon\"><a class=\"icon icon-members\" href=\"tours/34349\" title=\"кол-во участников\">4</a></td>\n",
       " <td><a class=\"all-page medal icon-gold\" href=\"players/5106\"><img alt=\"\" class=\"userpic\" src=\"../../upload/img/ru/players/mini_5106.jpg\"/>Евлахин Дмитрий</a></td>\n",
       " </tr>,\n",
       " <tr>\n",
       " <td class=\"tournament-date\" style=\"min-width: 100px;\">15 Мая (срд)  07:30</td>\n",
       " <td class=\"tournament-name\"><a href=\"tours/34354\">Турнир А5. лига 250-300</a></td>\n",
       " <td class=\"tournament-icon\"><a class=\"icon icon-members\" href=\"tours/34354\" title=\"кол-во участников\">4</a></td>\n",
       " <td><a class=\"all-page medal icon-gold\" href=\"players/8982\"><img alt=\"\" class=\"userpic\" src=\"../../upload/img/ru/players/mini_8982.jpg\"/>Щавелев Никита</a></td>\n",
       " </tr>]"
      ]
     },
     "execution_count": 5,
     "metadata": {},
     "output_type": "execute_result"
    }
   ],
   "source": [
    "table = soup.find('table', {'class': 'table'}).find_all('tr')[1:]\n",
    "table"
   ]
  },
  {
   "cell_type": "code",
   "execution_count": 6,
   "metadata": {},
   "outputs": [
    {
     "data": {
      "text/plain": [
       "24"
      ]
     },
     "execution_count": 6,
     "metadata": {},
     "output_type": "execute_result"
    }
   ],
   "source": [
    "len(table)"
   ]
  },
  {
   "cell_type": "code",
   "execution_count": 7,
   "metadata": {},
   "outputs": [
    {
     "data": {
      "text/plain": [
       "[{'tournament': 'А3',\n",
       "  'time': '20:00',\n",
       "  'ref': 'https://tt.sport-liga.pro/tours/34348'},\n",
       " {'tournament': 'А6',\n",
       "  'time': '19:45',\n",
       "  'ref': 'https://tt.sport-liga.pro/tours/34362'},\n",
       " {'tournament': 'А4',\n",
       "  'time': '19:45',\n",
       "  'ref': 'https://tt.sport-liga.pro/tours/34352'},\n",
       " {'tournament': 'А5',\n",
       "  'time': '19:30',\n",
       "  'ref': 'https://tt.sport-liga.pro/tours/34357'},\n",
       " {'tournament': 'А3',\n",
       "  'time': '16:00',\n",
       "  'ref': 'https://tt.sport-liga.pro/tours/34347'},\n",
       " {'tournament': 'А4',\n",
       "  'time': '15:45',\n",
       "  'ref': 'https://tt.sport-liga.pro/tours/34351'},\n",
       " {'tournament': 'А6',\n",
       "  'time': '15:45',\n",
       "  'ref': 'https://tt.sport-liga.pro/tours/34361'},\n",
       " {'tournament': 'А5',\n",
       "  'time': '15:30',\n",
       "  'ref': 'https://tt.sport-liga.pro/tours/34356'}]"
      ]
     },
     "execution_count": 7,
     "metadata": {},
     "output_type": "execute_result"
    }
   ],
   "source": [
    "my_match = []\n",
    "for i in range(len(table)):\n",
    "    \n",
    "    match = table[i]\n",
    "    time = match.find_all('td')[0].getText().split()[-1]\n",
    "    tournament = match.find_all('td')[1].getText().split('.')[0].split()[-1]\n",
    "    ref = match.find_all('td')[2].find('a').get('href')\n",
    "    if time in ['15:30', '15:45', '16:00', '19:30', '19:45', '20:00'] and tournament in ['А3', 'А4', 'А5', 'А6']:\n",
    "        match_list = {\n",
    "            'tournament': tournament,\n",
    "            'time': time,\n",
    "            'ref': url_1+ref\n",
    "        }\n",
    "\n",
    "        my_match.append(match_list)\n",
    "\n",
    "my_match"
   ]
  },
  {
   "cell_type": "code",
   "execution_count": 16,
   "metadata": {},
   "outputs": [
    {
     "data": {
      "text/plain": [
       "0    https://tt.sport-liga.pro/tours/34348\n",
       "1    https://tt.sport-liga.pro/tours/34362\n",
       "2    https://tt.sport-liga.pro/tours/34352\n",
       "3    https://tt.sport-liga.pro/tours/34357\n",
       "4    https://tt.sport-liga.pro/tours/34347\n",
       "5    https://tt.sport-liga.pro/tours/34351\n",
       "6    https://tt.sport-liga.pro/tours/34361\n",
       "7    https://tt.sport-liga.pro/tours/34356\n",
       "Name: ref, dtype: object"
      ]
     },
     "execution_count": 16,
     "metadata": {},
     "output_type": "execute_result"
    }
   ],
   "source": [
    "import pandas as pd\n",
    "df = pd.DataFrame(my_match)\n",
    "df['ref']"
   ]
  },
  {
   "cell_type": "code",
   "execution_count": 8,
   "metadata": {},
   "outputs": [
    {
     "name": "stdout",
     "output_type": "stream",
     "text": [
      "https://tt.sport-liga.pro/tours/34348\n",
      "https://tt.sport-liga.pro/tours/34362\n",
      "https://tt.sport-liga.pro/tours/34352\n",
      "https://tt.sport-liga.pro/tours/34357\n",
      "https://tt.sport-liga.pro/tours/34347\n",
      "https://tt.sport-liga.pro/tours/34351\n",
      "https://tt.sport-liga.pro/tours/34361\n",
      "https://tt.sport-liga.pro/tours/34356\n"
     ]
    }
   ],
   "source": [
    "for el_ref in my_match:\n",
    "    print(el_ref['ref'])"
   ]
  },
  {
   "cell_type": "code",
   "execution_count": 9,
   "metadata": {},
   "outputs": [],
   "source": [
    "response = session.get(url_1+'tours/', params=params, headers=headers)"
   ]
  },
  {
   "cell_type": "code",
   "execution_count": 10,
   "metadata": {},
   "outputs": [
    {
     "data": {
      "text/plain": [
       "200"
      ]
     },
     "execution_count": 10,
     "metadata": {},
     "output_type": "execute_result"
    }
   ],
   "source": [
    "response.status_code"
   ]
  },
  {
   "cell_type": "code",
   "execution_count": 11,
   "metadata": {},
   "outputs": [],
   "source": [
    "tree = html.fromstring(html=response.content)"
   ]
  },
  {
   "cell_type": "code",
   "execution_count": 12,
   "metadata": {},
   "outputs": [
    {
     "data": {
      "text/plain": [
       "[]"
      ]
     },
     "execution_count": 12,
     "metadata": {},
     "output_type": "execute_result"
    }
   ],
   "source": [
    "matches = tree.xpath('//table[@class=\"table\"]/tbody/tr')\n",
    "matches"
   ]
  }
 ],
 "metadata": {
  "kernelspec": {
   "display_name": "Python 3",
   "language": "python",
   "name": "python3"
  },
  "language_info": {
   "codemirror_mode": {
    "name": "ipython",
    "version": 3
   },
   "file_extension": ".py",
   "mimetype": "text/x-python",
   "name": "python",
   "nbconvert_exporter": "python",
   "pygments_lexer": "ipython3",
   "version": "3.10.9"
  }
 },
 "nbformat": 4,
 "nbformat_minor": 2
}
