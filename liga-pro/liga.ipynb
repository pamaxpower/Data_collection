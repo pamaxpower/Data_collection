{
 "cells": [
  {
   "cell_type": "code",
   "execution_count": 26,
   "metadata": {},
   "outputs": [],
   "source": [
    "import requests\n",
    "from bs4 import BeautifulSoup\n",
    "from fake_useragent import UserAgent\n",
    "from pprint import pprint\n",
    "from lxml import html\n",
    "from pymongo import MongoClient"
   ]
  },
  {
   "cell_type": "code",
   "execution_count": 27,
   "metadata": {},
   "outputs": [
    {
     "data": {
      "text/plain": [
       "'Mozilla/5.0 (iPad; CPU OS 17_0_3 like Mac OS X) AppleWebKit/605.1.15 (KHTML, like Gecko) Version/17.0 Mobile/15E148 Safari/605.1.15'"
      ]
     },
     "execution_count": 27,
     "metadata": {},
     "output_type": "execute_result"
    }
   ],
   "source": [
    "ua = UserAgent()\n",
    "ua.safari"
   ]
  },
  {
   "cell_type": "code",
   "execution_count": 28,
   "metadata": {},
   "outputs": [],
   "source": [
    "url_1 = 'https://tt.sport-liga.pro/'\n",
    "\n",
    "headers = {\n",
    "    \"User-Agent\": ua.safari}\n",
    "\n",
    "params = {\n",
    "    'year': '2024',\n",
    "    'month': '05',\n",
    "    'day': '2'\n",
    "}\n",
    "\n",
    "session = requests.Session()"
   ]
  },
  {
   "cell_type": "code",
   "execution_count": 29,
   "metadata": {},
   "outputs": [],
   "source": [
    "response = session.get(url_1+'tours/', params=params, headers=headers)\n",
    "if response.status_code < 400:\n",
    "    soup = BeautifulSoup(response.text, 'html.parser')\n",
    "else:\n",
    "    print('Что-то пошло не так')"
   ]
  },
  {
   "cell_type": "code",
   "execution_count": 30,
   "metadata": {},
   "outputs": [
    {
     "data": {
      "text/plain": [
       "[<tr>\n",
       " <td class=\"tournament-date\" style=\"min-width: 100px;\">2 Мая (чтв)  23:45</td>\n",
       " <td class=\"tournament-name\"><a href=\"tours/34038\">Турнир А6. лига 350-400</a></td>\n",
       " <td class=\"tournament-icon\"><a class=\"icon icon-members\" href=\"tours/34038\" title=\"кол-во участников\">5</a></td>\n",
       " <td><a class=\"all-page medal icon-gold\" href=\"players/2982\"><img alt=\"\" class=\"userpic\" src=\"../../upload/img/ru/players/mini_2982.jpg\"/>Кугурушев Дмитрий (<span class=\"username\">Dimastiy</span>)</a></td>\n",
       " </tr>,\n",
       " <tr>\n",
       " <td class=\"tournament-date\" style=\"min-width: 100px;\">2 Мая (чтв)  23:45</td>\n",
       " <td class=\"tournament-name\"><a href=\"tours/34028\">Турнир А4. лига 550-600</a></td>\n",
       " <td class=\"tournament-icon\"><a class=\"icon icon-members\" href=\"tours/34028\" title=\"кол-во участников\">5</a></td>\n",
       " <td><a class=\"all-page medal icon-gold\" href=\"players/2359\"><img alt=\"\" class=\"userpic\" src=\"../../upload/img/ru/players/mini_2359.jpg\"/>Солдатов Иван (<span class=\"username\">Sains</span>)</a></td>\n",
       " </tr>,\n",
       " <tr>\n",
       " <td class=\"tournament-date\" style=\"min-width: 100px;\">2 Мая (чтв)  23:30</td>\n",
       " <td class=\"tournament-name\"><a href=\"tours/34033\">Турнир А5. лига 450-500</a></td>\n",
       " <td class=\"tournament-icon\"><a class=\"icon icon-members\" href=\"tours/34033\" title=\"кол-во участников\">5</a></td>\n",
       " <td><a class=\"all-page medal icon-gold\" href=\"players/2197\"><img alt=\"\" class=\"userpic\" src=\"../../upload/img/ru/players/mini_2197.jpg\"/>Зюганов Олег (<span class=\"username\">MaXiMuS-81</span>)</a></td>\n",
       " </tr>,\n",
       " <tr>\n",
       " <td class=\"tournament-date\" style=\"min-width: 100px;\">2 Мая (чтв)  20:00</td>\n",
       " <td class=\"tournament-name\"><a href=\"tours/34043\">Турнир А15. лига 550-600. Минск</a></td>\n",
       " <td class=\"tournament-icon\"><a class=\"icon icon-members\" href=\"tours/34043\" title=\"кол-во участников\">4</a></td>\n",
       " <td><a class=\"all-page medal icon-gold\" href=\"players/6661\"><img alt=\"\" class=\"userpic\" src=\"../../upload/img/ru/players/mini_6661.jpg\"/>Мартычан Игорь</a></td>\n",
       " </tr>,\n",
       " <tr>\n",
       " <td class=\"tournament-date\" style=\"min-width: 100px;\">2 Мая (чтв)  20:00</td>\n",
       " <td class=\"tournament-name\"><a href=\"tours/34039\">Турнир А9. лига 800-900</a></td>\n",
       " <td class=\"tournament-icon\"><a class=\"icon icon-members\" href=\"tours/34039\" title=\"кол-во участников\">4</a></td>\n",
       " <td><a class=\"all-page medal icon-gold\" href=\"players/7784\"><img alt=\"\" class=\"userpic\" src=\"../../upload/img/ru/players/mini_7784.jpg\"/>Чернов Артём (<span class=\"username\">artmenam</span>)</a></td>\n",
       " </tr>,\n",
       " <tr>\n",
       " <td class=\"tournament-date\" style=\"min-width: 100px;\">2 Мая (чтв)  20:00</td>\n",
       " <td class=\"tournament-name\"><a href=\"tours/34023\">Турнир А3. лига 250-300</a></td>\n",
       " <td class=\"tournament-icon\"><a class=\"icon icon-members\" href=\"tours/34023\" title=\"кол-во участников\">4</a></td>\n",
       " <td><a class=\"all-page medal icon-gold\" href=\"players/7581\"><img alt=\"\" class=\"userpic\" src=\"../../upload/img/ru/players/mini_7581.jpg\"/>Егоров Павел (<span class=\"username\">pegorov</span>)</a></td>\n",
       " </tr>,\n",
       " <tr>\n",
       " <td class=\"tournament-date\" style=\"min-width: 100px;\">2 Мая (чтв)  19:45</td>\n",
       " <td class=\"tournament-name\"><a href=\"tours/34037\">Турнир А6. лига 500-550</a></td>\n",
       " <td class=\"tournament-icon\"><a class=\"icon icon-members\" href=\"tours/34037\" title=\"кол-во участников\">4</a></td>\n",
       " <td><a class=\"all-page medal icon-gold\" href=\"players/7905\"><img alt=\"\" class=\"userpic\" src=\"../../upload/img/ru/players/mini_7905.jpg\"/>Вашков Антон (<span class=\"username\">avashkov</span>)</a></td>\n",
       " </tr>,\n",
       " <tr>\n",
       " <td class=\"tournament-date\" style=\"min-width: 100px;\">2 Мая (чтв)  19:45</td>\n",
       " <td class=\"tournament-name\"><a href=\"tours/34027\">Турнир А4. лига 550-600</a></td>\n",
       " <td class=\"tournament-icon\"><a class=\"icon icon-members\" href=\"tours/34027\" title=\"кол-во участников\">4</a></td>\n",
       " <td><a class=\"all-page medal icon-gold\" href=\"players/7683\"><img alt=\"\" class=\"userpic\" src=\"../../upload/img/ru/players/mini_7683.jpg\"/>Артемов Андрей</a></td>\n",
       " </tr>,\n",
       " <tr>\n",
       " <td class=\"tournament-date\" style=\"min-width: 100px;\">2 Мая (чтв)  19:30</td>\n",
       " <td class=\"tournament-name\"><a href=\"tours/34032\">Турнир А5. лига 400-450</a></td>\n",
       " <td class=\"tournament-icon\"><a class=\"icon icon-members\" href=\"tours/34032\" title=\"кол-во участников\">4</a></td>\n",
       " <td><a class=\"all-page medal icon-gold\" href=\"players/7920\"><img alt=\"\" class=\"userpic\" src=\"../../upload/img/ru/players/mini_7920.jpg\"/>Трошкин Артём (<span class=\"username\">Maestro_Artem</span>)</a></td>\n",
       " </tr>,\n",
       " <tr>\n",
       " <td class=\"tournament-date\" style=\"min-width: 100px;\">2 Мая (чтв)  16:00</td>\n",
       " <td class=\"tournament-name\"><a href=\"tours/34022\">Турнир А3. лига 300-350</a></td>\n",
       " <td class=\"tournament-icon\"><a class=\"icon icon-members\" href=\"tours/34022\" title=\"кол-во участников\">4</a></td>\n",
       " <td><a class=\"all-page medal icon-gold\" href=\"players/2688\"><img alt=\"\" class=\"userpic\" src=\"../../upload/img/ru/players/mini_2688.jpg\"/>Ханевский Андрей (<span class=\"username\">novembero</span>)</a></td>\n",
       " </tr>,\n",
       " <tr>\n",
       " <td class=\"tournament-date\" style=\"min-width: 100px;\">2 Мая (чтв)  16:00</td>\n",
       " <td class=\"tournament-name\"><a href=\"tours/34042\">Турнир А15. лига 600-700. Минск</a></td>\n",
       " <td class=\"tournament-icon\"><a class=\"icon icon-members\" href=\"tours/34042\" title=\"кол-во участников\">4</a></td>\n",
       " <td><a class=\"all-page medal icon-gold\" href=\"players/7357\"><img alt=\"\" class=\"userpic\" src=\"../../upload/img/ru/players/mini_7357.jpg\"/>Девятников Даниил</a></td>\n",
       " </tr>,\n",
       " <tr>\n",
       " <td class=\"tournament-date\" style=\"min-width: 100px;\">2 Мая (чтв)  15:45</td>\n",
       " <td class=\"tournament-name\"><a href=\"tours/34026\">Турнир А4. лига 600-700</a></td>\n",
       " <td class=\"tournament-icon\"><a class=\"icon icon-members\" href=\"tours/34026\" title=\"кол-во участников\">4</a></td>\n",
       " <td><a class=\"all-page medal icon-gold\" href=\"players/7933\"><img alt=\"\" class=\"userpic\" src=\"../../upload/img/ru/players/mini_7933.jpg\"/>Бухтияров Иван (<span class=\"username\">TENIS2004</span>)</a></td>\n",
       " </tr>,\n",
       " <tr>\n",
       " <td class=\"tournament-date\" style=\"min-width: 100px;\">2 Мая (чтв)  15:45</td>\n",
       " <td class=\"tournament-name\"><a href=\"tours/34036\">Турнир А6. лига 400-450</a></td>\n",
       " <td class=\"tournament-icon\"><a class=\"icon icon-members\" href=\"tours/34036\" title=\"кол-во участников\">4</a></td>\n",
       " <td><a class=\"all-page medal icon-gold\" href=\"players/7370\"><img alt=\"\" class=\"userpic\" src=\"../../upload/img/ru/players/mini_7370.jpg\"/>Мухамеджанов Михаил</a></td>\n",
       " </tr>,\n",
       " <tr>\n",
       " <td class=\"tournament-date\" style=\"min-width: 100px;\">2 Мая (чтв)  15:30</td>\n",
       " <td class=\"tournament-name\"><a href=\"tours/34031\">Турнир А5. лига 350-400</a></td>\n",
       " <td class=\"tournament-icon\"><a class=\"icon icon-members\" href=\"tours/34031\" title=\"кол-во участников\">4</a></td>\n",
       " <td><a class=\"all-page medal icon-gold\" href=\"players/7235\"><img alt=\"\" class=\"userpic\" src=\"../../upload/img/ru/players/mini_7235.jpg\"/>Степанов Иван</a></td>\n",
       " </tr>,\n",
       " <tr>\n",
       " <td class=\"tournament-date\" style=\"min-width: 100px;\">2 Мая (чтв)  12:00</td>\n",
       " <td class=\"tournament-name\"><a href=\"tours/34041\">Турнир А15. лига 500-550. Минск</a></td>\n",
       " <td class=\"tournament-icon\"><a class=\"icon icon-members\" href=\"tours/34041\" title=\"кол-во участников\">4</a></td>\n",
       " <td><a class=\"all-page medal icon-gold\" href=\"players/7123\"><img alt=\"\" class=\"userpic\" src=\"../../upload/img/ru/players/mini_7123.jpg\"/>Ляльков Виталий</a></td>\n",
       " </tr>,\n",
       " <tr>\n",
       " <td class=\"tournament-date\" style=\"min-width: 100px;\">2 Мая (чтв)  12:00</td>\n",
       " <td class=\"tournament-name\"><a href=\"tours/34021\">Турнир А3. лига 550-600</a></td>\n",
       " <td class=\"tournament-icon\"><a class=\"icon icon-members\" href=\"tours/34021\" title=\"кол-во участников\">4</a></td>\n",
       " <td><a class=\"all-page medal icon-gold\" href=\"players/7683\"><img alt=\"\" class=\"userpic\" src=\"../../upload/img/ru/players/mini_7683.jpg\"/>Артемов Андрей</a></td>\n",
       " </tr>,\n",
       " <tr>\n",
       " <td class=\"tournament-date\" style=\"min-width: 100px;\">2 Мая (чтв)  11:45</td>\n",
       " <td class=\"tournament-name\"><a href=\"tours/34035\">Турнир А6. лига 700-800</a></td>\n",
       " <td class=\"tournament-icon\"><a class=\"icon icon-members\" href=\"tours/34035\" title=\"кол-во участников\">4</a></td>\n",
       " <td><a class=\"all-page medal icon-gold\" href=\"players/4328\"><img alt=\"\" class=\"userpic\" src=\"../../upload/img/ru/players/mini_4328.jpg\"/>Ольшаков Константин</a></td>\n",
       " </tr>,\n",
       " <tr>\n",
       " <td class=\"tournament-date\" style=\"min-width: 100px;\">2 Мая (чтв)  11:45</td>\n",
       " <td class=\"tournament-name\"><a href=\"tours/34025\">Турнир А4. лига 450-500</a></td>\n",
       " <td class=\"tournament-icon\"><a class=\"icon icon-members\" href=\"tours/34025\" title=\"кол-во участников\">4</a></td>\n",
       " <td><a class=\"all-page medal icon-gold\" href=\"players/2741\"><img alt=\"\" class=\"userpic\" src=\"../../upload/img/ru/players/mini_2741.jpg\"/>Фролов Александр (<span class=\"username\">Froloff</span>)</a></td>\n",
       " </tr>,\n",
       " <tr>\n",
       " <td class=\"tournament-date\" style=\"min-width: 100px;\">2 Мая (чтв)  11:30</td>\n",
       " <td class=\"tournament-name\"><a href=\"tours/34030\">Турнир А5. лига 500-550</a></td>\n",
       " <td class=\"tournament-icon\"><a class=\"icon icon-members\" href=\"tours/34030\" title=\"кол-во участников\">4</a></td>\n",
       " <td><a class=\"all-page medal icon-gold\" href=\"players/1816\"><img alt=\"\" class=\"userpic\" src=\"../../upload/img/ru/players/mini_1816.jpg\"/>Шагаров Олег (<span class=\"username\">Oleg</span>)</a></td>\n",
       " </tr>,\n",
       " <tr>\n",
       " <td class=\"tournament-date\" style=\"min-width: 100px;\">2 Мая (чтв)  08:00</td>\n",
       " <td class=\"tournament-name\"><a href=\"tours/34020\">Турнир А3. лига 300-350</a></td>\n",
       " <td class=\"tournament-icon\"><a class=\"icon icon-members\" href=\"tours/34020\" title=\"кол-во участников\">4</a></td>\n",
       " <td><a class=\"all-page medal icon-gold\" href=\"players/4490\"><img alt=\"\" class=\"userpic\" src=\"../../upload/img/ru/players/mini_4490.jpg\"/>Мануйлов Олег</a></td>\n",
       " </tr>,\n",
       " <tr>\n",
       " <td class=\"tournament-date\" style=\"min-width: 100px;\">2 Мая (чтв)  08:00</td>\n",
       " <td class=\"tournament-name\"><a href=\"tours/34040\">Турнир А15. лига 450-500. Минск</a></td>\n",
       " <td class=\"tournament-icon\"><a class=\"icon icon-members\" href=\"tours/34040\" title=\"кол-во участников\">4</a></td>\n",
       " <td><a class=\"all-page medal icon-gold\" href=\"players/8811\"><img alt=\"\" class=\"userpic\" src=\"../../upload/img/ru/players/mini_8811.jpg\"/>Гаевский Василий</a></td>\n",
       " </tr>,\n",
       " <tr>\n",
       " <td class=\"tournament-date\" style=\"min-width: 100px;\">2 Мая (чтв)  07:45</td>\n",
       " <td class=\"tournament-name\"><a href=\"tours/34034\">Турнир А6. лига 700-800</a></td>\n",
       " <td class=\"tournament-icon\"><a class=\"icon icon-members\" href=\"tours/34034\" title=\"кол-во участников\">4</a></td>\n",
       " <td><a class=\"all-page medal icon-gold\" href=\"players/7661\"><img alt=\"\" class=\"userpic\" src=\"../../upload/img/ru/players/mini_7661.jpg\"/>Молодых Андрей (<span class=\"username\">2544</span>)</a></td>\n",
       " </tr>,\n",
       " <tr>\n",
       " <td class=\"tournament-date\" style=\"min-width: 100px;\">2 Мая (чтв)  07:45</td>\n",
       " <td class=\"tournament-name\"><a href=\"tours/34024\">Турнир А4. лига 600-700</a></td>\n",
       " <td class=\"tournament-icon\"><a class=\"icon icon-members\" href=\"tours/34024\" title=\"кол-во участников\">4</a></td>\n",
       " <td><a class=\"all-page medal icon-gold\" href=\"players/2349\"><img alt=\"\" class=\"userpic\" src=\"../../upload/img/ru/players/mini_2349.jpg\"/>Петроченко Дмитрий (<span class=\"username\">Kesar</span>)</a></td>\n",
       " </tr>,\n",
       " <tr>\n",
       " <td class=\"tournament-date\" style=\"min-width: 100px;\">2 Мая (чтв)  07:30</td>\n",
       " <td class=\"tournament-name\"><a href=\"tours/34029\">Турнир А5. лига 250-300</a></td>\n",
       " <td class=\"tournament-icon\"><a class=\"icon icon-members\" href=\"tours/34029\" title=\"кол-во участников\">4</a></td>\n",
       " <td><a class=\"all-page medal icon-gold\" href=\"players/6618\"><img alt=\"\" class=\"userpic\" src=\"../../upload/img/ru/players/mini_6618.jpg\"/>Смирнов Михаил</a></td>\n",
       " </tr>]"
      ]
     },
     "execution_count": 30,
     "metadata": {},
     "output_type": "execute_result"
    }
   ],
   "source": [
    "table = soup.find('table', {'class': 'table'}).find_all('tr')[1:]\n",
    "table"
   ]
  },
  {
   "cell_type": "code",
   "execution_count": 31,
   "metadata": {},
   "outputs": [
    {
     "data": {
      "text/plain": [
       "24"
      ]
     },
     "execution_count": 31,
     "metadata": {},
     "output_type": "execute_result"
    }
   ],
   "source": [
    "len(table)"
   ]
  },
  {
   "cell_type": "code",
   "execution_count": 32,
   "metadata": {},
   "outputs": [
    {
     "data": {
      "text/plain": [
       "[{'tournament': 'А3',\n",
       "  'time': '20:00',\n",
       "  'ref': 'https://tt.sport-liga.pro/tours/34023'},\n",
       " {'tournament': 'А6',\n",
       "  'time': '19:45',\n",
       "  'ref': 'https://tt.sport-liga.pro/tours/34037'},\n",
       " {'tournament': 'А4',\n",
       "  'time': '19:45',\n",
       "  'ref': 'https://tt.sport-liga.pro/tours/34027'},\n",
       " {'tournament': 'А5',\n",
       "  'time': '19:30',\n",
       "  'ref': 'https://tt.sport-liga.pro/tours/34032'},\n",
       " {'tournament': 'А3',\n",
       "  'time': '16:00',\n",
       "  'ref': 'https://tt.sport-liga.pro/tours/34022'},\n",
       " {'tournament': 'А4',\n",
       "  'time': '15:45',\n",
       "  'ref': 'https://tt.sport-liga.pro/tours/34026'},\n",
       " {'tournament': 'А6',\n",
       "  'time': '15:45',\n",
       "  'ref': 'https://tt.sport-liga.pro/tours/34036'},\n",
       " {'tournament': 'А5',\n",
       "  'time': '15:30',\n",
       "  'ref': 'https://tt.sport-liga.pro/tours/34031'}]"
      ]
     },
     "execution_count": 32,
     "metadata": {},
     "output_type": "execute_result"
    }
   ],
   "source": [
    "my_match = []\n",
    "for i in range(len(table)):\n",
    "    \n",
    "    match = table[i]\n",
    "    time = match.find_all('td')[0].getText().split()[-1]\n",
    "    tournament = match.find_all('td')[1].getText().split('.')[0].split()[-1]\n",
    "    ref = match.find_all('td')[2].find('a').get('href')\n",
    "    if time in ['15:30', '15:45', '16:00', '19:30', '19:45', '20:00'] and tournament in ['А3', 'А4', 'А5', 'А6']:\n",
    "        match_list = {\n",
    "            'tournament': tournament,\n",
    "            'time': time,\n",
    "            'ref': url_1+ref\n",
    "        }\n",
    "\n",
    "        my_match.append(match_list)\n",
    "\n",
    "my_match"
   ]
  },
  {
   "cell_type": "code",
   "execution_count": 33,
   "metadata": {},
   "outputs": [
    {
     "name": "stdout",
     "output_type": "stream",
     "text": [
      "https://tt.sport-liga.pro/tours/34023\n",
      "https://tt.sport-liga.pro/tours/34037\n",
      "https://tt.sport-liga.pro/tours/34027\n",
      "https://tt.sport-liga.pro/tours/34032\n",
      "https://tt.sport-liga.pro/tours/34022\n",
      "https://tt.sport-liga.pro/tours/34026\n",
      "https://tt.sport-liga.pro/tours/34036\n",
      "https://tt.sport-liga.pro/tours/34031\n"
     ]
    }
   ],
   "source": [
    "for el_ref in my_match:\n",
    "    print(el_ref['ref'])"
   ]
  },
  {
   "cell_type": "code",
   "execution_count": 34,
   "metadata": {},
   "outputs": [],
   "source": [
    "response = session.get(url_1+'tours/', params=params, headers=headers)"
   ]
  },
  {
   "cell_type": "code",
   "execution_count": 35,
   "metadata": {},
   "outputs": [
    {
     "data": {
      "text/plain": [
       "200"
      ]
     },
     "execution_count": 35,
     "metadata": {},
     "output_type": "execute_result"
    }
   ],
   "source": [
    "response.status_code"
   ]
  },
  {
   "cell_type": "code",
   "execution_count": 36,
   "metadata": {},
   "outputs": [],
   "source": [
    "tree = html.fromstring(html=response.content)"
   ]
  },
  {
   "cell_type": "code",
   "execution_count": 37,
   "metadata": {},
   "outputs": [
    {
     "data": {
      "text/plain": [
       "[]"
      ]
     },
     "execution_count": 37,
     "metadata": {},
     "output_type": "execute_result"
    }
   ],
   "source": [
    "matches = tree.xpath('//table[@class=\"table\"]/tbody/tr')\n",
    "matches"
   ]
  }
 ],
 "metadata": {
  "kernelspec": {
   "display_name": "Python 3",
   "language": "python",
   "name": "python3"
  },
  "language_info": {
   "codemirror_mode": {
    "name": "ipython",
    "version": 3
   },
   "file_extension": ".py",
   "mimetype": "text/x-python",
   "name": "python",
   "nbconvert_exporter": "python",
   "pygments_lexer": "ipython3",
   "version": "3.10.9"
  }
 },
 "nbformat": 4,
 "nbformat_minor": 2
}
