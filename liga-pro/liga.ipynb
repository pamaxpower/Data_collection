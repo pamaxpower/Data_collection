{
 "cells": [
  {
   "cell_type": "code",
   "execution_count": 13,
   "metadata": {},
   "outputs": [],
   "source": [
    "import requests\n",
    "from bs4 import BeautifulSoup\n",
    "from fake_useragent import UserAgent\n",
    "from pprint import pprint\n",
    "from lxml import html\n",
    "from pymongo import MongoClient"
   ]
  },
  {
   "cell_type": "code",
   "execution_count": 14,
   "metadata": {},
   "outputs": [
    {
     "data": {
      "text/plain": [
       "'Mozilla/5.0 (iPhone; CPU iPhone OS 17_0 like Mac OS X) AppleWebKit/605.1.15 (KHTML, like Gecko) Version/17.0 Mobile/15E148 Safari/604.1'"
      ]
     },
     "execution_count": 14,
     "metadata": {},
     "output_type": "execute_result"
    }
   ],
   "source": [
    "ua = UserAgent()\n",
    "ua.safari"
   ]
  },
  {
   "cell_type": "code",
   "execution_count": 15,
   "metadata": {},
   "outputs": [],
   "source": [
    "url_1 = 'https://tt.sport-liga.pro/'\n",
    "\n",
    "headers = {\n",
    "    \"User-Agent\": ua.safari}\n",
    "\n",
    "params = {\n",
    "    'year': '2024',\n",
    "    'month': '05',\n",
    "    'day': '15'\n",
    "}\n",
    "\n",
    "session = requests.Session()"
   ]
  },
  {
   "cell_type": "code",
   "execution_count": 16,
   "metadata": {},
   "outputs": [],
   "source": [
    "response = session.get(url_1+'tours/', params=params, headers=headers)\n",
    "if response.status_code < 400:\n",
    "    soup = BeautifulSoup(response.text, 'html.parser')\n",
    "else:\n",
    "    print('Что-то пошло не так')"
   ]
  },
  {
   "cell_type": "code",
   "execution_count": 17,
   "metadata": {},
   "outputs": [
    {
     "data": {
      "text/plain": [
       "[<tr>\n",
       " <td class=\"tournament-date\" style=\"min-width: 100px;\">15 Мая (срд)  23:45</td>\n",
       " <td class=\"tournament-name\"><a href=\"tours/34353\">Турнир А4. лига 400-450</a></td>\n",
       " <td class=\"tournament-icon\"><a class=\"icon icon-members\" href=\"tours/34353\" title=\"кол-во участников\">5</a></td>\n",
       " <td></td>\n",
       " </tr>,\n",
       " <tr>\n",
       " <td class=\"tournament-date\" style=\"min-width: 100px;\">15 Мая (срд)  20:00</td>\n",
       " <td class=\"tournament-name\"><a href=\"tours/34344\">Турнир А15. лига 500-550. Минск</a></td>\n",
       " <td class=\"tournament-icon\"><a class=\"icon icon-members\" href=\"tours/34344\" title=\"кол-во участников\">5</a></td>\n",
       " <td></td>\n",
       " </tr>,\n",
       " <tr>\n",
       " <td class=\"tournament-date\" style=\"min-width: 100px;\">15 Мая (срд)  20:00</td>\n",
       " <td class=\"tournament-name\"><a href=\"tours/34348\">Турнир А3. лига 350-400</a></td>\n",
       " <td class=\"tournament-icon\"><a class=\"icon icon-members\" href=\"tours/34348\" title=\"кол-во участников\">5</a></td>\n",
       " <td></td>\n",
       " </tr>,\n",
       " <tr>\n",
       " <td class=\"tournament-date\" style=\"min-width: 100px;\">15 Мая (срд)  19:45</td>\n",
       " <td class=\"tournament-name\"><a href=\"tours/34352\">Турнир А4. лига 600-700</a></td>\n",
       " <td class=\"tournament-icon\"><a class=\"icon icon-members\" href=\"tours/34352\" title=\"кол-во участников\">5</a></td>\n",
       " <td></td>\n",
       " </tr>,\n",
       " <tr>\n",
       " <td class=\"tournament-date\" style=\"min-width: 100px;\">15 Мая (срд)  16:00</td>\n",
       " <td class=\"tournament-name\"><a href=\"tours/34343\">Турнир А15. лига 600-700. Минск</a></td>\n",
       " <td class=\"tournament-icon\"><a class=\"icon icon-members\" href=\"tours/34343\" title=\"кол-во участников\">5</a></td>\n",
       " <td></td>\n",
       " </tr>,\n",
       " <tr>\n",
       " <td class=\"tournament-date\" style=\"min-width: 100px;\">15 Мая (срд)  16:00</td>\n",
       " <td class=\"tournament-name\"><a href=\"tours/34347\">Турнир А3. лига 400-450</a></td>\n",
       " <td class=\"tournament-icon\"><a class=\"icon icon-members\" href=\"tours/34347\" title=\"кол-во участников\">5</a></td>\n",
       " <td></td>\n",
       " </tr>,\n",
       " <tr>\n",
       " <td class=\"tournament-date\" style=\"min-width: 100px;\">15 Мая (срд)  15:45</td>\n",
       " <td class=\"tournament-name\"><a href=\"tours/34351\">Турнир А4. лига 450-500</a></td>\n",
       " <td class=\"tournament-icon\"><a class=\"icon icon-members\" href=\"tours/34351\" title=\"кол-во участников\">5</a></td>\n",
       " <td></td>\n",
       " </tr>,\n",
       " <tr>\n",
       " <td class=\"tournament-date\" style=\"min-width: 100px;\">15 Мая (срд)  12:00</td>\n",
       " <td class=\"tournament-name\"><a href=\"tours/34342\">Турнир А15. лига 600-700. Минск</a></td>\n",
       " <td class=\"tournament-icon\"><a class=\"icon icon-members\" href=\"tours/34342\" title=\"кол-во участников\">5</a></td>\n",
       " <td></td>\n",
       " </tr>,\n",
       " <tr>\n",
       " <td class=\"tournament-date\" style=\"min-width: 100px;\">15 Мая (срд)  12:00</td>\n",
       " <td class=\"tournament-name\"><a href=\"tours/34346\">Турнир А3. лига 400-450</a></td>\n",
       " <td class=\"tournament-icon\"><a class=\"icon icon-members\" href=\"tours/34346\" title=\"кол-во участников\">5</a></td>\n",
       " <td></td>\n",
       " </tr>,\n",
       " <tr>\n",
       " <td class=\"tournament-date\" style=\"min-width: 100px;\">15 Мая (срд)  11:45</td>\n",
       " <td class=\"tournament-name\"><a href=\"tours/34350\">Турнир А4. лига 600-700</a></td>\n",
       " <td class=\"tournament-icon\"><a class=\"icon icon-members\" href=\"tours/34350\" title=\"кол-во участников\">5</a></td>\n",
       " <td></td>\n",
       " </tr>,\n",
       " <tr>\n",
       " <td class=\"tournament-date\" style=\"min-width: 100px;\">15 Мая (срд)  11:30</td>\n",
       " <td class=\"tournament-name\"><a href=\"tours/34355\">Турнир А5. лига 350-400</a></td>\n",
       " <td class=\"tournament-icon\"><a class=\"icon icon-members\" href=\"tours/34355\" title=\"кол-во участников\">5</a></td>\n",
       " <td></td>\n",
       " </tr>,\n",
       " <tr>\n",
       " <td class=\"tournament-date\" style=\"min-width: 100px;\">15 Мая (срд)  08:00</td>\n",
       " <td class=\"tournament-name\"><a href=\"tours/34341\">Турнир А15. лига 400-450. Минск</a></td>\n",
       " <td class=\"tournament-icon\"><a class=\"icon icon-members\" href=\"tours/34341\" title=\"кол-во участников\">5</a></td>\n",
       " <td></td>\n",
       " </tr>,\n",
       " <tr>\n",
       " <td class=\"tournament-date\" style=\"min-width: 100px;\">15 Мая (срд)  08:00</td>\n",
       " <td class=\"tournament-name\"><a href=\"tours/34345\">Турнир А3. лига 300-350</a></td>\n",
       " <td class=\"tournament-icon\"><a class=\"icon icon-members\" href=\"tours/34345\" title=\"кол-во участников\">5</a></td>\n",
       " <td></td>\n",
       " </tr>,\n",
       " <tr>\n",
       " <td class=\"tournament-date\" style=\"min-width: 100px;\">15 Мая (срд)  07:45</td>\n",
       " <td class=\"tournament-name\"><a href=\"tours/34349\">Турнир А4. лига 500-550</a></td>\n",
       " <td class=\"tournament-icon\"><a class=\"icon icon-members\" href=\"tours/34349\" title=\"кол-во участников\">5</a></td>\n",
       " <td></td>\n",
       " </tr>,\n",
       " <tr>\n",
       " <td class=\"tournament-date\" style=\"min-width: 100px;\">15 Мая (срд)  07:30</td>\n",
       " <td class=\"tournament-name\"><a href=\"tours/34354\">Турнир А5. лига 250-300</a></td>\n",
       " <td class=\"tournament-icon\"><a class=\"icon icon-members\" href=\"tours/34354\" title=\"кол-во участников\">5</a></td>\n",
       " <td></td>\n",
       " </tr>]"
      ]
     },
     "execution_count": 17,
     "metadata": {},
     "output_type": "execute_result"
    }
   ],
   "source": [
    "table = soup.find('table', {'class': 'table'}).find_all('tr')[1:]\n",
    "table"
   ]
  },
  {
   "cell_type": "code",
   "execution_count": 18,
   "metadata": {},
   "outputs": [
    {
     "data": {
      "text/plain": [
       "15"
      ]
     },
     "execution_count": 18,
     "metadata": {},
     "output_type": "execute_result"
    }
   ],
   "source": [
    "len(table)"
   ]
  },
  {
   "cell_type": "code",
   "execution_count": 19,
   "metadata": {},
   "outputs": [
    {
     "data": {
      "text/plain": [
       "[{'tournament': 'А3',\n",
       "  'time': '20:00',\n",
       "  'ref': 'https://tt.sport-liga.pro/tours/34348'},\n",
       " {'tournament': 'А4',\n",
       "  'time': '19:45',\n",
       "  'ref': 'https://tt.sport-liga.pro/tours/34352'},\n",
       " {'tournament': 'А3',\n",
       "  'time': '16:00',\n",
       "  'ref': 'https://tt.sport-liga.pro/tours/34347'},\n",
       " {'tournament': 'А4',\n",
       "  'time': '15:45',\n",
       "  'ref': 'https://tt.sport-liga.pro/tours/34351'}]"
      ]
     },
     "execution_count": 19,
     "metadata": {},
     "output_type": "execute_result"
    }
   ],
   "source": [
    "my_match = []\n",
    "for i in range(len(table)):\n",
    "    \n",
    "    match = table[i]\n",
    "    time = match.find_all('td')[0].getText().split()[-1]\n",
    "    tournament = match.find_all('td')[1].getText().split('.')[0].split()[-1]\n",
    "    ref = match.find_all('td')[2].find('a').get('href')\n",
    "    if time in ['15:30', '15:45', '16:00', '19:30', '19:45', '20:00'] and tournament in ['А3', 'А4', 'А5', 'А6']:\n",
    "        match_list = {\n",
    "            'tournament': tournament,\n",
    "            'time': time,\n",
    "            'ref': url_1+ref\n",
    "        }\n",
    "\n",
    "        my_match.append(match_list)\n",
    "\n",
    "my_match"
   ]
  },
  {
   "cell_type": "code",
   "execution_count": 20,
   "metadata": {},
   "outputs": [
    {
     "name": "stdout",
     "output_type": "stream",
     "text": [
      "https://tt.sport-liga.pro/tours/34348\n",
      "https://tt.sport-liga.pro/tours/34352\n",
      "https://tt.sport-liga.pro/tours/34347\n",
      "https://tt.sport-liga.pro/tours/34351\n"
     ]
    }
   ],
   "source": [
    "for el_ref in my_match:\n",
    "    print(el_ref['ref'])"
   ]
  },
  {
   "cell_type": "code",
   "execution_count": 21,
   "metadata": {},
   "outputs": [],
   "source": [
    "response = session.get(url_1+'tours/', params=params, headers=headers)"
   ]
  },
  {
   "cell_type": "code",
   "execution_count": 22,
   "metadata": {},
   "outputs": [
    {
     "data": {
      "text/plain": [
       "200"
      ]
     },
     "execution_count": 22,
     "metadata": {},
     "output_type": "execute_result"
    }
   ],
   "source": [
    "response.status_code"
   ]
  },
  {
   "cell_type": "code",
   "execution_count": 23,
   "metadata": {},
   "outputs": [],
   "source": [
    "tree = html.fromstring(html=response.content)"
   ]
  },
  {
   "cell_type": "code",
   "execution_count": 24,
   "metadata": {},
   "outputs": [
    {
     "data": {
      "text/plain": [
       "[]"
      ]
     },
     "execution_count": 24,
     "metadata": {},
     "output_type": "execute_result"
    }
   ],
   "source": [
    "matches = tree.xpath('//table[@class=\"table\"]/tbody/tr')\n",
    "matches"
   ]
  }
 ],
 "metadata": {
  "kernelspec": {
   "display_name": "Python 3",
   "language": "python",
   "name": "python3"
  },
  "language_info": {
   "codemirror_mode": {
    "name": "ipython",
    "version": 3
   },
   "file_extension": ".py",
   "mimetype": "text/x-python",
   "name": "python",
   "nbconvert_exporter": "python",
   "pygments_lexer": "ipython3",
   "version": "3.10.9"
  }
 },
 "nbformat": 4,
 "nbformat_minor": 2
}
