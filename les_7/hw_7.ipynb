{
 "cells": [
  {
   "cell_type": "code",
   "execution_count": null,
   "metadata": {},
   "outputs": [],
   "source": [
    "#!pip install selenium"
   ]
  },
  {
   "cell_type": "code",
   "execution_count": null,
   "metadata": {},
   "outputs": [],
   "source": [
    "from selenium import webdriver\n",
    "from selenium.webdriver.support.ui import WebDriverWait\n",
    "from selenium.webdriver.support import expected_conditions as EC\n",
    "from selenium.webdriver.common.action_chains import ActionChains\n",
    "import time"
   ]
  },
  {
   "cell_type": "code",
   "execution_count": null,
   "metadata": {},
   "outputs": [],
   "source": [
    "# driver = webdriver.Chrome()\n",
    "# driver.get('https://www.wildberries.ru/')"
   ]
  },
  {
   "cell_type": "code",
   "execution_count": null,
   "metadata": {},
   "outputs": [],
   "source": [
    "from selenium.webdriver.chrome.options import Options\n",
    "\n",
    "options = Options()\n",
    "# запуск на полный экран\n",
    "options.add_argument('start-maximized')\n",
    "\n",
    "driver = webdriver.Chrome(options=options)\n",
    "\n",
    "driver.get('https://www.wildberries.ru/')\n",
    "time.sleep(3)"
   ]
  },
  {
   "cell_type": "code",
   "execution_count": null,
   "metadata": {},
   "outputs": [],
   "source": [
    "from selenium.webdriver.common.by import By\n",
    "from selenium.webdriver.common.keys import Keys\n",
    "\n",
    "input = driver.find_element(By.ID, 'searchInput')\n",
    "input.send_keys('гелевые стельки')\n",
    "input.send_keys(Keys.ENTER)\n",
    "time.sleep(2)"
   ]
  },
  {
   "cell_type": "markdown",
   "metadata": {},
   "source": [
    "Так как процесс парсинга состоит из 3 операций: скролинг (прокрутка страницы), записи данных и пагинации (переход между страницами), выделим эти действия в отдельные функции"
   ]
  },
  {
   "cell_type": "code",
   "execution_count": null,
   "metadata": {},
   "outputs": [],
   "source": [
    "def scrolling(page):\n",
    "    while True:\n",
    "        # будем ждать пока загрузятся все карточки\n",
    "        wait = WebDriverWait(driver, timeout=20)\n",
    "        # ищем карточки\n",
    "        cards = wait.until(EC.presence_of_all_elements_located((By.XPATH, '//div[@class=\"product-card-list\"]/article')))\n",
    "        # определяем их количество\n",
    "        count = len(cards)\n",
    "        # выполнение кода из JavaScript\n",
    "        driver.execute_script('window.scrollBy(0,2000)')    # прокрутка вниз на 1000 пикселей\n",
    "        \n",
    "        time.sleep(1)\n",
    "        # вполняем подсчет карточек после скроллинга\n",
    "        cards = driver.find_elements(By.XPATH, '//div[@class=\"product-card-list\"]/article')\n",
    "        \n",
    "        # если кол-во карточек не меняется, выходим из цикла\n",
    "        if len(cards) == count:\n",
    "            break\n",
    "    print(f'Скролинг {page} страницы завершен')\n",
    "    return cards"
   ]
  },
  {
   "cell_type": "code",
   "execution_count": null,
   "metadata": {},
   "outputs": [],
   "source": [
    "def pagination():\n",
    "    \n",
    "    button = driver.find_element(By.XPATH, '//a[@class=\"pagination-next pagination__next j-next-page\"]')\n",
    "    actions = ActionChains(driver)\n",
    "    actions.move_to_element(button).click()\n",
    "    actions.perform()\n",
    "    "
   ]
  },
  {
   "cell_type": "code",
   "execution_count": null,
   "metadata": {},
   "outputs": [],
   "source": [
    "def value_addition(values, list_result):\n",
    "    for value in values:\n",
    "        price = value.find_element(By.CLASS_NAME, 'price__lower-price').text\n",
    "        name = value.find_element(By.XPATH, './/div/a').get_attribute('aria-label')\n",
    "        url = value.find_element(By.XPATH, './/div/a').get_attribute('href')\n",
    "        list_result.append({\n",
    "            'name': name,\n",
    "            'url': url,\n",
    "            'price': price\n",
    "        })"
   ]
  },
  {
   "cell_type": "code",
   "execution_count": null,
   "metadata": {},
   "outputs": [],
   "source": [
    "card_list = []\n",
    "page = 1\n",
    "\n",
    "while True:\n",
    "    cards = scrolling(page)\n",
    "    time.sleep(1)\n",
    "    if len(cards) > 1:\n",
    "        value_addition(cards, card_list)\n",
    "        print(f'Данные {page} страницы записаны')\n",
    "        time.sleep(0.5)\n",
    "        page += 1\n",
    "    else:\n",
    "        driver.refresh()\n",
    "        print(f'Страницу {page} пришлось обновить')\n",
    "        time.sleep(2)\n",
    "        continue\n",
    "    try:\n",
    "        pagination()\n",
    "        print(f'Перешли на {page} страницу')\n",
    "        time.sleep(0.5)\n",
    "    except Exception as e:\n",
    "        print(e)\n",
    "        break\n",
    "\n"
   ]
  },
  {
   "cell_type": "code",
   "execution_count": null,
   "metadata": {},
   "outputs": [],
   "source": [
    "from pprint import pprint\n",
    "pprint(card_list)"
   ]
  },
  {
   "cell_type": "code",
   "execution_count": null,
   "metadata": {},
   "outputs": [],
   "source": [
    "len(card_list)"
   ]
  },
  {
   "cell_type": "code",
   "execution_count": null,
   "metadata": {},
   "outputs": [],
   "source": [
    "import pandas as pd\n",
    "\n",
    "df = pd.DataFrame(card_list)\n",
    "df"
   ]
  },
  {
   "cell_type": "code",
   "execution_count": null,
   "metadata": {},
   "outputs": [],
   "source": [
    "df.to_csv('result.csv', index=False)"
   ]
  }
 ],
 "metadata": {
  "kernelspec": {
   "display_name": "Python 3",
   "language": "python",
   "name": "python3"
  },
  "language_info": {
   "codemirror_mode": {
    "name": "ipython",
    "version": 3
   },
   "file_extension": ".py",
   "mimetype": "text/x-python",
   "name": "python",
   "nbconvert_exporter": "python",
   "pygments_lexer": "ipython3",
   "version": "3.10.9"
  }
 },
 "nbformat": 4,
 "nbformat_minor": 2
}
