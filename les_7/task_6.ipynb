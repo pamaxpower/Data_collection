{
 "cells": [
  {
   "cell_type": "markdown",
   "metadata": {},
   "source": [
    "## Работа с сайтом DuckDuckGo (поисковик)."
   ]
  },
  {
   "cell_type": "markdown",
   "metadata": {},
   "source": [
    "Задача:\n",
    "1) Ввести в строчку поиска текст -> выполнения поиска\n",
    "2) Выполнение сортировки -> работы с выпадающим меню\n",
    "3) Показать больше ссылок -> скроллинг + переход на след.страницу\n",
    "4) Скрейпинг заголовков страниц и url"
   ]
  },
  {
   "cell_type": "code",
   "execution_count": 15,
   "metadata": {},
   "outputs": [],
   "source": [
    "from selenium import webdriver\n",
    "from selenium.webdriver.common.by import By\n",
    "from selenium.webdriver.support.ui import Select\n",
    "from selenium import webdriver\n",
    "from selenium.webdriver.support.ui import WebDriverWait\n",
    "from selenium.webdriver.support import expected_conditions as EC\n",
    "import csv\n",
    "import pandas as pd\n",
    "import time"
   ]
  },
  {
   "cell_type": "code",
   "execution_count": 16,
   "metadata": {},
   "outputs": [],
   "source": [
    "driver = webdriver.Chrome()\n",
    "driver.get(\"https://www.duckduckgo.com/\")"
   ]
  },
  {
   "cell_type": "code",
   "execution_count": 17,
   "metadata": {},
   "outputs": [],
   "source": [
    "# ожидаем загрузки страницы\n",
    "time.sleep(3)"
   ]
  },
  {
   "cell_type": "code",
   "execution_count": 18,
   "metadata": {},
   "outputs": [],
   "source": [
    "# поисковая строка и ввод запроса\n",
    "search_bar = driver.find_element(By.NAME, 'q')\n",
    "search_bar.send_keys('Data Scientist')"
   ]
  },
  {
   "cell_type": "code",
   "execution_count": 19,
   "metadata": {},
   "outputs": [],
   "source": [
    "# поиск кнопки поиска и ее нажатие\n",
    "search_button = driver.find_element(By.XPATH, '//button[@aria-label=\"Search\"]')\n",
    "search_button.click()"
   ]
  },
  {
   "cell_type": "markdown",
   "metadata": {},
   "source": [
    "Сортировка"
   ]
  },
  {
   "cell_type": "code",
   "execution_count": 20,
   "metadata": {},
   "outputs": [],
   "source": [
    "# поиск элемента выпадающего меню и клик\n",
    "dropdown = driver.find_element(By.XPATH, '//div[@class=\"dropdown  dropdown--date \"]/a')\n",
    "dropdown.click()\n",
    "\n",
    "# выбор \"за последнюю неделю\"\n",
    "option_dropdown = driver.find_element(By.XPATH, '//div[@class=\"modal__box\"]//a[@data-value=\"w\"]')\n",
    "option_dropdown.click()"
   ]
  },
  {
   "cell_type": "markdown",
   "metadata": {},
   "source": [
    "Кнопка \"ПОКАЗАТЬ БОЛЬШЕ\""
   ]
  },
  {
   "cell_type": "code",
   "execution_count": 21,
   "metadata": {},
   "outputs": [],
   "source": [
    "more_results = driver.find_element(By.XPATH, '//button[@id=\"more-results\"]')\n",
    "more_results.click()"
   ]
  },
  {
   "cell_type": "markdown",
   "metadata": {},
   "source": [
    "поиск всех результатов на странице"
   ]
  },
  {
   "cell_type": "code",
   "execution_count": 22,
   "metadata": {},
   "outputs": [],
   "source": [
    "results = driver.find_elements(By.XPATH, '//li[@data-layout=\"organic\"]')\n",
    "\n",
    "result_data = []\n",
    "for res in results:\n",
    "    res_title = res.find_element(By.XPATH, './/h2//span').text\n",
    "    res_url = res.find_element(By.XPATH, './/a').get_attribute('href')\n",
    "    result_data.append({\n",
    "        'title': res_title,\n",
    "        'url': res_url\n",
    "    })"
   ]
  },
  {
   "cell_type": "code",
   "execution_count": 23,
   "metadata": {},
   "outputs": [],
   "source": [
    "driver.quit()"
   ]
  },
  {
   "cell_type": "code",
   "execution_count": 24,
   "metadata": {},
   "outputs": [],
   "source": [
    "# запись в csv\n",
    "with open('duckduckgo_search.csv', 'w', encoding='UTF-8', newline='') as f:\n",
    "    writer = csv.DictWriter(f, fieldnames=['title', 'url'])\n",
    "    writer.writeheader()\n",
    "    writer.writerows(result_data)\n"
   ]
  },
  {
   "cell_type": "code",
   "execution_count": 25,
   "metadata": {},
   "outputs": [
    {
     "data": {
      "text/html": [
       "<div>\n",
       "<style scoped>\n",
       "    .dataframe tbody tr th:only-of-type {\n",
       "        vertical-align: middle;\n",
       "    }\n",
       "\n",
       "    .dataframe tbody tr th {\n",
       "        vertical-align: top;\n",
       "    }\n",
       "\n",
       "    .dataframe thead th {\n",
       "        text-align: right;\n",
       "    }\n",
       "</style>\n",
       "<table border=\"1\" class=\"dataframe\">\n",
       "  <thead>\n",
       "    <tr style=\"text-align: right;\">\n",
       "      <th></th>\n",
       "      <th>title</th>\n",
       "      <th>url</th>\n",
       "    </tr>\n",
       "  </thead>\n",
       "  <tbody>\n",
       "    <tr>\n",
       "      <th>0</th>\n",
       "      <td>Salary: Data Scientist in United States 2024 |...</td>\n",
       "      <td>https://duckduckgo.com/?q=Data%20Scientist+sit...</td>\n",
       "    </tr>\n",
       "    <tr>\n",
       "      <th>1</th>\n",
       "      <td>Towards Data Science</td>\n",
       "      <td>https://duckduckgo.com/?q=Data%20Scientist+sit...</td>\n",
       "    </tr>\n",
       "    <tr>\n",
       "      <th>2</th>\n",
       "      <td>Your Guide to Data Science Careers (+ How to G...</td>\n",
       "      <td>https://duckduckgo.com/?q=Data%20Scientist+sit...</td>\n",
       "    </tr>\n",
       "    <tr>\n",
       "      <th>3</th>\n",
       "      <td>20 Best Data Science Books | Built In</td>\n",
       "      <td>https://duckduckgo.com/?q=Data%20Scientist+sit...</td>\n",
       "    </tr>\n",
       "    <tr>\n",
       "      <th>4</th>\n",
       "      <td>Salary: Data Scientist in United States 2024 |...</td>\n",
       "      <td>https://duckduckgo.com/?q=Data%20Scientist+sit...</td>\n",
       "    </tr>\n",
       "    <tr>\n",
       "      <th>5</th>\n",
       "      <td>Data Science Courses - Great Learning</td>\n",
       "      <td>https://duckduckgo.com/?q=Data%20Scientist+sit...</td>\n",
       "    </tr>\n",
       "    <tr>\n",
       "      <th>6</th>\n",
       "      <td>Data Science Tutorials | DataCamp Blog | DataCamp</td>\n",
       "      <td>https://duckduckgo.com/?q=Data%20Scientist+sit...</td>\n",
       "    </tr>\n",
       "    <tr>\n",
       "      <th>7</th>\n",
       "      <td>Data Science, B.S. - University of North Carol...</td>\n",
       "      <td>https://duckduckgo.com/?q=Data%20Scientist+sit...</td>\n",
       "    </tr>\n",
       "    <tr>\n",
       "      <th>8</th>\n",
       "      <td>Data Analyst Online Course | Data Analytics | ...</td>\n",
       "      <td>https://duckduckgo.com/?q=Data%20Scientist+sit...</td>\n",
       "    </tr>\n",
       "    <tr>\n",
       "      <th>9</th>\n",
       "      <td>Data Scientist Salary in New York, NY - Levels...</td>\n",
       "      <td>https://duckduckgo.com/?q=Data%20Scientist+sit...</td>\n",
       "    </tr>\n",
       "    <tr>\n",
       "      <th>10</th>\n",
       "      <td>Artificial Intelligence and Data Science: Lear...</td>\n",
       "      <td>https://duckduckgo.com/?q=Data%20Scientist+sit...</td>\n",
       "    </tr>\n",
       "    <tr>\n",
       "      <th>11</th>\n",
       "      <td>10 Free Must-Take Data Science Courses to Get ...</td>\n",
       "      <td>https://duckduckgo.com/?q=Data%20Scientist+sit...</td>\n",
       "    </tr>\n",
       "    <tr>\n",
       "      <th>12</th>\n",
       "      <td>Data Science Vs Data Analytics: Definition, Pr...</td>\n",
       "      <td>https://duckduckgo.com/?q=Data%20Scientist+sit...</td>\n",
       "    </tr>\n",
       "    <tr>\n",
       "      <th>13</th>\n",
       "      <td>11 Best Freelance Data Scientists [Hire in 48 ...</td>\n",
       "      <td>https://duckduckgo.com/?q=Data%20Scientist+sit...</td>\n",
       "    </tr>\n",
       "    <tr>\n",
       "      <th>14</th>\n",
       "      <td>DataCamp Review - 8 Pros &amp; Cons To Consider in...</td>\n",
       "      <td>https://duckduckgo.com/?q=Data%20Scientist+sit...</td>\n",
       "    </tr>\n",
       "    <tr>\n",
       "      <th>15</th>\n",
       "      <td>Google Data Scientist Interview Questions | Gl...</td>\n",
       "      <td>https://duckduckgo.com/?q=Data%20Scientist+sit...</td>\n",
       "    </tr>\n",
       "    <tr>\n",
       "      <th>16</th>\n",
       "      <td>Data Scientist Salary in United States - Level...</td>\n",
       "      <td>https://duckduckgo.com/?q=Data%20Scientist+sit...</td>\n",
       "    </tr>\n",
       "    <tr>\n",
       "      <th>17</th>\n",
       "      <td>10 Skills You Need to Become a Data Scientist ...</td>\n",
       "      <td>https://duckduckgo.com/?q=Data%20Scientist+sit...</td>\n",
       "    </tr>\n",
       "    <tr>\n",
       "      <th>18</th>\n",
       "      <td>Data Science List - Home</td>\n",
       "      <td>https://duckduckgo.com/?q=Data%20Scientist+sit...</td>\n",
       "    </tr>\n",
       "    <tr>\n",
       "      <th>19</th>\n",
       "      <td>Data Science | UNjobs</td>\n",
       "      <td>https://duckduckgo.com/?q=Data%20Scientist+sit...</td>\n",
       "    </tr>\n",
       "    <tr>\n",
       "      <th>20</th>\n",
       "      <td>Research Careers - Microsoft Research</td>\n",
       "      <td>https://duckduckgo.com/?q=Data%20Scientist+sit...</td>\n",
       "    </tr>\n",
       "    <tr>\n",
       "      <th>21</th>\n",
       "      <td>Data Analytics Services | Toptal®</td>\n",
       "      <td>https://duckduckgo.com/?q=Data%20Scientist+sit...</td>\n",
       "    </tr>\n",
       "    <tr>\n",
       "      <th>22</th>\n",
       "      <td>Salary: Data Scientist in India 2024 | Glassdoor</td>\n",
       "      <td>https://duckduckgo.com/?q=Data%20Scientist+sit...</td>\n",
       "    </tr>\n",
       "  </tbody>\n",
       "</table>\n",
       "</div>"
      ],
      "text/plain": [
       "                                                title  \\\n",
       "0   Salary: Data Scientist in United States 2024 |...   \n",
       "1                                Towards Data Science   \n",
       "2   Your Guide to Data Science Careers (+ How to G...   \n",
       "3               20 Best Data Science Books | Built In   \n",
       "4   Salary: Data Scientist in United States 2024 |...   \n",
       "5               Data Science Courses - Great Learning   \n",
       "6   Data Science Tutorials | DataCamp Blog | DataCamp   \n",
       "7   Data Science, B.S. - University of North Carol...   \n",
       "8   Data Analyst Online Course | Data Analytics | ...   \n",
       "9   Data Scientist Salary in New York, NY - Levels...   \n",
       "10  Artificial Intelligence and Data Science: Lear...   \n",
       "11  10 Free Must-Take Data Science Courses to Get ...   \n",
       "12  Data Science Vs Data Analytics: Definition, Pr...   \n",
       "13  11 Best Freelance Data Scientists [Hire in 48 ...   \n",
       "14  DataCamp Review - 8 Pros & Cons To Consider in...   \n",
       "15  Google Data Scientist Interview Questions | Gl...   \n",
       "16  Data Scientist Salary in United States - Level...   \n",
       "17  10 Skills You Need to Become a Data Scientist ...   \n",
       "18                           Data Science List - Home   \n",
       "19                              Data Science | UNjobs   \n",
       "20              Research Careers - Microsoft Research   \n",
       "21                  Data Analytics Services | Toptal®   \n",
       "22   Salary: Data Scientist in India 2024 | Glassdoor   \n",
       "\n",
       "                                                  url  \n",
       "0   https://duckduckgo.com/?q=Data%20Scientist+sit...  \n",
       "1   https://duckduckgo.com/?q=Data%20Scientist+sit...  \n",
       "2   https://duckduckgo.com/?q=Data%20Scientist+sit...  \n",
       "3   https://duckduckgo.com/?q=Data%20Scientist+sit...  \n",
       "4   https://duckduckgo.com/?q=Data%20Scientist+sit...  \n",
       "5   https://duckduckgo.com/?q=Data%20Scientist+sit...  \n",
       "6   https://duckduckgo.com/?q=Data%20Scientist+sit...  \n",
       "7   https://duckduckgo.com/?q=Data%20Scientist+sit...  \n",
       "8   https://duckduckgo.com/?q=Data%20Scientist+sit...  \n",
       "9   https://duckduckgo.com/?q=Data%20Scientist+sit...  \n",
       "10  https://duckduckgo.com/?q=Data%20Scientist+sit...  \n",
       "11  https://duckduckgo.com/?q=Data%20Scientist+sit...  \n",
       "12  https://duckduckgo.com/?q=Data%20Scientist+sit...  \n",
       "13  https://duckduckgo.com/?q=Data%20Scientist+sit...  \n",
       "14  https://duckduckgo.com/?q=Data%20Scientist+sit...  \n",
       "15  https://duckduckgo.com/?q=Data%20Scientist+sit...  \n",
       "16  https://duckduckgo.com/?q=Data%20Scientist+sit...  \n",
       "17  https://duckduckgo.com/?q=Data%20Scientist+sit...  \n",
       "18  https://duckduckgo.com/?q=Data%20Scientist+sit...  \n",
       "19  https://duckduckgo.com/?q=Data%20Scientist+sit...  \n",
       "20  https://duckduckgo.com/?q=Data%20Scientist+sit...  \n",
       "21  https://duckduckgo.com/?q=Data%20Scientist+sit...  \n",
       "22  https://duckduckgo.com/?q=Data%20Scientist+sit...  "
      ]
     },
     "execution_count": 25,
     "metadata": {},
     "output_type": "execute_result"
    }
   ],
   "source": [
    "df = pd.DataFrame(result_data)\n",
    "df"
   ]
  }
 ],
 "metadata": {
  "kernelspec": {
   "display_name": "Python 3",
   "language": "python",
   "name": "python3"
  },
  "language_info": {
   "codemirror_mode": {
    "name": "ipython",
    "version": 3
   },
   "file_extension": ".py",
   "mimetype": "text/x-python",
   "name": "python",
   "nbconvert_exporter": "python",
   "pygments_lexer": "ipython3",
   "version": "3.10.9"
  }
 },
 "nbformat": 4,
 "nbformat_minor": 2
}
