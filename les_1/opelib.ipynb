{
 "cells": [
  {
   "cell_type": "code",
   "execution_count": 35,
   "metadata": {},
   "outputs": [],
   "source": [
    "# импортируем библиотеку для создания запросов\n",
    "import requests\n",
    "import json"
   ]
  },
  {
   "cell_type": "code",
   "execution_count": 36,
   "metadata": {},
   "outputs": [],
   "source": [
    "# Определение конечной точки API\n",
    "url = \"http://openlibrary.org/search.json\"\n",
    "\n",
    "# название темы\n",
    "sub = 'Artifical intelligence'\n",
    "\n",
    "# параметры для запроса, узнаем на сайте (могут меняться)\n",
    "param = {\n",
    "    'subject': sub,     # интересующая тема\n",
    "    'limit': 10         # кол-во полученных книг\n",
    "}"
   ]
  },
  {
   "cell_type": "code",
   "execution_count": 37,
   "metadata": {},
   "outputs": [
    {
     "name": "stdout",
     "output_type": "stream",
     "text": [
      "Запрос успешный\n"
     ]
    }
   ],
   "source": [
    "# отправка get-запроса и сохранение ответа\n",
    "response = requests.get(url, params=param)\n",
    "\n",
    "# проверка кода состояния\n",
    "if response.status_code == 200:\n",
    "    print('Запрос успешный')\n",
    "else:\n",
    "    print(f'Запрос отклонен. Код состояния: {response.status_code}')\n"
   ]
  },
  {
   "cell_type": "code",
   "execution_count": null,
   "metadata": {},
   "outputs": [],
   "source": [
    "# вывод на экран ответа\n",
    "print(response.text)"
   ]
  },
  {
   "cell_type": "code",
   "execution_count": 39,
   "metadata": {},
   "outputs": [],
   "source": [
    "# сохранение ответа в словаре python\n",
    "data = json.loads(response.text)"
   ]
  },
  {
   "cell_type": "code",
   "execution_count": 40,
   "metadata": {},
   "outputs": [],
   "source": [
    "# сохранение ответа в отдельный файл json\n",
    "with open('response.json', 'w', encoding='utf-8') as text:\n",
    "    json.dump(data, text, ensure_ascii=False, separators=(', ', ':'))\n"
   ]
  },
  {
   "cell_type": "code",
   "execution_count": 41,
   "metadata": {},
   "outputs": [
    {
     "data": {
      "text/plain": [
       "dict_keys(['numFound', 'start', 'numFoundExact', 'docs', 'num_found', 'q', 'offset'])"
      ]
     },
     "execution_count": 41,
     "metadata": {},
     "output_type": "execute_result"
    }
   ],
   "source": [
    "data.keys()"
   ]
  },
  {
   "cell_type": "code",
   "execution_count": 42,
   "metadata": {},
   "outputs": [],
   "source": [
    "# список всех книг\n",
    "books = data['docs']"
   ]
  },
  {
   "cell_type": "code",
   "execution_count": 43,
   "metadata": {},
   "outputs": [
    {
     "name": "stdout",
     "output_type": "stream",
     "text": [
      "Title: Metamagical Themas\n",
      "Author name: ['Douglas R. Hofstadter']\n",
      "Subject: ['Intellect', 'Self (Philosophy)', 'Science', 'Philosophy', 'Metamathematics', 'Amusements', 'Artificial intelligence', 'Artifical intelligence', 'Intellect.', 'Self', 'Esprit', 'Creativity', 'Sciences', 'Musicologie', 'Mathematics', 'Mental Processes', 'Moi (Philosophie)', 'Künstliche Intelligenz', 'Modèles mathématiques', 'Philosophie', 'Créativité', 'Esthétique', 'Recherche', 'Cognition', 'Notatie', 'Wissenschaftsphilosophie', 'Jeux, Théorie des', 'Mathématiques', 'Verstand', 'Denken', 'Waarneming', 'Kunstmatige intelligentie', 'Intelligence artificielle', 'Aufsatzsammlung', 'Creative ability', 'Ciencia Da Computacao Ou Informatica', 'Science, philosophy', 'Poetry (poetic works by one author)', 'Science/Mathematics']\n",
      "\n",
      "\n",
      "Title: Intelligence artificielle\n",
      "Author name: ['Tristan Cazenave']\n",
      "Subject: ['Artifical intelligence', 'Textbooks', 'Game theory', 'Artificial intelligence']\n",
      "\n",
      "\n",
      "Title: The Myth of Artifical Intelligence\n",
      "Author name: ['Erik J. Larson']\n",
      "Subject: ['AI', 'artifical intelligence', 'ethics', 'computers', 'science', 'future', 'Science', 'Artificial intelligence', 'Intellect', 'Inference', 'Logic', 'Natural language processing (Computer science)', 'Neurosciences']\n",
      "\n",
      "\n",
      "Title: International Conference on Intelligent User Interfaces\n",
      "Author name: ['International Conference on Intelligent User Interfaces']\n",
      "Subject: ['Artifical intelligence', 'Congresses', 'Human-computer interaction']\n",
      "\n",
      "\n",
      "Title: Robots and human intelligence\n",
      "Author name: ['Herbert W. Franke']\n",
      "Subject: ['Artifical intelligence', 'Robots', 'Language and languages']\n",
      "\n",
      "\n",
      "Title: Artificial intelligence in medicine\n",
      "Author name: ['Conference on Artificial Intelligence in Medicine in Europe (9th 2003 Protaras, Cyprus)']\n",
      "Subject: ['Artifical intelligence', 'Artificial intelligence', 'Congresses', 'Medical applications', 'Medical informatics']\n",
      "\n",
      "\n",
      "Title: Artificial Intelligence and Environmental Protection\n",
      "Author name: ['Arnault Pachot', 'Céline Patissier']\n",
      "Subject: ['artifical intelligence', 'environmental', 'new technology', 'climatechange', 'digital']\n",
      "\n",
      "\n",
      "Title: Consequences of nonclassical measurement for the algorithmic description of continuous dynamical systems\n",
      "Author name: ['Chris Fields']\n",
      "Subject: ['Artifical intelligence', 'Dynamical systems', 'Measurement', 'Neural nets', 'Simulation', 'Turing machines']\n",
      "\n",
      "\n",
      "Title: Fuzzy logic decoupled longitudinal control for general aviation airplanes\n",
      "Author name: ['Noel Duerksen']\n",
      "Subject: ['Artifical intelligence', 'General aviation aircraft', 'Fuzzy systems', 'Expert systems', 'Longitudinal control']\n",
      "\n",
      "\n",
      "Title: The Dice\n",
      "Author name: ['Ramil Mustafayev']\n",
      "Subject: ['Science Fiction', 'Utopias and Dystopias', 'Artifical intelligence', 'The Future', 'Robots, fiction']\n",
      "\n",
      "\n"
     ]
    }
   ],
   "source": [
    "# получить информацию по каждой книги\n",
    "for book in books:\n",
    "    print(f'Title: {book[\"title\"]}')\n",
    "    print(f'Author name: {book[\"author_name\"]}')\n",
    "    print(f'Subject: {book[\"subject\"]}')\n",
    "    print('\\n')"
   ]
  }
 ],
 "metadata": {
  "kernelspec": {
   "display_name": "Python 3",
   "language": "python",
   "name": "python3"
  },
  "language_info": {
   "codemirror_mode": {
    "name": "ipython",
    "version": 3
   },
   "file_extension": ".py",
   "mimetype": "text/x-python",
   "name": "python",
   "nbconvert_exporter": "python",
   "pygments_lexer": "ipython3",
   "version": "3.10.9"
  }
 },
 "nbformat": 4,
 "nbformat_minor": 2
}
