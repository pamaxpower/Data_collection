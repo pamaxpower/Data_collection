{
 "cells": [
  {
   "cell_type": "code",
   "execution_count": 1,
   "metadata": {},
   "outputs": [],
   "source": [
    "import requests\n",
    "from bs4 import BeautifulSoup\n",
    "import urllib.parse\n",
    "from datetime import datetime, time, timedelta\n",
    "import time\n",
    "import re\n",
    "import json"
   ]
  },
  {
   "cell_type": "code",
   "execution_count": 2,
   "metadata": {},
   "outputs": [],
   "source": [
    "# Запрос веб-страницы\n",
    "url = 'https://www.boxofficemojo.com/intl/?ref_=bo_nb_hm_tab'\n",
    "response = requests.get(url, headers = {'User-Agent' : 'Mozilla/5.0 (Macintosh; Intel Mac OS X 10_15_7) AppleWebKit/537.36 (KHTML, like Gecko) Chrome/110.0.0.0 Safari/537.36'})\n",
    "\n",
    "# Парсинг HTML-содержимого веб-страницы с помощью Beautiful Soup\n",
    "soup = BeautifulSoup(response.content, 'html.parser')"
   ]
  },
  {
   "cell_type": "code",
   "execution_count": 3,
   "metadata": {},
   "outputs": [
    {
     "ename": "AttributeError",
     "evalue": "'NoneType' object has no attribute 'get'",
     "output_type": "error",
     "traceback": [
      "\u001b[1;31m---------------------------------------------------------------------------\u001b[0m",
      "\u001b[1;31mAttributeError\u001b[0m                            Traceback (most recent call last)",
      "Cell \u001b[1;32mIn[3], line 4\u001b[0m\n\u001b[0;32m      2\u001b[0m release_links \u001b[38;5;241m=\u001b[39m []\n\u001b[0;32m      3\u001b[0m \u001b[38;5;28;01mfor\u001b[39;00m link \u001b[38;5;129;01min\u001b[39;00m soup\u001b[38;5;241m.\u001b[39mfind_all(\u001b[38;5;124m'\u001b[39m\u001b[38;5;124mtd\u001b[39m\u001b[38;5;124m'\u001b[39m, (\u001b[38;5;124m'\u001b[39m\u001b[38;5;124mclass\u001b[39m\u001b[38;5;124m'\u001b[39m, \u001b[38;5;124m'\u001b[39m\u001b[38;5;124ma-text-left mojo-field-type-release mojo-cell-wide\u001b[39m\u001b[38;5;124m'\u001b[39m)):\n\u001b[1;32m----> 4\u001b[0m     release_links\u001b[38;5;241m.\u001b[39mappend(\u001b[43mlink\u001b[49m\u001b[38;5;241;43m.\u001b[39;49m\u001b[43mfind\u001b[49m\u001b[43m(\u001b[49m\u001b[38;5;124;43m'\u001b[39;49m\u001b[38;5;124;43ma\u001b[39;49m\u001b[38;5;124;43m'\u001b[39;49m\u001b[43m)\u001b[49m\u001b[38;5;241;43m.\u001b[39;49m\u001b[43mget\u001b[49m(\u001b[38;5;124m'\u001b[39m\u001b[38;5;124mhref\u001b[39m\u001b[38;5;124m'\u001b[39m))\n",
      "\u001b[1;31mAttributeError\u001b[0m: 'NoneType' object has no attribute 'get'"
     ]
    }
   ],
   "source": [
    "# Вывод ссылок на\n",
    "release_links = []\n",
    "for link in soup.find_all('td', ('class', 'a-text-left mojo-field-type-release mojo-cell-wide')):\n",
    "    release_links.append(link.find('a').get('href'))"
   ]
  },
  {
   "cell_type": "code",
   "execution_count": null,
   "metadata": {},
   "outputs": [],
   "source": [
    "# Объединение ссылок с базовым URL-адресом для создания списка URL-адресов\n",
    "url_joined = []\n",
    "for link in release_links:\n",
    "  url_joined.append(urllib.parse.urljoin('https://www.boxofficemojo.com', link))"
   ]
  },
  {
   "cell_type": "code",
   "execution_count": null,
   "metadata": {},
   "outputs": [],
   "source": [
    "#Извлечение данных из таблицы построково и сохранение их в списке словарей\n",
    "data = []\n",
    "for url in url_joined:\n",
    "    response = requests.get(url, headers = {'User-Agent' : 'Mozilla/5.0 (Macintosh; Intel Mac OS X 10_15_7) AppleWebKit/537.36 (KHTML, like Gecko) Chrome/110.0.0.0 Safari/537.36'})\n",
    "    soup = BeautifulSoup(response.content, 'html.parser')\n",
    "    table = soup.find('div', {'class': 'a-section a-spacing-none mojo-summary-values mojo-hidden-from-mobile'})\n",
    "    rows = table.find_all('div', {'class': 'a-section a-spacing-none'})\n",
    "\n",
    "    row_data={}\n",
    "    for row in rows:\n",
    "        key = row.find('span').text.strip()\n",
    "        value = row.find_all('span')[1].text.strip()\n",
    "        if key == 'Opening':\n",
    "            value = int(re.sub('[^0-9]', '', value))\n",
    "        elif key == 'Release Date':\n",
    "            value = value\n",
    "        elif key == 'Running Time':\n",
    "            time_delta = datetime.strptime(value, '%H hr %M min') - datetime(1900, 1, 1)\n",
    "            value = time_delta.total_seconds()\n",
    "        elif key == 'Genres':\n",
    "            value = [genre.strip() for genre in value.split('\\n') if genre.strip()]\n",
    "        elif key == 'In Release':\n",
    "            value = value.replace(' days/3 weeks', '').strip()\n",
    "        elif key == 'Widest Release':\n",
    "            value = int(re.sub('[^0-9]', '', value))\n",
    "        \n",
    "        row_data[key] = value\n",
    "    \n",
    "    data.append(row_data)\n",
    "    time.sleep(10)"
   ]
  },
  {
   "cell_type": "code",
   "execution_count": null,
   "metadata": {},
   "outputs": [],
   "source": [
    "# сохранение данных в JSON-файл\n",
    "with open('box_office_data.json', 'w') as f:\n",
    "    json.dump(data, f)"
   ]
  }
 ],
 "metadata": {
  "kernelspec": {
   "display_name": "Python 3",
   "language": "python",
   "name": "python3"
  },
  "language_info": {
   "codemirror_mode": {
    "name": "ipython",
    "version": 3
   },
   "file_extension": ".py",
   "mimetype": "text/x-python",
   "name": "python",
   "nbconvert_exporter": "python",
   "pygments_lexer": "ipython3",
   "version": "3.10.9"
  }
 },
 "nbformat": 4,
 "nbformat_minor": 2
}
