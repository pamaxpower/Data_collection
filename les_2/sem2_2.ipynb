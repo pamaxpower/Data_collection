{
 "cells": [
  {
   "cell_type": "code",
   "execution_count": 1,
   "metadata": {},
   "outputs": [],
   "source": [
    "import requests\n",
    "from bs4 import BeautifulSoup\n",
    "import urllib.parse"
   ]
  },
  {
   "cell_type": "code",
   "execution_count": 2,
   "metadata": {},
   "outputs": [],
   "source": [
    "# Запрос веб-страницы\n",
    "url = 'https://www.boxofficemojo.com/intl/?ref_=bo_nb_hm_tab'\n",
    "response = requests.get(url)"
   ]
  },
  {
   "cell_type": "code",
   "execution_count": 3,
   "metadata": {},
   "outputs": [],
   "source": [
    "# Парсинг HTML-содержимого веб-страницы с помощью Beautiful Soup\n",
    "soup = BeautifulSoup(response.content, 'html.parser')"
   ]
  },
  {
   "cell_type": "code",
   "execution_count": null,
   "metadata": {},
   "outputs": [],
   "source": [
    "# Вывод ссылок на\n",
    "release_links = []\n",
    "for link in soup.find_all('td', ('class', 'a-text-left mojo-field-type-release mojo-cell-wide')):\n",
    "    release_links.append(link.find('a').get('href'))"
   ]
  },
  {
   "cell_type": "code",
   "execution_count": null,
   "metadata": {},
   "outputs": [],
   "source": [
    "# Объединение ссылок с базовым URL-адресом для создания списка URL-адресов\n",
    "url_joined = []\n",
    "for link in release_links:\n",
    "  url_joined.append(urllib.parse.urljoin('https://www.boxofficemojo.com', link))"
   ]
  },
  {
   "cell_type": "code",
   "execution_count": null,
   "metadata": {},
   "outputs": [],
   "source": [
    "# Поиск таблицы с данными и ее заголовков\n",
    "table = soup.find('table', {'class': 'a-bordered'})\n",
    "headers = [header.text for header in table.find_all('th')]"
   ]
  },
  {
   "cell_type": "code",
   "execution_count": null,
   "metadata": {},
   "outputs": [],
   "source": [
    "#Извлечение данных из таблицы построково и сохранение их в списке словарей\n",
    "data = []\n",
    "for row in table.find_all('tr'):\n",
    "    row_data = {}\n",
    "    cells = row.find_all('td')\n",
    "    if cells:\n",
    "        row_data[headers[0]] = cells[0].find('a').text\n",
    "        row_data[headers[1]] = cells[1].text\n",
    "        row_data[headers[2]] = int(cells[2].text)\n",
    "        row_data[headers[3]] = cells[3].find('a').text\n",
    "        row_data[headers[4]] = cells[4].text.strip()\n",
    "        row_data[headers[5]] = int(cells[5].text.replace('$', '').replace(',', ''))\n",
    "        data.append(row_data)"
   ]
  },
  {
   "cell_type": "code",
   "execution_count": null,
   "metadata": {},
   "outputs": [],
   "source": [
    "# Конвертация списка словарей в pandas DataFrame и его вывод\n",
    "import pandas as pd\n",
    "df = pd.DataFrame(data)\n",
    "print(df)"
   ]
  }
 ],
 "metadata": {
  "kernelspec": {
   "display_name": "Python 3",
   "language": "python",
   "name": "python3"
  },
  "language_info": {
   "codemirror_mode": {
    "name": "ipython",
    "version": 3
   },
   "file_extension": ".py",
   "mimetype": "text/x-python",
   "name": "python",
   "nbconvert_exporter": "python",
   "pygments_lexer": "ipython3",
   "version": "3.10.9"
  }
 },
 "nbformat": 4,
 "nbformat_minor": 2
}
