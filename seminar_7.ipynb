{
 "cells": [
  {
   "cell_type": "markdown",
   "id": "e5d1955532185844",
   "metadata": {
    "collapsed": false,
    "jupyter": {
     "outputs_hidden": false
    }
   },
   "source": [
    "# ДЗ по \"Сбор и разметка данных (семинары)\"\n",
    "## Семинар 7. Selenium в Python\n",
    "Домашнее задание:  \n",
    "1.\tВыберите веб-сайт, который содержит информацию, представляющую интерес для извлечения данных. Это может быть новостной сайт, платформа для электронной коммерции или любой другой сайт, который позволяет осуществлять скрейпинг (убедитесь в соблюдении условий обслуживания сайта).  \n",
    "2.\tИспользуя Selenium, напишите сценарий для автоматизации процесса перехода на нужную страницу сайта.  \n",
    "3.\tОпределите элементы HTML, содержащие информацию, которую вы хотите извлечь (например, заголовки статей, названия продуктов, цены и т.д.).  \n",
    "4.\tИспользуйте BeautifulSoup для парсинга содержимого HTML и извлечения нужной информации из идентифицированных элементов.  \n",
    "5.\tОбработайте любые ошибки или исключения, которые могут возникнуть в процессе скрейпинга.  \n",
    "6.\tПротестируйте свой скрипт на различных сценариях, чтобы убедиться, что он точно извлекает нужные данные.  \n",
    "7.\tПредоставьте ваш Python-скрипт вместе с кратким отчетом (не более 1 страницы), который включает следующее:   \n",
    "URL сайта. Укажите URL сайта, который вы выбрали для анализа. Описание. Предоставьте краткое описание информации, которую вы хотели извлечь из сайта. Подход. Объясните подход, который вы использовали для навигации по сайту, определения соответствующих элементов и извлечения нужных данных. Трудности. Опишите все проблемы и препятствия, с которыми вы столкнулись в ходе реализации проекта, и как вы их преодолели. Результаты. Включите образец извлеченных данных в выбранном вами структурированном формате (например, CSV или JSON).  \n",
    "\n",
    "*Примечание: Обязательно соблюдайте условия обслуживания сайта и избегайте чрезмерного скрейпинга, который может нарушить нормальную работу сайта.*"
   ]
  },
  {
   "cell_type": "code",
   "execution_count": 3,
   "id": "cef5c2fd82565283",
   "metadata": {
    "ExecuteTime": {
     "end_time": "2024-04-07T18:22:35.023447Z",
     "start_time": "2024-04-07T18:22:35.011441Z"
    },
    "collapsed": false,
    "jupyter": {
     "outputs_hidden": false
    }
   },
   "outputs": [
    {
     "name": "stdout",
     "output_type": "stream",
     "text": [
      "Collecting selenium\n",
      "  Downloading selenium-4.21.0-py3-none-any.whl.metadata (6.9 kB)\n",
      "Requirement already satisfied: urllib3<3,>=1.26 in c:\\users\\lenovo\\appdata\\local\\programs\\python\\python310\\lib\\site-packages (from urllib3[socks]<3,>=1.26->selenium) (2.2.1)\n",
      "Collecting trio~=0.17 (from selenium)\n",
      "  Downloading trio-0.25.1-py3-none-any.whl.metadata (8.7 kB)\n",
      "Collecting trio-websocket~=0.9 (from selenium)\n",
      "  Using cached trio_websocket-0.11.1-py3-none-any.whl.metadata (4.7 kB)\n",
      "Requirement already satisfied: certifi>=2021.10.8 in c:\\users\\lenovo\\appdata\\local\\programs\\python\\python310\\lib\\site-packages (from selenium) (2024.2.2)\n",
      "Requirement already satisfied: typing_extensions>=4.9.0 in c:\\users\\lenovo\\appdata\\local\\programs\\python\\python310\\lib\\site-packages (from selenium) (4.11.0)\n",
      "Requirement already satisfied: attrs>=23.2.0 in c:\\users\\lenovo\\appdata\\local\\programs\\python\\python310\\lib\\site-packages (from trio~=0.17->selenium) (23.2.0)\n",
      "Collecting sortedcontainers (from trio~=0.17->selenium)\n",
      "  Using cached sortedcontainers-2.4.0-py2.py3-none-any.whl.metadata (10 kB)\n",
      "Requirement already satisfied: idna in c:\\users\\lenovo\\appdata\\local\\programs\\python\\python310\\lib\\site-packages (from trio~=0.17->selenium) (3.6)\n",
      "Collecting outcome (from trio~=0.17->selenium)\n",
      "  Using cached outcome-1.3.0.post0-py2.py3-none-any.whl.metadata (2.6 kB)\n",
      "Collecting sniffio>=1.3.0 (from trio~=0.17->selenium)\n",
      "  Using cached sniffio-1.3.1-py3-none-any.whl.metadata (3.9 kB)\n",
      "Requirement already satisfied: cffi>=1.14 in c:\\users\\lenovo\\appdata\\local\\programs\\python\\python310\\lib\\site-packages (from trio~=0.17->selenium) (1.16.0)\n",
      "Requirement already satisfied: exceptiongroup in c:\\users\\lenovo\\appdata\\local\\programs\\python\\python310\\lib\\site-packages (from trio~=0.17->selenium) (1.2.0)\n",
      "Collecting wsproto>=0.14 (from trio-websocket~=0.9->selenium)\n",
      "  Using cached wsproto-1.2.0-py3-none-any.whl.metadata (5.6 kB)\n",
      "Collecting pysocks!=1.5.7,<2.0,>=1.5.6 (from urllib3[socks]<3,>=1.26->selenium)\n",
      "  Using cached PySocks-1.7.1-py3-none-any.whl.metadata (13 kB)\n",
      "Requirement already satisfied: pycparser in c:\\users\\lenovo\\appdata\\local\\programs\\python\\python310\\lib\\site-packages (from cffi>=1.14->trio~=0.17->selenium) (2.22)\n",
      "Collecting h11<1,>=0.9.0 (from wsproto>=0.14->trio-websocket~=0.9->selenium)\n",
      "  Using cached h11-0.14.0-py3-none-any.whl.metadata (8.2 kB)\n",
      "Downloading selenium-4.21.0-py3-none-any.whl (9.5 MB)\n",
      "   ---------------------------------------- 0.0/9.5 MB ? eta -:--:--\n",
      "    --------------------------------------- 0.1/9.5 MB 2.8 MB/s eta 0:00:04\n",
      "   - -------------------------------------- 0.5/9.5 MB 4.9 MB/s eta 0:00:02\n",
      "   -- ------------------------------------- 0.5/9.5 MB 5.2 MB/s eta 0:00:02\n",
      "   ----- ---------------------------------- 1.2/9.5 MB 7.1 MB/s eta 0:00:02\n",
      "   ------- -------------------------------- 1.9/9.5 MB 7.9 MB/s eta 0:00:01\n",
      "   --------- ------------------------------ 2.4/9.5 MB 8.3 MB/s eta 0:00:01\n",
      "   ------------ --------------------------- 2.9/9.5 MB 8.8 MB/s eta 0:00:01\n",
      "   -------------- ------------------------- 3.4/9.5 MB 9.1 MB/s eta 0:00:01\n",
      "   ---------------- ----------------------- 4.0/9.5 MB 9.4 MB/s eta 0:00:01\n",
      "   ------------------- -------------------- 4.5/9.5 MB 9.6 MB/s eta 0:00:01\n",
      "   --------------------- ------------------ 5.1/9.5 MB 9.8 MB/s eta 0:00:01\n",
      "   ----------------------- ---------------- 5.6/9.5 MB 9.9 MB/s eta 0:00:01\n",
      "   ------------------------- -------------- 6.1/9.5 MB 10.1 MB/s eta 0:00:01\n",
      "   ---------------------------- ----------- 6.7/9.5 MB 10.2 MB/s eta 0:00:01\n",
      "   ------------------------------ --------- 7.2/9.5 MB 10.3 MB/s eta 0:00:01\n",
      "   -------------------------------- ------- 7.8/9.5 MB 10.4 MB/s eta 0:00:01\n",
      "   ----------------------------------- ---- 8.3/9.5 MB 10.4 MB/s eta 0:00:01\n",
      "   ------------------------------------- -- 8.9/9.5 MB 10.5 MB/s eta 0:00:01\n",
      "   ---------------------------------------  9.4/9.5 MB 10.6 MB/s eta 0:00:01\n",
      "   ---------------------------------------  9.5/9.5 MB 10.6 MB/s eta 0:00:01\n",
      "   ---------------------------------------- 9.5/9.5 MB 9.9 MB/s eta 0:00:00\n",
      "Downloading trio-0.25.1-py3-none-any.whl (467 kB)\n",
      "   ---------------------------------------- 0.0/467.7 kB ? eta -:--:--\n",
      "   ------------------- -------------------- 225.3/467.7 kB 6.7 MB/s eta 0:00:01\n",
      "   ---------------------------------------- 467.7/467.7 kB 9.7 MB/s eta 0:00:00\n",
      "Using cached trio_websocket-0.11.1-py3-none-any.whl (17 kB)\n",
      "Using cached PySocks-1.7.1-py3-none-any.whl (16 kB)\n",
      "Using cached sniffio-1.3.1-py3-none-any.whl (10 kB)\n",
      "Using cached wsproto-1.2.0-py3-none-any.whl (24 kB)\n",
      "Using cached outcome-1.3.0.post0-py2.py3-none-any.whl (10 kB)\n",
      "Using cached sortedcontainers-2.4.0-py2.py3-none-any.whl (29 kB)\n",
      "Using cached h11-0.14.0-py3-none-any.whl (58 kB)\n",
      "Installing collected packages: sortedcontainers, sniffio, pysocks, outcome, h11, wsproto, trio, trio-websocket, selenium\n",
      "Successfully installed h11-0.14.0 outcome-1.3.0.post0 pysocks-1.7.1 selenium-4.21.0 sniffio-1.3.1 sortedcontainers-2.4.0 trio-0.25.1 trio-websocket-0.11.1 wsproto-1.2.0\n",
      "Requirement already satisfied: pandas in c:\\users\\lenovo\\appdata\\local\\programs\\python\\python310\\lib\\site-packages (1.5.3)\n",
      "Requirement already satisfied: python-dateutil>=2.8.1 in c:\\users\\lenovo\\appdata\\local\\programs\\python\\python310\\lib\\site-packages (from pandas) (2.8.2)\n",
      "Requirement already satisfied: pytz>=2020.1 in c:\\users\\lenovo\\appdata\\local\\programs\\python\\python310\\lib\\site-packages (from pandas) (2022.7.1)\n",
      "Requirement already satisfied: numpy>=1.21.0 in c:\\users\\lenovo\\appdata\\local\\programs\\python\\python310\\lib\\site-packages (from pandas) (1.24.2)\n",
      "Requirement already satisfied: six>=1.5 in c:\\users\\lenovo\\appdata\\local\\programs\\python\\python310\\lib\\site-packages (from python-dateutil>=2.8.1->pandas) (1.16.0)\n",
      "Requirement already satisfied: matplotlib in c:\\users\\lenovo\\appdata\\local\\programs\\python\\python310\\lib\\site-packages (3.7.1)\n",
      "Requirement already satisfied: contourpy>=1.0.1 in c:\\users\\lenovo\\appdata\\local\\programs\\python\\python310\\lib\\site-packages (from matplotlib) (1.0.7)\n",
      "Requirement already satisfied: cycler>=0.10 in c:\\users\\lenovo\\appdata\\local\\programs\\python\\python310\\lib\\site-packages (from matplotlib) (0.11.0)\n",
      "Requirement already satisfied: fonttools>=4.22.0 in c:\\users\\lenovo\\appdata\\local\\programs\\python\\python310\\lib\\site-packages (from matplotlib) (4.39.3)\n",
      "Requirement already satisfied: kiwisolver>=1.0.1 in c:\\users\\lenovo\\appdata\\local\\programs\\python\\python310\\lib\\site-packages (from matplotlib) (1.4.4)\n",
      "Requirement already satisfied: numpy>=1.20 in c:\\users\\lenovo\\appdata\\local\\programs\\python\\python310\\lib\\site-packages (from matplotlib) (1.24.2)\n",
      "Requirement already satisfied: packaging>=20.0 in c:\\users\\lenovo\\appdata\\local\\programs\\python\\python310\\lib\\site-packages (from matplotlib) (23.0)\n",
      "Requirement already satisfied: pillow>=6.2.0 in c:\\users\\lenovo\\appdata\\local\\programs\\python\\python310\\lib\\site-packages (from matplotlib) (9.5.0)\n",
      "Requirement already satisfied: pyparsing>=2.3.1 in c:\\users\\lenovo\\appdata\\local\\programs\\python\\python310\\lib\\site-packages (from matplotlib) (3.0.9)\n",
      "Requirement already satisfied: python-dateutil>=2.7 in c:\\users\\lenovo\\appdata\\local\\programs\\python\\python310\\lib\\site-packages (from matplotlib) (2.8.2)\n",
      "Requirement already satisfied: six>=1.5 in c:\\users\\lenovo\\appdata\\local\\programs\\python\\python310\\lib\\site-packages (from python-dateutil>=2.7->matplotlib) (1.16.0)\n",
      "Requirement already satisfied: pymongo in c:\\users\\lenovo\\appdata\\local\\programs\\python\\python310\\lib\\site-packages (4.7.0)\n",
      "Requirement already satisfied: dnspython<3.0.0,>=1.16.0 in c:\\users\\lenovo\\appdata\\local\\programs\\python\\python310\\lib\\site-packages (from pymongo) (2.6.1)\n"
     ]
    }
   ],
   "source": [
    "# Устанавливаем пакеты если они не установлены\n",
    "# !pip install selenium\n",
    "# !pip install pandas\n",
    "# !pip install matplotlib\n",
    "# !pip install pymongo"
   ]
  },
  {
   "cell_type": "code",
   "execution_count": 4,
   "id": "9cdccca6d4066646",
   "metadata": {
    "ExecuteTime": {
     "end_time": "2024-04-07T19:23:30.205356Z",
     "start_time": "2024-04-07T19:23:23.309379Z"
    },
    "collapsed": false,
    "jupyter": {
     "outputs_hidden": false
    }
   },
   "outputs": [],
   "source": [
    "from selenium import webdriver\n",
    "from selenium.webdriver.chrome.options import Options\n",
    "from selenium.webdriver.support.ui import WebDriverWait\n",
    "from selenium.webdriver.support import expected_conditions as EC\n",
    "from selenium.webdriver.common.by import By\n",
    "from selenium.webdriver.common.keys import Keys\n",
    "import time\n",
    "import re\n",
    "import pandas as pd\n",
    "import matplotlib.pyplot as plt\n",
    "# Настройка формата вывода чисел float\n",
    "pd.set_option('display.float_format', '{:.2f}'.format)"
   ]
  },
  {
   "cell_type": "code",
   "execution_count": 5,
   "id": "2a5684727e6199d2",
   "metadata": {
    "ExecuteTime": {
     "end_time": "2024-04-07T18:22:42.787071Z",
     "start_time": "2024-04-07T18:22:35.054961Z"
    },
    "collapsed": false,
    "jupyter": {
     "outputs_hidden": false
    }
   },
   "outputs": [],
   "source": [
    "options = Options()\n",
    "# Запуск браузера с развернутым экраном\n",
    "options.add_argument('start-maximized')\n",
    "# Будем использовать браузер Chrom\n",
    "driver = webdriver.Chrome(options=options)\n",
    "# Открываем ссылку\n",
    "driver.get('https://www.wildberries.ru/')\n",
    "time.sleep(4)"
   ]
  },
  {
   "cell_type": "code",
   "execution_count": 6,
   "id": "90dedca122f1057f",
   "metadata": {
    "ExecuteTime": {
     "end_time": "2024-04-07T18:22:42.898600Z",
     "start_time": "2024-04-07T18:22:42.788072Z"
    },
    "collapsed": false,
    "jupyter": {
     "outputs_hidden": false
    }
   },
   "outputs": [],
   "source": [
    "wait = WebDriverWait(driver, 10)\n",
    "# Ищем строку поиска\n",
    "input = wait.until(EC.presence_of_element_located((By.ID, \"searchInput\")))\n",
    "# Вводим фразу поиска и нажимаем Enter\n",
    "input.send_keys('энергетический гель')\n",
    "input.send_keys(Keys.ENTER)"
   ]
  },
  {
   "cell_type": "markdown",
   "id": "7dd83b9570ef744d",
   "metadata": {
    "collapsed": false,
    "jupyter": {
     "outputs_hidden": false
    }
   },
   "source": [
    "### Прокручиваем страницу и записываем все ссылки на товары, если есть кнопка \"далее\" - нажимаем её или выходим из цикла "
   ]
  },
  {
   "cell_type": "code",
   "execution_count": 7,
   "id": "b5db71c4bf1c45af",
   "metadata": {
    "ExecuteTime": {
     "end_time": "2024-04-07T18:29:22.712280Z",
     "start_time": "2024-04-07T18:22:42.900594Z"
    },
    "collapsed": false,
    "jupyter": {
     "outputs_hidden": false
    }
   },
   "outputs": [],
   "source": [
    "# Список ссылок на страницы геля\n",
    "url_list = []\n",
    "\n",
    "while True:\n",
    "    # Количество товаров на странице\n",
    "    count = None\n",
    "    while True:\n",
    "        time.sleep(4)\n",
    "        # Ожидаем появление объекта (html код) карточек товара\n",
    "        cards = wait.until(EC.presence_of_all_elements_located((By.XPATH, '//article[@id]')))\n",
    "        # Выходим из цикла, если при прокрутке страницы, количество товаров не меняется \n",
    "        if len(cards) == count:\n",
    "            break    \n",
    "        # Вычисляем сколько карточек товара на странице\n",
    "        count = len(cards)\n",
    "        # Прокручиваем страницу выполняя JAVA Script\n",
    "        driver.execute_script('window.scrollBy(0, 1800)')\n",
    "        time.sleep(2)\n",
    "        \n",
    "    # На полностью загруженной странице соберём инфу\n",
    "    for card in cards:\n",
    "        # Записываем ссылку каждого товара\n",
    "        url = card.find_element(By.XPATH, './div/a').get_attribute('href')\n",
    "        url_list.append(url)\n",
    "    \n",
    "    # Проверяем есть ли кнопка дальше\n",
    "    try:\n",
    "        next = driver.find_element(By.XPATH,  \"//a[@class='pagination-next pagination__next j-next-page']\")\n",
    "        next.click()\n",
    "    except Exception:\n",
    "        break"
   ]
  },
  {
   "cell_type": "code",
   "execution_count": 8,
   "id": "6a44c926f7adea58",
   "metadata": {
    "ExecuteTime": {
     "end_time": "2024-04-07T18:40:33.419809Z",
     "start_time": "2024-04-07T18:40:33.411807Z"
    },
    "collapsed": false,
    "jupyter": {
     "outputs_hidden": false
    }
   },
   "outputs": [
    {
     "name": "stdout",
     "output_type": "stream",
     "text": [
      "Всего получено: 875 ссылок на товар\n"
     ]
    }
   ],
   "source": [
    "print(f'Всего получено: {len(url_list)} ссылок на товар')"
   ]
  },
  {
   "cell_type": "markdown",
   "id": "d630620ad9f57c25",
   "metadata": {
    "collapsed": false,
    "jupyter": {
     "outputs_hidden": false
    }
   },
   "source": [
    "### Заходим на каждую страницу найденных товаров и парсим её"
   ]
  },
  {
   "cell_type": "code",
   "execution_count": 9,
   "id": "467ce333e09bf108",
   "metadata": {
    "ExecuteTime": {
     "end_time": "2024-04-07T19:08:02.354880Z",
     "start_time": "2024-04-07T18:55:25.785715Z"
    },
    "collapsed": false,
    "jupyter": {
     "outputs_hidden": false
    }
   },
   "outputs": [
    {
     "ename": "TimeoutException",
     "evalue": "Message: \n",
     "output_type": "error",
     "traceback": [
      "\u001b[1;31m---------------------------------------------------------------------------\u001b[0m",
      "\u001b[1;31mTimeoutException\u001b[0m                          Traceback (most recent call last)",
      "Cell \u001b[1;32mIn[9], line 13\u001b[0m\n\u001b[0;32m     11\u001b[0m acb_dict[\u001b[38;5;124m'\u001b[39m\u001b[38;5;124mname\u001b[39m\u001b[38;5;124m'\u001b[39m] \u001b[38;5;241m=\u001b[39m wait2\u001b[38;5;241m.\u001b[39muntil(EC\u001b[38;5;241m.\u001b[39mpresence_of_element_located((By\u001b[38;5;241m.\u001b[39mXPATH, \u001b[38;5;124m\"\u001b[39m\u001b[38;5;124m//h1\u001b[39m\u001b[38;5;124m\"\u001b[39m)))\u001b[38;5;241m.\u001b[39mtext\n\u001b[0;32m     12\u001b[0m \u001b[38;5;66;03m# Заносим цену товара\u001b[39;00m\n\u001b[1;32m---> 13\u001b[0m price \u001b[38;5;241m=\u001b[39m \u001b[43mwait2\u001b[49m\u001b[38;5;241;43m.\u001b[39;49m\u001b[43muntil\u001b[49m\u001b[43m(\u001b[49m\u001b[43mEC\u001b[49m\u001b[38;5;241;43m.\u001b[39;49m\u001b[43mpresence_of_all_elements_located\u001b[49m\u001b[43m(\u001b[49m\u001b[43m(\u001b[49m\u001b[43mBy\u001b[49m\u001b[38;5;241;43m.\u001b[39;49m\u001b[43mCLASS_NAME\u001b[49m\u001b[43m,\u001b[49m\u001b[43m \u001b[49m\u001b[38;5;124;43m'\u001b[39;49m\u001b[38;5;124;43mprice-block__wallet-price\u001b[39;49m\u001b[38;5;124;43m'\u001b[39;49m\u001b[43m)\u001b[49m\u001b[43m)\u001b[49m\u001b[43m)\u001b[49m\n\u001b[0;32m     14\u001b[0m \u001b[38;5;28;01mtry\u001b[39;00m:\n\u001b[0;32m     15\u001b[0m     acb_dict[\u001b[38;5;124m'\u001b[39m\u001b[38;5;124mprice\u001b[39m\u001b[38;5;124m'\u001b[39m] \u001b[38;5;241m=\u001b[39m \u001b[38;5;28mfloat\u001b[39m(re\u001b[38;5;241m.\u001b[39msub(\u001b[38;5;124mr\u001b[39m\u001b[38;5;124m'\u001b[39m\u001b[38;5;124m[^\u001b[39m\u001b[38;5;124m\\\u001b[39m\u001b[38;5;124md.]+\u001b[39m\u001b[38;5;124m'\u001b[39m, \u001b[38;5;124m'\u001b[39m\u001b[38;5;124m'\u001b[39m, price[\u001b[38;5;241m1\u001b[39m]\u001b[38;5;241m.\u001b[39mtext))\n",
      "File \u001b[1;32mc:\\Users\\Lenovo\\AppData\\Local\\Programs\\Python\\Python310\\lib\\site-packages\\selenium\\webdriver\\support\\wait.py:105\u001b[0m, in \u001b[0;36mWebDriverWait.until\u001b[1;34m(self, method, message)\u001b[0m\n\u001b[0;32m    103\u001b[0m     \u001b[38;5;28;01mif\u001b[39;00m time\u001b[38;5;241m.\u001b[39mmonotonic() \u001b[38;5;241m>\u001b[39m end_time:\n\u001b[0;32m    104\u001b[0m         \u001b[38;5;28;01mbreak\u001b[39;00m\n\u001b[1;32m--> 105\u001b[0m \u001b[38;5;28;01mraise\u001b[39;00m TimeoutException(message, screen, stacktrace)\n",
      "\u001b[1;31mTimeoutException\u001b[0m: Message: \n"
     ]
    }
   ],
   "source": [
    "driver2 = webdriver.Chrome(options=options)\n",
    "wait2 = WebDriverWait(driver2, 10)\n",
    "acb_list = []\n",
    "\n",
    "# Просматриваем все ссылки на товары\n",
    "for url_item in url_list:\n",
    "    acb_dict = {}\n",
    "    \n",
    "    driver2.get(url_item)\n",
    "    # Заносим назание товара\n",
    "    acb_dict['name'] = wait2.until(EC.presence_of_element_located((By.XPATH, \"//h1\"))).text\n",
    "    # Заносим цену товара\n",
    "    price = wait2.until(EC.presence_of_all_elements_located((By.CLASS_NAME, 'price-block__wallet-price')))\n",
    "    try:\n",
    "        acb_dict['price'] = float(re.sub(r'[^\\d.]+', '', price[1].text))\n",
    "    except Exception:\n",
    "        acb_dict['price'] = None\n",
    "    # Заносим бренд товара\n",
    "    acb_dict['brend'] = wait2.until(EC.presence_of_element_located((By.CLASS_NAME, \"product-page__header-brand\"))).text\n",
    "    # Заносим url ссылку на товар\n",
    "    acb_dict['url'] = url_item   \n",
    "    \n",
    "    # Обрабатываем табличные данные\n",
    "    table_label = wait2.until(EC.presence_of_all_elements_located((By.XPATH, '//th')))\n",
    "    table_param = wait2.until(EC.presence_of_all_elements_located((By.XPATH, '//td')))\n",
    "    # Заносим данные в зависимости от названия   \n",
    "    for i in range(len(table_label)):\n",
    "        if table_label[i].text == 'Страна производства':\n",
    "            acb_dict['country'] = table_param[i].text\n",
    "        elif table_label[i].text == 'Емкость аккумулятора (Ач)':\n",
    "            try:\n",
    "                val = table_param[i].text.strip()\n",
    "                val, *_ = val.split()\n",
    "                acb_dict['capacity'] = float(re.sub(r'[^\\d.]+', '', val))\n",
    "            except Exception:\n",
    "                acb_dict['capacity'] = None\n",
    "        elif table_label[i].text == 'Напряжение':\n",
    "             try:\n",
    "                val = table_param[i].text.strip()\n",
    "                val, *_ = val.split() \n",
    "                acb_dict['voltage'] = float(re.sub(r'[^\\d.]+', '', val))\n",
    "             except Exception:\n",
    "                acb_dict['voltage'] = None\n",
    "        \n",
    "    # Добавляем словарь в список товаров\n",
    "    acb_list.append(acb_dict)"
   ]
  },
  {
   "cell_type": "code",
   "execution_count": 11,
   "id": "99bf89db7b707db9",
   "metadata": {
    "ExecuteTime": {
     "end_time": "2024-04-07T19:08:19.060923Z",
     "start_time": "2024-04-07T19:08:19.053923Z"
    },
    "collapsed": false,
    "jupyter": {
     "outputs_hidden": false
    }
   },
   "outputs": [
    {
     "name": "stdout",
     "output_type": "stream",
     "text": [
      "Обработано 847 страниц\n"
     ]
    }
   ],
   "source": [
    "print(f'Обработано {len(acb_list)} страниц')"
   ]
  },
  {
   "cell_type": "markdown",
   "id": "9bbb530f-e37a-4fef-80e6-a7b4b8474a80",
   "metadata": {},
   "source": [
    "### Посмотрим, что за данные мы получили"
   ]
  },
  {
   "cell_type": "code",
   "execution_count": 12,
   "id": "bdea445a0244dd8e",
   "metadata": {
    "ExecuteTime": {
     "end_time": "2024-04-07T19:30:55.735883Z",
     "start_time": "2024-04-07T19:30:55.716884Z"
    },
    "collapsed": false,
    "jupyter": {
     "outputs_hidden": false
    }
   },
   "outputs": [
    {
     "data": {
      "text/html": [
       "<div>\n",
       "<style scoped>\n",
       "    .dataframe tbody tr th:only-of-type {\n",
       "        vertical-align: middle;\n",
       "    }\n",
       "\n",
       "    .dataframe tbody tr th {\n",
       "        vertical-align: top;\n",
       "    }\n",
       "\n",
       "    .dataframe thead th {\n",
       "        text-align: right;\n",
       "    }\n",
       "</style>\n",
       "<table border=\"1\" class=\"dataframe\">\n",
       "  <thead>\n",
       "    <tr style=\"text-align: right;\">\n",
       "      <th></th>\n",
       "      <th>name</th>\n",
       "      <th>price</th>\n",
       "      <th>brend</th>\n",
       "      <th>url</th>\n",
       "      <th>voltage</th>\n",
       "      <th>country</th>\n",
       "      <th>capacity</th>\n",
       "    </tr>\n",
       "  </thead>\n",
       "  <tbody>\n",
       "    <tr>\n",
       "      <th>0</th>\n",
       "      <td>Аккумулятор SF 1207, 7Ач, аккумуляторная батар...</td>\n",
       "      <td>832.00</td>\n",
       "      <td>Security Force</td>\n",
       "      <td>https://www.wildberries.ru/catalog/40724205/de...</td>\n",
       "      <td>12.00</td>\n",
       "      <td>Китай</td>\n",
       "      <td>7.00</td>\n",
       "    </tr>\n",
       "    <tr>\n",
       "      <th>1</th>\n",
       "      <td>Аккумуляторная батарея AGM 12V 9Ah 1209 для ИБ...</td>\n",
       "      <td>1492.00</td>\n",
       "      <td>Neata Battery</td>\n",
       "      <td>https://www.wildberries.ru/catalog/172398514/d...</td>\n",
       "      <td>12.00</td>\n",
       "      <td>Китай</td>\n",
       "      <td>9.00</td>\n",
       "    </tr>\n",
       "    <tr>\n",
       "      <th>2</th>\n",
       "      <td>Аккумулятор 12v 1.3 Ah F1/T1 для эхолота, весо...</td>\n",
       "      <td>679.00</td>\n",
       "      <td>NPP</td>\n",
       "      <td>https://www.wildberries.ru/catalog/166716189/d...</td>\n",
       "      <td>12.00</td>\n",
       "      <td>Китай</td>\n",
       "      <td>1.30</td>\n",
       "    </tr>\n",
       "    <tr>\n",
       "      <th>3</th>\n",
       "      <td>Аккумулятор ибп 12v 40Ah M6/T14 котлов и насос...</td>\n",
       "      <td>4217.00</td>\n",
       "      <td>Thomas</td>\n",
       "      <td>https://www.wildberries.ru/catalog/194125714/d...</td>\n",
       "      <td>12.00</td>\n",
       "      <td>Китай</td>\n",
       "      <td>40.00</td>\n",
       "    </tr>\n",
       "    <tr>\n",
       "      <th>4</th>\n",
       "      <td>Аккумулятор ибп 12v 40Ah M6/T14 котлов и насос...</td>\n",
       "      <td>4196.00</td>\n",
       "      <td>Thomas</td>\n",
       "      <td>https://www.wildberries.ru/catalog/168341680/d...</td>\n",
       "      <td>12.00</td>\n",
       "      <td>Китай</td>\n",
       "      <td>40.00</td>\n",
       "    </tr>\n",
       "  </tbody>\n",
       "</table>\n",
       "</div>"
      ],
      "text/plain": [
       "                                                name   price           brend  \\\n",
       "0  Аккумулятор SF 1207, 7Ач, аккумуляторная батар...  832.00  Security Force   \n",
       "1  Аккумуляторная батарея AGM 12V 9Ah 1209 для ИБ... 1492.00   Neata Battery   \n",
       "2  Аккумулятор 12v 1.3 Ah F1/T1 для эхолота, весо...  679.00             NPP   \n",
       "3  Аккумулятор ибп 12v 40Ah M6/T14 котлов и насос... 4217.00          Thomas   \n",
       "4  Аккумулятор ибп 12v 40Ah M6/T14 котлов и насос... 4196.00          Thomas   \n",
       "\n",
       "                                                 url  voltage country  \\\n",
       "0  https://www.wildberries.ru/catalog/40724205/de...    12.00   Китай   \n",
       "1  https://www.wildberries.ru/catalog/172398514/d...    12.00   Китай   \n",
       "2  https://www.wildberries.ru/catalog/166716189/d...    12.00   Китай   \n",
       "3  https://www.wildberries.ru/catalog/194125714/d...    12.00   Китай   \n",
       "4  https://www.wildberries.ru/catalog/168341680/d...    12.00   Китай   \n",
       "\n",
       "   capacity  \n",
       "0      7.00  \n",
       "1      9.00  \n",
       "2      1.30  \n",
       "3     40.00  \n",
       "4     40.00  "
      ]
     },
     "execution_count": 12,
     "metadata": {},
     "output_type": "execute_result"
    }
   ],
   "source": [
    "df = pd.DataFrame(acb_list)\n",
    "df.head()"
   ]
  },
  {
   "cell_type": "code",
   "execution_count": 13,
   "id": "66a8be8be4590e0b",
   "metadata": {
    "ExecuteTime": {
     "end_time": "2024-04-07T19:34:45.641291Z",
     "start_time": "2024-04-07T19:34:45.616287Z"
    },
    "collapsed": false,
    "jupyter": {
     "outputs_hidden": false
    }
   },
   "outputs": [
    {
     "name": "stdout",
     "output_type": "stream",
     "text": [
      "<class 'pandas.core.frame.DataFrame'>\n",
      "RangeIndex: 847 entries, 0 to 846\n",
      "Data columns (total 7 columns):\n",
      " #   Column    Non-Null Count  Dtype  \n",
      "---  ------    --------------  -----  \n",
      " 0   name      847 non-null    object \n",
      " 1   price     679 non-null    float64\n",
      " 2   brend     847 non-null    object \n",
      " 3   url       847 non-null    object \n",
      " 4   voltage   787 non-null    float64\n",
      " 5   country   794 non-null    object \n",
      " 6   capacity  788 non-null    float64\n",
      "dtypes: float64(3), object(4)\n",
      "memory usage: 46.4+ KB\n"
     ]
    }
   ],
   "source": [
    "df.info()"
   ]
  },
  {
   "cell_type": "markdown",
   "id": "0c992e20-292a-41dc-b34d-9189d44787da",
   "metadata": {},
   "source": [
    "### Какие производители товара представлены на Wildberries"
   ]
  },
  {
   "cell_type": "code",
   "execution_count": 14,
   "id": "6198963f-10f4-4610-8ab8-043733bcb536",
   "metadata": {},
   "outputs": [
    {
     "data": {
      "text/plain": [
       "Китай       730\n",
       "Вьетнам      40\n",
       "Тайвань       7\n",
       "Польша        6\n",
       "Словения      5\n",
       "Россия        5\n",
       "中国            1\n",
       "Name: country, dtype: int64"
      ]
     },
     "execution_count": 14,
     "metadata": {},
     "output_type": "execute_result"
    }
   ],
   "source": [
    "data = df['country'].value_counts()\n",
    "names = data.index\n",
    "values = data.values\n",
    "data"
   ]
  },
  {
   "cell_type": "code",
   "execution_count": 15,
   "id": "3868dae0-fbd4-4ad8-9fd6-de49709c8a40",
   "metadata": {},
   "outputs": [
    {
     "name": "stderr",
     "output_type": "stream",
     "text": [
      "c:\\Users\\Lenovo\\AppData\\Local\\Programs\\Python\\Python310\\lib\\site-packages\\IPython\\core\\pylabtools.py:152: UserWarning: Glyph 20013 (\\N{CJK UNIFIED IDEOGRAPH-4E2D}) missing from current font.\n",
      "  fig.canvas.print_figure(bytes_io, **kw)\n",
      "c:\\Users\\Lenovo\\AppData\\Local\\Programs\\Python\\Python310\\lib\\site-packages\\IPython\\core\\pylabtools.py:152: UserWarning: Glyph 22269 (\\N{CJK UNIFIED IDEOGRAPH-56FD}) missing from current font.\n",
      "  fig.canvas.print_figure(bytes_io, **kw)\n"
     ]
    },
    {
     "data": {
      "image/png": "[encoded data removed]",
      "text/plain": [
       "<Figure size 640x480 with 1 Axes>"
      ]
     },
     "metadata": {},
     "output_type": "display_data"
    }
   ],
   "source": [
    "plt.pie(values, autopct='%.1f%%', labels=names)\n",
    "plt.show()"
   ]
  },
  {
   "cell_type": "markdown",
   "id": "2365cf19-8905-4714-9cfb-119835bf3422",
   "metadata": {},
   "source": [
    "### Минимальная, максимальная и средняя цена товара в зависимости от его параметра"
   ]
  },
  {
   "cell_type": "code",
   "execution_count": 16,
   "id": "f93d02632b1a26b4",
   "metadata": {
    "collapsed": false,
    "jupyter": {
     "outputs_hidden": false
    }
   },
   "outputs": [
    {
     "data": {
      "text/html": [
       "<div>\n",
       "<style scoped>\n",
       "    .dataframe tbody tr th:only-of-type {\n",
       "        vertical-align: middle;\n",
       "    }\n",
       "\n",
       "    .dataframe tbody tr th {\n",
       "        vertical-align: top;\n",
       "    }\n",
       "\n",
       "    .dataframe thead tr th {\n",
       "        text-align: left;\n",
       "    }\n",
       "\n",
       "    .dataframe thead tr:last-of-type th {\n",
       "        text-align: right;\n",
       "    }\n",
       "</style>\n",
       "<table border=\"1\" class=\"dataframe\">\n",
       "  <thead>\n",
       "    <tr>\n",
       "      <th></th>\n",
       "      <th colspan=\"3\" halign=\"left\">price</th>\n",
       "    </tr>\n",
       "    <tr>\n",
       "      <th></th>\n",
       "      <th>min</th>\n",
       "      <th>mean</th>\n",
       "      <th>max</th>\n",
       "    </tr>\n",
       "    <tr>\n",
       "      <th>capacity</th>\n",
       "      <th></th>\n",
       "      <th></th>\n",
       "      <th></th>\n",
       "    </tr>\n",
       "  </thead>\n",
       "  <tbody>\n",
       "    <tr>\n",
       "      <th>0.80</th>\n",
       "      <td>688.00</td>\n",
       "      <td>950.50</td>\n",
       "      <td>1063.00</td>\n",
       "    </tr>\n",
       "    <tr>\n",
       "      <th>1.20</th>\n",
       "      <td>492.00</td>\n",
       "      <td>748.22</td>\n",
       "      <td>1189.00</td>\n",
       "    </tr>\n",
       "    <tr>\n",
       "      <th>1.30</th>\n",
       "      <td>679.00</td>\n",
       "      <td>721.50</td>\n",
       "      <td>784.00</td>\n",
       "    </tr>\n",
       "    <tr>\n",
       "      <th>2.20</th>\n",
       "      <td>683.00</td>\n",
       "      <td>921.75</td>\n",
       "      <td>1239.00</td>\n",
       "    </tr>\n",
       "    <tr>\n",
       "      <th>2.30</th>\n",
       "      <td>743.00</td>\n",
       "      <td>853.00</td>\n",
       "      <td>1165.00</td>\n",
       "    </tr>\n",
       "    <tr>\n",
       "      <th>2.80</th>\n",
       "      <td>749.00</td>\n",
       "      <td>751.50</td>\n",
       "      <td>754.00</td>\n",
       "    </tr>\n",
       "    <tr>\n",
       "      <th>2.90</th>\n",
       "      <td>1120.00</td>\n",
       "      <td>1120.00</td>\n",
       "      <td>1120.00</td>\n",
       "    </tr>\n",
       "    <tr>\n",
       "      <th>3.20</th>\n",
       "      <td>900.00</td>\n",
       "      <td>1398.64</td>\n",
       "      <td>1752.00</td>\n",
       "    </tr>\n",
       "    <tr>\n",
       "      <th>3.30</th>\n",
       "      <td>1228.00</td>\n",
       "      <td>1347.50</td>\n",
       "      <td>1467.00</td>\n",
       "    </tr>\n",
       "    <tr>\n",
       "      <th>4.50</th>\n",
       "      <td>566.00</td>\n",
       "      <td>1189.62</td>\n",
       "      <td>3184.00</td>\n",
       "    </tr>\n",
       "    <tr>\n",
       "      <th>5.00</th>\n",
       "      <td>806.00</td>\n",
       "      <td>1359.00</td>\n",
       "      <td>2295.00</td>\n",
       "    </tr>\n",
       "    <tr>\n",
       "      <th>5.40</th>\n",
       "      <td>1291.00</td>\n",
       "      <td>1291.00</td>\n",
       "      <td>1291.00</td>\n",
       "    </tr>\n",
       "    <tr>\n",
       "      <th>5.50</th>\n",
       "      <td>NaN</td>\n",
       "      <td>NaN</td>\n",
       "      <td>NaN</td>\n",
       "    </tr>\n",
       "    <tr>\n",
       "      <th>5.80</th>\n",
       "      <td>2295.00</td>\n",
       "      <td>2295.00</td>\n",
       "      <td>2295.00</td>\n",
       "    </tr>\n",
       "    <tr>\n",
       "      <th>6.00</th>\n",
       "      <td>945.00</td>\n",
       "      <td>1523.00</td>\n",
       "      <td>2750.00</td>\n",
       "    </tr>\n",
       "    <tr>\n",
       "      <th>7.00</th>\n",
       "      <td>768.00</td>\n",
       "      <td>1276.08</td>\n",
       "      <td>4356.00</td>\n",
       "    </tr>\n",
       "    <tr>\n",
       "      <th>7.20</th>\n",
       "      <td>774.00</td>\n",
       "      <td>1660.19</td>\n",
       "      <td>3331.00</td>\n",
       "    </tr>\n",
       "    <tr>\n",
       "      <th>7.50</th>\n",
       "      <td>1225.00</td>\n",
       "      <td>1602.40</td>\n",
       "      <td>2395.00</td>\n",
       "    </tr>\n",
       "    <tr>\n",
       "      <th>8.00</th>\n",
       "      <td>624.00</td>\n",
       "      <td>1930.50</td>\n",
       "      <td>3237.00</td>\n",
       "    </tr>\n",
       "    <tr>\n",
       "      <th>9.00</th>\n",
       "      <td>1164.00</td>\n",
       "      <td>1779.35</td>\n",
       "      <td>3219.00</td>\n",
       "    </tr>\n",
       "    <tr>\n",
       "      <th>9.20</th>\n",
       "      <td>1562.00</td>\n",
       "      <td>1638.50</td>\n",
       "      <td>1715.00</td>\n",
       "    </tr>\n",
       "    <tr>\n",
       "      <th>10.00</th>\n",
       "      <td>NaN</td>\n",
       "      <td>NaN</td>\n",
       "      <td>NaN</td>\n",
       "    </tr>\n",
       "    <tr>\n",
       "      <th>12.00</th>\n",
       "      <td>835.00</td>\n",
       "      <td>2410.48</td>\n",
       "      <td>7917.00</td>\n",
       "    </tr>\n",
       "    <tr>\n",
       "      <th>13.00</th>\n",
       "      <td>878.00</td>\n",
       "      <td>1812.00</td>\n",
       "      <td>2746.00</td>\n",
       "    </tr>\n",
       "    <tr>\n",
       "      <th>14.00</th>\n",
       "      <td>1868.00</td>\n",
       "      <td>1868.00</td>\n",
       "      <td>1868.00</td>\n",
       "    </tr>\n",
       "    <tr>\n",
       "      <th>15.00</th>\n",
       "      <td>2259.00</td>\n",
       "      <td>4243.00</td>\n",
       "      <td>5707.00</td>\n",
       "    </tr>\n",
       "    <tr>\n",
       "      <th>17.00</th>\n",
       "      <td>2083.00</td>\n",
       "      <td>4568.70</td>\n",
       "      <td>9487.00</td>\n",
       "    </tr>\n",
       "    <tr>\n",
       "      <th>18.00</th>\n",
       "      <td>1923.00</td>\n",
       "      <td>3038.43</td>\n",
       "      <td>5929.00</td>\n",
       "    </tr>\n",
       "    <tr>\n",
       "      <th>20.00</th>\n",
       "      <td>2534.00</td>\n",
       "      <td>3599.00</td>\n",
       "      <td>6523.00</td>\n",
       "    </tr>\n",
       "    <tr>\n",
       "      <th>22.00</th>\n",
       "      <td>828.00</td>\n",
       "      <td>1638.50</td>\n",
       "      <td>4171.00</td>\n",
       "    </tr>\n",
       "    <tr>\n",
       "      <th>23.00</th>\n",
       "      <td>761.00</td>\n",
       "      <td>761.00</td>\n",
       "      <td>761.00</td>\n",
       "    </tr>\n",
       "    <tr>\n",
       "      <th>24.00</th>\n",
       "      <td>10164.00</td>\n",
       "      <td>10164.00</td>\n",
       "      <td>10164.00</td>\n",
       "    </tr>\n",
       "    <tr>\n",
       "      <th>26.00</th>\n",
       "      <td>2619.00</td>\n",
       "      <td>5056.52</td>\n",
       "      <td>9068.00</td>\n",
       "    </tr>\n",
       "    <tr>\n",
       "      <th>28.00</th>\n",
       "      <td>1870.00</td>\n",
       "      <td>3341.43</td>\n",
       "      <td>10627.00</td>\n",
       "    </tr>\n",
       "    <tr>\n",
       "      <th>32.00</th>\n",
       "      <td>945.00</td>\n",
       "      <td>945.00</td>\n",
       "      <td>945.00</td>\n",
       "    </tr>\n",
       "    <tr>\n",
       "      <th>33.00</th>\n",
       "      <td>4071.00</td>\n",
       "      <td>6492.47</td>\n",
       "      <td>11645.00</td>\n",
       "    </tr>\n",
       "    <tr>\n",
       "      <th>35.00</th>\n",
       "      <td>615.00</td>\n",
       "      <td>3864.00</td>\n",
       "      <td>7113.00</td>\n",
       "    </tr>\n",
       "    <tr>\n",
       "      <th>38.00</th>\n",
       "      <td>NaN</td>\n",
       "      <td>NaN</td>\n",
       "      <td>NaN</td>\n",
       "    </tr>\n",
       "    <tr>\n",
       "      <th>40.00</th>\n",
       "      <td>4196.00</td>\n",
       "      <td>7123.65</td>\n",
       "      <td>12198.00</td>\n",
       "    </tr>\n",
       "    <tr>\n",
       "      <th>45.00</th>\n",
       "      <td>808.00</td>\n",
       "      <td>7263.13</td>\n",
       "      <td>17087.00</td>\n",
       "    </tr>\n",
       "    <tr>\n",
       "      <th>50.00</th>\n",
       "      <td>8552.00</td>\n",
       "      <td>16030.33</td>\n",
       "      <td>18063.00</td>\n",
       "    </tr>\n",
       "    <tr>\n",
       "      <th>55.00</th>\n",
       "      <td>984.00</td>\n",
       "      <td>12145.90</td>\n",
       "      <td>21902.00</td>\n",
       "    </tr>\n",
       "    <tr>\n",
       "      <th>57.72</th>\n",
       "      <td>1738.00</td>\n",
       "      <td>1738.00</td>\n",
       "      <td>1738.00</td>\n",
       "    </tr>\n",
       "    <tr>\n",
       "      <th>60.00</th>\n",
       "      <td>8248.00</td>\n",
       "      <td>8248.00</td>\n",
       "      <td>8248.00</td>\n",
       "    </tr>\n",
       "    <tr>\n",
       "      <th>65.00</th>\n",
       "      <td>7268.00</td>\n",
       "      <td>15269.30</td>\n",
       "      <td>26285.00</td>\n",
       "    </tr>\n",
       "    <tr>\n",
       "      <th>70.00</th>\n",
       "      <td>13237.00</td>\n",
       "      <td>13237.00</td>\n",
       "      <td>13237.00</td>\n",
       "    </tr>\n",
       "    <tr>\n",
       "      <th>72.00</th>\n",
       "      <td>907.00</td>\n",
       "      <td>1511.27</td>\n",
       "      <td>3523.00</td>\n",
       "    </tr>\n",
       "    <tr>\n",
       "      <th>75.00</th>\n",
       "      <td>10234.00</td>\n",
       "      <td>17961.71</td>\n",
       "      <td>29177.00</td>\n",
       "    </tr>\n",
       "    <tr>\n",
       "      <th>76.00</th>\n",
       "      <td>33993.00</td>\n",
       "      <td>34294.00</td>\n",
       "      <td>34595.00</td>\n",
       "    </tr>\n",
       "    <tr>\n",
       "      <th>80.00</th>\n",
       "      <td>9956.00</td>\n",
       "      <td>10037.50</td>\n",
       "      <td>10120.00</td>\n",
       "    </tr>\n",
       "    <tr>\n",
       "      <th>85.00</th>\n",
       "      <td>33563.00</td>\n",
       "      <td>33860.00</td>\n",
       "      <td>34157.00</td>\n",
       "    </tr>\n",
       "    <tr>\n",
       "      <th>90.00</th>\n",
       "      <td>26805.00</td>\n",
       "      <td>27042.50</td>\n",
       "      <td>27280.00</td>\n",
       "    </tr>\n",
       "    <tr>\n",
       "      <th>100.00</th>\n",
       "      <td>14736.00</td>\n",
       "      <td>19051.67</td>\n",
       "      <td>41474.00</td>\n",
       "    </tr>\n",
       "    <tr>\n",
       "      <th>110.00</th>\n",
       "      <td>17508.00</td>\n",
       "      <td>17597.00</td>\n",
       "      <td>17686.00</td>\n",
       "    </tr>\n",
       "    <tr>\n",
       "      <th>120.00</th>\n",
       "      <td>16210.00</td>\n",
       "      <td>17150.50</td>\n",
       "      <td>18091.00</td>\n",
       "    </tr>\n",
       "    <tr>\n",
       "      <th>150.00</th>\n",
       "      <td>22705.00</td>\n",
       "      <td>22996.25</td>\n",
       "      <td>23590.00</td>\n",
       "    </tr>\n",
       "    <tr>\n",
       "      <th>200.00</th>\n",
       "      <td>28743.00</td>\n",
       "      <td>35392.33</td>\n",
       "      <td>43900.00</td>\n",
       "    </tr>\n",
       "    <tr>\n",
       "      <th>5000.00</th>\n",
       "      <td>1513.00</td>\n",
       "      <td>1513.00</td>\n",
       "      <td>1513.00</td>\n",
       "    </tr>\n",
       "    <tr>\n",
       "      <th>40000.00</th>\n",
       "      <td>NaN</td>\n",
       "      <td>NaN</td>\n",
       "      <td>NaN</td>\n",
       "    </tr>\n",
       "  </tbody>\n",
       "</table>\n",
       "</div>"
      ],
      "text/plain": [
       "            price                  \n",
       "              min     mean      max\n",
       "capacity                           \n",
       "0.80       688.00   950.50  1063.00\n",
       "1.20       492.00   748.22  1189.00\n",
       "1.30       679.00   721.50   784.00\n",
       "2.20       683.00   921.75  1239.00\n",
       "2.30       743.00   853.00  1165.00\n",
       "2.80       749.00   751.50   754.00\n",
       "2.90      1120.00  1120.00  1120.00\n",
       "3.20       900.00  1398.64  1752.00\n",
       "3.30      1228.00  1347.50  1467.00\n",
       "4.50       566.00  1189.62  3184.00\n",
       "5.00       806.00  1359.00  2295.00\n",
       "5.40      1291.00  1291.00  1291.00\n",
       "5.50          NaN      NaN      NaN\n",
       "5.80      2295.00  2295.00  2295.00\n",
       "6.00       945.00  1523.00  2750.00\n",
       "7.00       768.00  1276.08  4356.00\n",
       "7.20       774.00  1660.19  3331.00\n",
       "7.50      1225.00  1602.40  2395.00\n",
       "8.00       624.00  1930.50  3237.00\n",
       "9.00      1164.00  1779.35  3219.00\n",
       "9.20      1562.00  1638.50  1715.00\n",
       "10.00         NaN      NaN      NaN\n",
       "12.00      835.00  2410.48  7917.00\n",
       "13.00      878.00  1812.00  2746.00\n",
       "14.00     1868.00  1868.00  1868.00\n",
       "15.00     2259.00  4243.00  5707.00\n",
       "17.00     2083.00  4568.70  9487.00\n",
       "18.00     1923.00  3038.43  5929.00\n",
       "20.00     2534.00  3599.00  6523.00\n",
       "22.00      828.00  1638.50  4171.00\n",
       "23.00      761.00   761.00   761.00\n",
       "24.00    10164.00 10164.00 10164.00\n",
       "26.00     2619.00  5056.52  9068.00\n",
       "28.00     1870.00  3341.43 10627.00\n",
       "32.00      945.00   945.00   945.00\n",
       "33.00     4071.00  6492.47 11645.00\n",
       "35.00      615.00  3864.00  7113.00\n",
       "38.00         NaN      NaN      NaN\n",
       "40.00     4196.00  7123.65 12198.00\n",
       "45.00      808.00  7263.13 17087.00\n",
       "50.00     8552.00 16030.33 18063.00\n",
       "55.00      984.00 12145.90 21902.00\n",
       "57.72     1738.00  1738.00  1738.00\n",
       "60.00     8248.00  8248.00  8248.00\n",
       "65.00     7268.00 15269.30 26285.00\n",
       "70.00    13237.00 13237.00 13237.00\n",
       "72.00      907.00  1511.27  3523.00\n",
       "75.00    10234.00 17961.71 29177.00\n",
       "76.00    33993.00 34294.00 34595.00\n",
       "80.00     9956.00 10037.50 10120.00\n",
       "85.00    33563.00 33860.00 34157.00\n",
       "90.00    26805.00 27042.50 27280.00\n",
       "100.00   14736.00 19051.67 41474.00\n",
       "110.00   17508.00 17597.00 17686.00\n",
       "120.00   16210.00 17150.50 18091.00\n",
       "150.00   22705.00 22996.25 23590.00\n",
       "200.00   28743.00 35392.33 43900.00\n",
       "5000.00   1513.00  1513.00  1513.00\n",
       "40000.00      NaN      NaN      NaN"
      ]
     },
     "execution_count": 16,
     "metadata": {},
     "output_type": "execute_result"
    }
   ],
   "source": [
    "df.groupby('capacity').agg({'price': ['min', 'mean', 'max']})"
   ]
  },
  {
   "cell_type": "markdown",
   "id": "cde8b4ac-44b5-424d-9a55-17501a5d2218",
   "metadata": {},
   "source": [
    "### Топ 10 популярных компаний"
   ]
  },
  {
   "cell_type": "code",
   "execution_count": 17,
   "id": "1a829758-8ded-439e-bd5b-2bf87e120df4",
   "metadata": {},
   "outputs": [
    {
     "data": {
      "text/plain": [
       "DELTA BATTERY       174\n",
       "General Security     61\n",
       "NPP                  43\n",
       "Alfa Battery         38\n",
       "ZUBR                 37\n",
       "Security Force       35\n",
       "Sunways              31\n",
       "CSB                  27\n",
       "LEOCH                27\n",
       "Neata Battery        23\n",
       "Name: brend, dtype: int64"
      ]
     },
     "execution_count": 17,
     "metadata": {},
     "output_type": "execute_result"
    }
   ],
   "source": [
    "data = df['brend'].value_counts()\n",
    "names = data.index\n",
    "values = data.values\n",
    "data.head(10)"
   ]
  },
  {
   "cell_type": "markdown",
   "id": "cb35c7d0-1a94-45a5-a5c6-ee8fb0acab46",
   "metadata": {},
   "source": [
    "### Запишем полученные данные в БД MongoDB"
   ]
  },
  {
   "cell_type": "code",
   "execution_count": 18,
   "id": "c3ed3d4d-fd87-419f-ace2-11e9d3eedebf",
   "metadata": {},
   "outputs": [],
   "source": [
    "from pymongo import MongoClient"
   ]
  },
  {
   "cell_type": "code",
   "execution_count": 19,
   "id": "7fa3b599-48f3-428b-a8f0-9ed533fa6de2",
   "metadata": {},
   "outputs": [],
   "source": [
    "# Подключение к серверу MongoDB\n",
    "client = MongoClient('mongodb://localhost:27017/')\n",
    "# Выбор базы данных и коллекции\n",
    "db = client['acb']\n",
    "collection = db['acb_12v']"
   ]
  },
  {
   "cell_type": "code",
   "execution_count": 20,
   "id": "35c3649b-1cf1-485d-be1a-dd4e747f7360",
   "metadata": {},
   "outputs": [
    {
     "data": {
      "text/plain": [
       "InsertManyResult([ObjectId('664662bc47dca324292e2589'), ObjectId('664662bc47dca324292e258a'), ObjectId('664662bc47dca324292e258b'), ObjectId('664662bc47dca324292e258c'), ObjectId('664662bc47dca324292e258d'), ObjectId('664662bc47dca324292e258e'), ObjectId('664662bc47dca324292e258f'), ObjectId('664662bc47dca324292e2590'), ObjectId('664662bc47dca324292e2591'), ObjectId('664662bc47dca324292e2592'), ObjectId('664662bc47dca324292e2593'), ObjectId('664662bc47dca324292e2594'), ObjectId('664662bc47dca324292e2595'), ObjectId('664662bc47dca324292e2596'), ObjectId('664662bc47dca324292e2597'), ObjectId('664662bc47dca324292e2598'), ObjectId('664662bc47dca324292e2599'), ObjectId('664662bc47dca324292e259a'), ObjectId('664662bc47dca324292e259b'), ObjectId('664662bc47dca324292e259c'), ObjectId('664662bc47dca324292e259d'), ObjectId('664662bc47dca324292e259e'), ObjectId('664662bc47dca324292e259f'), ObjectId('664662bc47dca324292e25a0'), ObjectId('664662bc47dca324292e25a1'), ObjectId('664662bc47dca324292e25a2'), ObjectId('664662bc47dca324292e25a3'), ObjectId('664662bc47dca324292e25a4'), ObjectId('664662bc47dca324292e25a5'), ObjectId('664662bc47dca324292e25a6'), ObjectId('664662bc47dca324292e25a7'), ObjectId('664662bc47dca324292e25a8'), ObjectId('664662bc47dca324292e25a9'), ObjectId('664662bc47dca324292e25aa'), ObjectId('664662bc47dca324292e25ab'), ObjectId('664662bc47dca324292e25ac'), ObjectId('664662bc47dca324292e25ad'), ObjectId('664662bc47dca324292e25ae'), ObjectId('664662bc47dca324292e25af'), ObjectId('664662bc47dca324292e25b0'), ObjectId('664662bc47dca324292e25b1'), ObjectId('664662bc47dca324292e25b2'), ObjectId('664662bc47dca324292e25b3'), ObjectId('664662bc47dca324292e25b4'), ObjectId('664662bc47dca324292e25b5'), ObjectId('664662bc47dca324292e25b6'), ObjectId('664662bc47dca324292e25b7'), ObjectId('664662bc47dca324292e25b8'), ObjectId('664662bc47dca324292e25b9'), ObjectId('664662bc47dca324292e25ba'), ObjectId('664662bc47dca324292e25bb'), ObjectId('664662bc47dca324292e25bc'), ObjectId('664662bc47dca324292e25bd'), ObjectId('664662bc47dca324292e25be'), ObjectId('664662bc47dca324292e25bf'), ObjectId('664662bc47dca324292e25c0'), ObjectId('664662bc47dca324292e25c1'), ObjectId('664662bc47dca324292e25c2'), ObjectId('664662bc47dca324292e25c3'), ObjectId('664662bc47dca324292e25c4'), ObjectId('664662bc47dca324292e25c5'), ObjectId('664662bc47dca324292e25c6'), ObjectId('664662bc47dca324292e25c7'), ObjectId('664662bc47dca324292e25c8'), ObjectId('664662bc47dca324292e25c9'), ObjectId('664662bc47dca324292e25ca'), ObjectId('664662bc47dca324292e25cb'), ObjectId('664662bc47dca324292e25cc'), ObjectId('664662bc47dca324292e25cd'), ObjectId('664662bc47dca324292e25ce'), ObjectId('664662bc47dca324292e25cf'), ObjectId('664662bc47dca324292e25d0'), ObjectId('664662bc47dca324292e25d1'), ObjectId('664662bc47dca324292e25d2'), ObjectId('664662bc47dca324292e25d3'), ObjectId('664662bc47dca324292e25d4'), ObjectId('664662bc47dca324292e25d5'), ObjectId('664662bc47dca324292e25d6'), ObjectId('664662bc47dca324292e25d7'), ObjectId('664662bc47dca324292e25d8'), ObjectId('664662bc47dca324292e25d9'), ObjectId('664662bc47dca324292e25da'), ObjectId('664662bc47dca324292e25db'), ObjectId('664662bc47dca324292e25dc'), ObjectId('664662bc47dca324292e25dd'), ObjectId('664662bc47dca324292e25de'), ObjectId('664662bc47dca324292e25df'), ObjectId('664662bc47dca324292e25e0'), ObjectId('664662bc47dca324292e25e1'), ObjectId('664662bc47dca324292e25e2'), ObjectId('664662bc47dca324292e25e3'), ObjectId('664662bc47dca324292e25e4'), ObjectId('664662bc47dca324292e25e5'), ObjectId('664662bc47dca324292e25e6'), ObjectId('664662bc47dca324292e25e7'), ObjectId('664662bc47dca324292e25e8'), ObjectId('664662bc47dca324292e25e9'), ObjectId('664662bc47dca324292e25ea'), ObjectId('664662bc47dca324292e25eb'), ObjectId('664662bc47dca324292e25ec'), ObjectId('664662bc47dca324292e25ed'), ObjectId('664662bc47dca324292e25ee'), ObjectId('664662bc47dca324292e25ef'), ObjectId('664662bc47dca324292e25f0'), ObjectId('664662bc47dca324292e25f1'), ObjectId('664662bc47dca324292e25f2'), ObjectId('664662bc47dca324292e25f3'), ObjectId('664662bc47dca324292e25f4'), ObjectId('664662bc47dca324292e25f5'), ObjectId('664662bc47dca324292e25f6'), ObjectId('664662bc47dca324292e25f7'), ObjectId('664662bc47dca324292e25f8'), ObjectId('664662bc47dca324292e25f9'), ObjectId('664662bc47dca324292e25fa'), ObjectId('664662bc47dca324292e25fb'), ObjectId('664662bc47dca324292e25fc'), ObjectId('664662bc47dca324292e25fd'), ObjectId('664662bc47dca324292e25fe'), ObjectId('664662bc47dca324292e25ff'), ObjectId('664662bc47dca324292e2600'), ObjectId('664662bc47dca324292e2601'), ObjectId('664662bc47dca324292e2602'), ObjectId('664662bc47dca324292e2603'), ObjectId('664662bc47dca324292e2604'), ObjectId('664662bc47dca324292e2605'), ObjectId('664662bc47dca324292e2606'), ObjectId('664662bc47dca324292e2607'), ObjectId('664662bc47dca324292e2608'), ObjectId('664662bc47dca324292e2609'), ObjectId('664662bc47dca324292e260a'), ObjectId('664662bc47dca324292e260b'), ObjectId('664662bc47dca324292e260c'), ObjectId('664662bc47dca324292e260d'), ObjectId('664662bc47dca324292e260e'), ObjectId('664662bc47dca324292e260f'), ObjectId('664662bc47dca324292e2610'), ObjectId('664662bc47dca324292e2611'), ObjectId('664662bc47dca324292e2612'), ObjectId('664662bc47dca324292e2613'), ObjectId('664662bc47dca324292e2614'), ObjectId('664662bc47dca324292e2615'), ObjectId('664662bc47dca324292e2616'), ObjectId('664662bc47dca324292e2617'), ObjectId('664662bc47dca324292e2618'), ObjectId('664662bc47dca324292e2619'), ObjectId('664662bc47dca324292e261a'), ObjectId('664662bc47dca324292e261b'), ObjectId('664662bc47dca324292e261c'), ObjectId('664662bc47dca324292e261d'), ObjectId('664662bc47dca324292e261e'), ObjectId('664662bc47dca324292e261f'), ObjectId('664662bc47dca324292e2620'), ObjectId('664662bc47dca324292e2621'), ObjectId('664662bc47dca324292e2622'), ObjectId('664662bc47dca324292e2623'), ObjectId('664662bc47dca324292e2624'), ObjectId('664662bc47dca324292e2625'), ObjectId('664662bc47dca324292e2626'), ObjectId('664662bc47dca324292e2627'), ObjectId('664662bc47dca324292e2628'), ObjectId('664662bc47dca324292e2629'), ObjectId('664662bc47dca324292e262a'), ObjectId('664662bc47dca324292e262b'), ObjectId('664662bc47dca324292e262c'), ObjectId('664662bc47dca324292e262d'), ObjectId('664662bc47dca324292e262e'), ObjectId('664662bc47dca324292e262f'), ObjectId('664662bc47dca324292e2630'), ObjectId('664662bc47dca324292e2631'), ObjectId('664662bc47dca324292e2632'), ObjectId('664662bc47dca324292e2633'), ObjectId('664662bc47dca324292e2634'), ObjectId('664662bc47dca324292e2635'), ObjectId('664662bc47dca324292e2636'), ObjectId('664662bc47dca324292e2637'), ObjectId('664662bc47dca324292e2638'), ObjectId('664662bc47dca324292e2639'), ObjectId('664662bc47dca324292e263a'), ObjectId('664662bc47dca324292e263b'), ObjectId('664662bc47dca324292e263c'), ObjectId('664662bc47dca324292e263d'), ObjectId('664662bc47dca324292e263e'), ObjectId('664662bc47dca324292e263f'), ObjectId('664662bc47dca324292e2640'), ObjectId('664662bc47dca324292e2641'), ObjectId('664662bc47dca324292e2642'), ObjectId('664662bc47dca324292e2643'), ObjectId('664662bc47dca324292e2644'), ObjectId('664662bc47dca324292e2645'), ObjectId('664662bc47dca324292e2646'), ObjectId('664662bc47dca324292e2647'), ObjectId('664662bc47dca324292e2648'), ObjectId('664662bc47dca324292e2649'), ObjectId('664662bc47dca324292e264a'), ObjectId('664662bc47dca324292e264b'), ObjectId('664662bc47dca324292e264c'), ObjectId('664662bc47dca324292e264d'), ObjectId('664662bc47dca324292e264e'), ObjectId('664662bc47dca324292e264f'), ObjectId('664662bc47dca324292e2650'), ObjectId('664662bc47dca324292e2651'), ObjectId('664662bc47dca324292e2652'), ObjectId('664662bc47dca324292e2653'), ObjectId('664662bc47dca324292e2654'), ObjectId('664662bc47dca324292e2655'), ObjectId('664662bc47dca324292e2656'), ObjectId('664662bc47dca324292e2657'), ObjectId('664662bc47dca324292e2658'), ObjectId('664662bc47dca324292e2659'), ObjectId('664662bc47dca324292e265a'), ObjectId('664662bc47dca324292e265b'), ObjectId('664662bc47dca324292e265c'), ObjectId('664662bc47dca324292e265d'), ObjectId('664662bc47dca324292e265e'), ObjectId('664662bc47dca324292e265f'), ObjectId('664662bc47dca324292e2660'), ObjectId('664662bc47dca324292e2661'), ObjectId('664662bc47dca324292e2662'), ObjectId('664662bc47dca324292e2663'), ObjectId('664662bc47dca324292e2664'), ObjectId('664662bc47dca324292e2665'), ObjectId('664662bc47dca324292e2666'), ObjectId('664662bc47dca324292e2667'), ObjectId('664662bc47dca324292e2668'), ObjectId('664662bc47dca324292e2669'), ObjectId('664662bc47dca324292e266a'), ObjectId('664662bc47dca324292e266b'), ObjectId('664662bc47dca324292e266c'), ObjectId('664662bc47dca324292e266d'), ObjectId('664662bc47dca324292e266e'), ObjectId('664662bc47dca324292e266f'), ObjectId('664662bc47dca324292e2670'), ObjectId('664662bc47dca324292e2671'), ObjectId('664662bc47dca324292e2672'), ObjectId('664662bc47dca324292e2673'), ObjectId('664662bc47dca324292e2674'), ObjectId('664662bc47dca324292e2675'), ObjectId('664662bc47dca324292e2676'), ObjectId('664662bc47dca324292e2677'), ObjectId('664662bc47dca324292e2678'), ObjectId('664662bc47dca324292e2679'), ObjectId('664662bc47dca324292e267a'), ObjectId('664662bc47dca324292e267b'), ObjectId('664662bc47dca324292e267c'), ObjectId('664662bc47dca324292e267d'), ObjectId('664662bc47dca324292e267e'), ObjectId('664662bc47dca324292e267f'), ObjectId('664662bc47dca324292e2680'), ObjectId('664662bc47dca324292e2681'), ObjectId('664662bc47dca324292e2682'), ObjectId('664662bc47dca324292e2683'), ObjectId('664662bc47dca324292e2684'), ObjectId('664662bc47dca324292e2685'), ObjectId('664662bc47dca324292e2686'), ObjectId('664662bc47dca324292e2687'), ObjectId('664662bc47dca324292e2688'), ObjectId('664662bc47dca324292e2689'), ObjectId('664662bc47dca324292e268a'), ObjectId('664662bc47dca324292e268b'), ObjectId('664662bc47dca324292e268c'), ObjectId('664662bc47dca324292e268d'), ObjectId('664662bc47dca324292e268e'), ObjectId('664662bc47dca324292e268f'), ObjectId('664662bc47dca324292e2690'), ObjectId('664662bc47dca324292e2691'), ObjectId('664662bc47dca324292e2692'), ObjectId('664662bc47dca324292e2693'), ObjectId('664662bc47dca324292e2694'), ObjectId('664662bc47dca324292e2695'), ObjectId('664662bc47dca324292e2696'), ObjectId('664662bc47dca324292e2697'), ObjectId('664662bc47dca324292e2698'), ObjectId('664662bc47dca324292e2699'), ObjectId('664662bc47dca324292e269a'), ObjectId('664662bc47dca324292e269b'), ObjectId('664662bc47dca324292e269c'), ObjectId('664662bc47dca324292e269d'), ObjectId('664662bc47dca324292e269e'), ObjectId('664662bc47dca324292e269f'), ObjectId('664662bc47dca324292e26a0'), ObjectId('664662bc47dca324292e26a1'), ObjectId('664662bc47dca324292e26a2'), ObjectId('664662bc47dca324292e26a3'), ObjectId('664662bc47dca324292e26a4'), ObjectId('664662bc47dca324292e26a5'), ObjectId('664662bc47dca324292e26a6'), ObjectId('664662bc47dca324292e26a7'), ObjectId('664662bc47dca324292e26a8'), ObjectId('664662bc47dca324292e26a9'), ObjectId('664662bc47dca324292e26aa'), ObjectId('664662bc47dca324292e26ab'), ObjectId('664662bc47dca324292e26ac'), ObjectId('664662bc47dca324292e26ad'), ObjectId('664662bc47dca324292e26ae'), ObjectId('664662bc47dca324292e26af'), ObjectId('664662bc47dca324292e26b0'), ObjectId('664662bc47dca324292e26b1'), ObjectId('664662bc47dca324292e26b2'), ObjectId('664662bc47dca324292e26b3'), ObjectId('664662bc47dca324292e26b4'), ObjectId('664662bc47dca324292e26b5'), ObjectId('664662bc47dca324292e26b6'), ObjectId('664662bc47dca324292e26b7'), ObjectId('664662bc47dca324292e26b8'), ObjectId('664662bc47dca324292e26b9'), ObjectId('664662bc47dca324292e26ba'), ObjectId('664662bc47dca324292e26bb'), ObjectId('664662bc47dca324292e26bc'), ObjectId('664662bc47dca324292e26bd'), ObjectId('664662bc47dca324292e26be'), ObjectId('664662bc47dca324292e26bf'), ObjectId('664662bc47dca324292e26c0'), ObjectId('664662bc47dca324292e26c1'), ObjectId('664662bc47dca324292e26c2'), ObjectId('664662bc47dca324292e26c3'), ObjectId('664662bc47dca324292e26c4'), ObjectId('664662bc47dca324292e26c5'), ObjectId('664662bc47dca324292e26c6'), ObjectId('664662bc47dca324292e26c7'), ObjectId('664662bc47dca324292e26c8'), ObjectId('664662bc47dca324292e26c9'), ObjectId('664662bc47dca324292e26ca'), ObjectId('664662bc47dca324292e26cb'), ObjectId('664662bc47dca324292e26cc'), ObjectId('664662bc47dca324292e26cd'), ObjectId('664662bc47dca324292e26ce'), ObjectId('664662bc47dca324292e26cf'), ObjectId('664662bc47dca324292e26d0'), ObjectId('664662bc47dca324292e26d1'), ObjectId('664662bc47dca324292e26d2'), ObjectId('664662bc47dca324292e26d3'), ObjectId('664662bc47dca324292e26d4'), ObjectId('664662bc47dca324292e26d5'), ObjectId('664662bc47dca324292e26d6'), ObjectId('664662bc47dca324292e26d7'), ObjectId('664662bc47dca324292e26d8'), ObjectId('664662bc47dca324292e26d9'), ObjectId('664662bc47dca324292e26da'), ObjectId('664662bc47dca324292e26db'), ObjectId('664662bc47dca324292e26dc'), ObjectId('664662bc47dca324292e26dd'), ObjectId('664662bc47dca324292e26de'), ObjectId('664662bc47dca324292e26df'), ObjectId('664662bc47dca324292e26e0'), ObjectId('664662bc47dca324292e26e1'), ObjectId('664662bc47dca324292e26e2'), ObjectId('664662bc47dca324292e26e3'), ObjectId('664662bc47dca324292e26e4'), ObjectId('664662bc47dca324292e26e5'), ObjectId('664662bc47dca324292e26e6'), ObjectId('664662bc47dca324292e26e7'), ObjectId('664662bc47dca324292e26e8'), ObjectId('664662bc47dca324292e26e9'), ObjectId('664662bc47dca324292e26ea'), ObjectId('664662bc47dca324292e26eb'), ObjectId('664662bc47dca324292e26ec'), ObjectId('664662bc47dca324292e26ed'), ObjectId('664662bc47dca324292e26ee'), ObjectId('664662bc47dca324292e26ef'), ObjectId('664662bc47dca324292e26f0'), ObjectId('664662bc47dca324292e26f1'), ObjectId('664662bc47dca324292e26f2'), ObjectId('664662bc47dca324292e26f3'), ObjectId('664662bc47dca324292e26f4'), ObjectId('664662bc47dca324292e26f5'), ObjectId('664662bc47dca324292e26f6'), ObjectId('664662bc47dca324292e26f7'), ObjectId('664662bc47dca324292e26f8'), ObjectId('664662bc47dca324292e26f9'), ObjectId('664662bc47dca324292e26fa'), ObjectId('664662bc47dca324292e26fb'), ObjectId('664662bc47dca324292e26fc'), ObjectId('664662bc47dca324292e26fd'), ObjectId('664662bc47dca324292e26fe'), ObjectId('664662bc47dca324292e26ff'), ObjectId('664662bc47dca324292e2700'), ObjectId('664662bc47dca324292e2701'), ObjectId('664662bc47dca324292e2702'), ObjectId('664662bc47dca324292e2703'), ObjectId('664662bc47dca324292e2704'), ObjectId('664662bc47dca324292e2705'), ObjectId('664662bc47dca324292e2706'), ObjectId('664662bc47dca324292e2707'), ObjectId('664662bc47dca324292e2708'), ObjectId('664662bc47dca324292e2709'), ObjectId('664662bc47dca324292e270a'), ObjectId('664662bc47dca324292e270b'), ObjectId('664662bc47dca324292e270c'), ObjectId('664662bc47dca324292e270d'), ObjectId('664662bc47dca324292e270e'), ObjectId('664662bc47dca324292e270f'), ObjectId('664662bc47dca324292e2710'), ObjectId('664662bc47dca324292e2711'), ObjectId('664662bc47dca324292e2712'), ObjectId('664662bc47dca324292e2713'), ObjectId('664662bc47dca324292e2714'), ObjectId('664662bc47dca324292e2715'), ObjectId('664662bc47dca324292e2716'), ObjectId('664662bc47dca324292e2717'), ObjectId('664662bc47dca324292e2718'), ObjectId('664662bc47dca324292e2719'), ObjectId('664662bc47dca324292e271a'), ObjectId('664662bc47dca324292e271b'), ObjectId('664662bc47dca324292e271c'), ObjectId('664662bc47dca324292e271d'), ObjectId('664662bc47dca324292e271e'), ObjectId('664662bc47dca324292e271f'), ObjectId('664662bc47dca324292e2720'), ObjectId('664662bc47dca324292e2721'), ObjectId('664662bc47dca324292e2722'), ObjectId('664662bc47dca324292e2723'), ObjectId('664662bc47dca324292e2724'), ObjectId('664662bc47dca324292e2725'), ObjectId('664662bc47dca324292e2726'), ObjectId('664662bc47dca324292e2727'), ObjectId('664662bc47dca324292e2728'), ObjectId('664662bc47dca324292e2729'), ObjectId('664662bc47dca324292e272a'), ObjectId('664662bc47dca324292e272b'), ObjectId('664662bc47dca324292e272c'), ObjectId('664662bc47dca324292e272d'), ObjectId('664662bc47dca324292e272e'), ObjectId('664662bc47dca324292e272f'), ObjectId('664662bc47dca324292e2730'), ObjectId('664662bc47dca324292e2731'), ObjectId('664662bc47dca324292e2732'), ObjectId('664662bc47dca324292e2733'), ObjectId('664662bc47dca324292e2734'), ObjectId('664662bc47dca324292e2735'), ObjectId('664662bc47dca324292e2736'), ObjectId('664662bc47dca324292e2737'), ObjectId('664662bc47dca324292e2738'), ObjectId('664662bc47dca324292e2739'), ObjectId('664662bc47dca324292e273a'), ObjectId('664662bc47dca324292e273b'), ObjectId('664662bc47dca324292e273c'), ObjectId('664662bc47dca324292e273d'), ObjectId('664662bc47dca324292e273e'), ObjectId('664662bc47dca324292e273f'), ObjectId('664662bc47dca324292e2740'), ObjectId('664662bc47dca324292e2741'), ObjectId('664662bc47dca324292e2742'), ObjectId('664662bc47dca324292e2743'), ObjectId('664662bc47dca324292e2744'), ObjectId('664662bc47dca324292e2745'), ObjectId('664662bc47dca324292e2746'), ObjectId('664662bc47dca324292e2747'), ObjectId('664662bc47dca324292e2748'), ObjectId('664662bc47dca324292e2749'), ObjectId('664662bc47dca324292e274a'), ObjectId('664662bc47dca324292e274b'), ObjectId('664662bc47dca324292e274c'), ObjectId('664662bc47dca324292e274d'), ObjectId('664662bc47dca324292e274e'), ObjectId('664662bc47dca324292e274f'), ObjectId('664662bc47dca324292e2750'), ObjectId('664662bc47dca324292e2751'), ObjectId('664662bc47dca324292e2752'), ObjectId('664662bc47dca324292e2753'), ObjectId('664662bc47dca324292e2754'), ObjectId('664662bc47dca324292e2755'), ObjectId('664662bc47dca324292e2756'), ObjectId('664662bc47dca324292e2757'), ObjectId('664662bc47dca324292e2758'), ObjectId('664662bc47dca324292e2759'), ObjectId('664662bc47dca324292e275a'), ObjectId('664662bc47dca324292e275b'), ObjectId('664662bc47dca324292e275c'), ObjectId('664662bc47dca324292e275d'), ObjectId('664662bc47dca324292e275e'), ObjectId('664662bc47dca324292e275f'), ObjectId('664662bc47dca324292e2760'), ObjectId('664662bc47dca324292e2761'), ObjectId('664662bc47dca324292e2762'), ObjectId('664662bc47dca324292e2763'), ObjectId('664662bc47dca324292e2764'), ObjectId('664662bc47dca324292e2765'), ObjectId('664662bc47dca324292e2766'), ObjectId('664662bc47dca324292e2767'), ObjectId('664662bc47dca324292e2768'), ObjectId('664662bc47dca324292e2769'), ObjectId('664662bc47dca324292e276a'), ObjectId('664662bc47dca324292e276b'), ObjectId('664662bc47dca324292e276c'), ObjectId('664662bc47dca324292e276d'), ObjectId('664662bc47dca324292e276e'), ObjectId('664662bc47dca324292e276f'), ObjectId('664662bc47dca324292e2770'), ObjectId('664662bc47dca324292e2771'), ObjectId('664662bc47dca324292e2772'), ObjectId('664662bc47dca324292e2773'), ObjectId('664662bc47dca324292e2774'), ObjectId('664662bc47dca324292e2775'), ObjectId('664662bc47dca324292e2776'), ObjectId('664662bc47dca324292e2777'), ObjectId('664662bc47dca324292e2778'), ObjectId('664662bc47dca324292e2779'), ObjectId('664662bc47dca324292e277a'), ObjectId('664662bc47dca324292e277b'), ObjectId('664662bc47dca324292e277c'), ObjectId('664662bc47dca324292e277d'), ObjectId('664662bc47dca324292e277e'), ObjectId('664662bc47dca324292e277f'), ObjectId('664662bc47dca324292e2780'), ObjectId('664662bc47dca324292e2781'), ObjectId('664662bc47dca324292e2782'), ObjectId('664662bc47dca324292e2783'), ObjectId('664662bc47dca324292e2784'), ObjectId('664662bc47dca324292e2785'), ObjectId('664662bc47dca324292e2786'), ObjectId('664662bc47dca324292e2787'), ObjectId('664662bc47dca324292e2788'), ObjectId('664662bc47dca324292e2789'), ObjectId('664662bc47dca324292e278a'), ObjectId('664662bc47dca324292e278b'), ObjectId('664662bc47dca324292e278c'), ObjectId('664662bc47dca324292e278d'), ObjectId('664662bc47dca324292e278e'), ObjectId('664662bc47dca324292e278f'), ObjectId('664662bc47dca324292e2790'), ObjectId('664662bc47dca324292e2791'), ObjectId('664662bc47dca324292e2792'), ObjectId('664662bc47dca324292e2793'), ObjectId('664662bc47dca324292e2794'), ObjectId('664662bc47dca324292e2795'), ObjectId('664662bc47dca324292e2796'), ObjectId('664662bc47dca324292e2797'), ObjectId('664662bc47dca324292e2798'), ObjectId('664662bc47dca324292e2799'), ObjectId('664662bc47dca324292e279a'), ObjectId('664662bc47dca324292e279b'), ObjectId('664662bc47dca324292e279c'), ObjectId('664662bc47dca324292e279d'), ObjectId('664662bc47dca324292e279e'), ObjectId('664662bc47dca324292e279f'), ObjectId('664662bc47dca324292e27a0'), ObjectId('664662bc47dca324292e27a1'), ObjectId('664662bc47dca324292e27a2'), ObjectId('664662bc47dca324292e27a3'), ObjectId('664662bc47dca324292e27a4'), ObjectId('664662bc47dca324292e27a5'), ObjectId('664662bc47dca324292e27a6'), ObjectId('664662bc47dca324292e27a7'), ObjectId('664662bc47dca324292e27a8'), ObjectId('664662bc47dca324292e27a9'), ObjectId('664662bc47dca324292e27aa'), ObjectId('664662bc47dca324292e27ab'), ObjectId('664662bc47dca324292e27ac'), ObjectId('664662bc47dca324292e27ad'), ObjectId('664662bc47dca324292e27ae'), ObjectId('664662bc47dca324292e27af'), ObjectId('664662bc47dca324292e27b0'), ObjectId('664662bc47dca324292e27b1'), ObjectId('664662bc47dca324292e27b2'), ObjectId('664662bc47dca324292e27b3'), ObjectId('664662bc47dca324292e27b4'), ObjectId('664662bc47dca324292e27b5'), ObjectId('664662bc47dca324292e27b6'), ObjectId('664662bc47dca324292e27b7'), ObjectId('664662bc47dca324292e27b8'), ObjectId('664662bc47dca324292e27b9'), ObjectId('664662bc47dca324292e27ba'), ObjectId('664662bc47dca324292e27bb'), ObjectId('664662bc47dca324292e27bc'), ObjectId('664662bc47dca324292e27bd'), ObjectId('664662bc47dca324292e27be'), ObjectId('664662bc47dca324292e27bf'), ObjectId('664662bc47dca324292e27c0'), ObjectId('664662bc47dca324292e27c1'), ObjectId('664662bc47dca324292e27c2'), ObjectId('664662bc47dca324292e27c3'), ObjectId('664662bc47dca324292e27c4'), ObjectId('664662bc47dca324292e27c5'), ObjectId('664662bc47dca324292e27c6'), ObjectId('664662bc47dca324292e27c7'), ObjectId('664662bc47dca324292e27c8'), ObjectId('664662bc47dca324292e27c9'), ObjectId('664662bc47dca324292e27ca'), ObjectId('664662bc47dca324292e27cb'), ObjectId('664662bc47dca324292e27cc'), ObjectId('664662bc47dca324292e27cd'), ObjectId('664662bc47dca324292e27ce'), ObjectId('664662bc47dca324292e27cf'), ObjectId('664662bc47dca324292e27d0'), ObjectId('664662bc47dca324292e27d1'), ObjectId('664662bc47dca324292e27d2'), ObjectId('664662bc47dca324292e27d3'), ObjectId('664662bc47dca324292e27d4'), ObjectId('664662bc47dca324292e27d5'), ObjectId('664662bc47dca324292e27d6'), ObjectId('664662bc47dca324292e27d7'), ObjectId('664662bc47dca324292e27d8'), ObjectId('664662bc47dca324292e27d9'), ObjectId('664662bc47dca324292e27da'), ObjectId('664662bc47dca324292e27db'), ObjectId('664662bc47dca324292e27dc'), ObjectId('664662bc47dca324292e27dd'), ObjectId('664662bc47dca324292e27de'), ObjectId('664662bc47dca324292e27df'), ObjectId('664662bc47dca324292e27e0'), ObjectId('664662bc47dca324292e27e1'), ObjectId('664662bc47dca324292e27e2'), ObjectId('664662bc47dca324292e27e3'), ObjectId('664662bc47dca324292e27e4'), ObjectId('664662bc47dca324292e27e5'), ObjectId('664662bc47dca324292e27e6'), ObjectId('664662bc47dca324292e27e7'), ObjectId('664662bc47dca324292e27e8'), ObjectId('664662bc47dca324292e27e9'), ObjectId('664662bc47dca324292e27ea'), ObjectId('664662bc47dca324292e27eb'), ObjectId('664662bc47dca324292e27ec'), ObjectId('664662bc47dca324292e27ed'), ObjectId('664662bc47dca324292e27ee'), ObjectId('664662bc47dca324292e27ef'), ObjectId('664662bc47dca324292e27f0'), ObjectId('664662bc47dca324292e27f1'), ObjectId('664662bc47dca324292e27f2'), ObjectId('664662bc47dca324292e27f3'), ObjectId('664662bc47dca324292e27f4'), ObjectId('664662bc47dca324292e27f5'), ObjectId('664662bc47dca324292e27f6'), ObjectId('664662bc47dca324292e27f7'), ObjectId('664662bc47dca324292e27f8'), ObjectId('664662bc47dca324292e27f9'), ObjectId('664662bc47dca324292e27fa'), ObjectId('664662bc47dca324292e27fb'), ObjectId('664662bc47dca324292e27fc'), ObjectId('664662bc47dca324292e27fd'), ObjectId('664662bc47dca324292e27fe'), ObjectId('664662bc47dca324292e27ff'), ObjectId('664662bc47dca324292e2800'), ObjectId('664662bc47dca324292e2801'), ObjectId('664662bc47dca324292e2802'), ObjectId('664662bc47dca324292e2803'), ObjectId('664662bc47dca324292e2804'), ObjectId('664662bc47dca324292e2805'), ObjectId('664662bc47dca324292e2806'), ObjectId('664662bc47dca324292e2807'), ObjectId('664662bc47dca324292e2808'), ObjectId('664662bc47dca324292e2809'), ObjectId('664662bc47dca324292e280a'), ObjectId('664662bc47dca324292e280b'), ObjectId('664662bc47dca324292e280c'), ObjectId('664662bc47dca324292e280d'), ObjectId('664662bc47dca324292e280e'), ObjectId('664662bc47dca324292e280f'), ObjectId('664662bc47dca324292e2810'), ObjectId('664662bc47dca324292e2811'), ObjectId('664662bc47dca324292e2812'), ObjectId('664662bc47dca324292e2813'), ObjectId('664662bc47dca324292e2814'), ObjectId('664662bc47dca324292e2815'), ObjectId('664662bc47dca324292e2816'), ObjectId('664662bc47dca324292e2817'), ObjectId('664662bc47dca324292e2818'), ObjectId('664662bc47dca324292e2819'), ObjectId('664662bc47dca324292e281a'), ObjectId('664662bc47dca324292e281b'), ObjectId('664662bc47dca324292e281c'), ObjectId('664662bc47dca324292e281d'), ObjectId('664662bc47dca324292e281e'), ObjectId('664662bc47dca324292e281f'), ObjectId('664662bc47dca324292e2820'), ObjectId('664662bc47dca324292e2821'), ObjectId('664662bc47dca324292e2822'), ObjectId('664662bc47dca324292e2823'), ObjectId('664662bc47dca324292e2824'), ObjectId('664662bc47dca324292e2825'), ObjectId('664662bc47dca324292e2826'), ObjectId('664662bc47dca324292e2827'), ObjectId('664662bc47dca324292e2828'), ObjectId('664662bc47dca324292e2829'), ObjectId('664662bc47dca324292e282a'), ObjectId('664662bc47dca324292e282b'), ObjectId('664662bc47dca324292e282c'), ObjectId('664662bc47dca324292e282d'), ObjectId('664662bc47dca324292e282e'), ObjectId('664662bc47dca324292e282f'), ObjectId('664662bc47dca324292e2830'), ObjectId('664662bc47dca324292e2831'), ObjectId('664662bc47dca324292e2832'), ObjectId('664662bc47dca324292e2833'), ObjectId('664662bc47dca324292e2834'), ObjectId('664662bc47dca324292e2835'), ObjectId('664662bc47dca324292e2836'), ObjectId('664662bc47dca324292e2837'), ObjectId('664662bc47dca324292e2838'), ObjectId('664662bc47dca324292e2839'), ObjectId('664662bc47dca324292e283a'), ObjectId('664662bc47dca324292e283b'), ObjectId('664662bc47dca324292e283c'), ObjectId('664662bc47dca324292e283d'), ObjectId('664662bc47dca324292e283e'), ObjectId('664662bc47dca324292e283f'), ObjectId('664662bc47dca324292e2840'), ObjectId('664662bc47dca324292e2841'), ObjectId('664662bc47dca324292e2842'), ObjectId('664662bc47dca324292e2843'), ObjectId('664662bc47dca324292e2844'), ObjectId('664662bc47dca324292e2845'), ObjectId('664662bc47dca324292e2846'), ObjectId('664662bc47dca324292e2847'), ObjectId('664662bc47dca324292e2848'), ObjectId('664662bc47dca324292e2849'), ObjectId('664662bc47dca324292e284a'), ObjectId('664662bc47dca324292e284b'), ObjectId('664662bc47dca324292e284c'), ObjectId('664662bc47dca324292e284d'), ObjectId('664662bc47dca324292e284e'), ObjectId('664662bc47dca324292e284f'), ObjectId('664662bc47dca324292e2850'), ObjectId('664662bc47dca324292e2851'), ObjectId('664662bc47dca324292e2852'), ObjectId('664662bc47dca324292e2853'), ObjectId('664662bc47dca324292e2854'), ObjectId('664662bc47dca324292e2855'), ObjectId('664662bc47dca324292e2856'), ObjectId('664662bc47dca324292e2857'), ObjectId('664662bc47dca324292e2858'), ObjectId('664662bc47dca324292e2859'), ObjectId('664662bc47dca324292e285a'), ObjectId('664662bc47dca324292e285b'), ObjectId('664662bc47dca324292e285c'), ObjectId('664662bc47dca324292e285d'), ObjectId('664662bc47dca324292e285e'), ObjectId('664662bc47dca324292e285f'), ObjectId('664662bc47dca324292e2860'), ObjectId('664662bc47dca324292e2861'), ObjectId('664662bc47dca324292e2862'), ObjectId('664662bc47dca324292e2863'), ObjectId('664662bc47dca324292e2864'), ObjectId('664662bc47dca324292e2865'), ObjectId('664662bc47dca324292e2866'), ObjectId('664662bc47dca324292e2867'), ObjectId('664662bc47dca324292e2868'), ObjectId('664662bc47dca324292e2869'), ObjectId('664662bc47dca324292e286a'), ObjectId('664662bc47dca324292e286b'), ObjectId('664662bc47dca324292e286c'), ObjectId('664662bc47dca324292e286d'), ObjectId('664662bc47dca324292e286e'), ObjectId('664662bc47dca324292e286f'), ObjectId('664662bc47dca324292e2870'), ObjectId('664662bc47dca324292e2871'), ObjectId('664662bc47dca324292e2872'), ObjectId('664662bc47dca324292e2873'), ObjectId('664662bc47dca324292e2874'), ObjectId('664662bc47dca324292e2875'), ObjectId('664662bc47dca324292e2876'), ObjectId('664662bc47dca324292e2877'), ObjectId('664662bc47dca324292e2878'), ObjectId('664662bc47dca324292e2879'), ObjectId('664662bc47dca324292e287a'), ObjectId('664662bc47dca324292e287b'), ObjectId('664662bc47dca324292e287c'), ObjectId('664662bc47dca324292e287d'), ObjectId('664662bc47dca324292e287e'), ObjectId('664662bc47dca324292e287f'), ObjectId('664662bc47dca324292e2880'), ObjectId('664662bc47dca324292e2881'), ObjectId('664662bc47dca324292e2882'), ObjectId('664662bc47dca324292e2883'), ObjectId('664662bc47dca324292e2884'), ObjectId('664662bc47dca324292e2885'), ObjectId('664662bc47dca324292e2886'), ObjectId('664662bc47dca324292e2887'), ObjectId('664662bc47dca324292e2888'), ObjectId('664662bc47dca324292e2889'), ObjectId('664662bc47dca324292e288a'), ObjectId('664662bc47dca324292e288b'), ObjectId('664662bc47dca324292e288c'), ObjectId('664662bc47dca324292e288d'), ObjectId('664662bc47dca324292e288e'), ObjectId('664662bc47dca324292e288f'), ObjectId('664662bc47dca324292e2890'), ObjectId('664662bc47dca324292e2891'), ObjectId('664662bc47dca324292e2892'), ObjectId('664662bc47dca324292e2893'), ObjectId('664662bc47dca324292e2894'), ObjectId('664662bc47dca324292e2895'), ObjectId('664662bc47dca324292e2896'), ObjectId('664662bc47dca324292e2897'), ObjectId('664662bc47dca324292e2898'), ObjectId('664662bc47dca324292e2899'), ObjectId('664662bc47dca324292e289a'), ObjectId('664662bc47dca324292e289b'), ObjectId('664662bc47dca324292e289c'), ObjectId('664662bc47dca324292e289d'), ObjectId('664662bc47dca324292e289e'), ObjectId('664662bc47dca324292e289f'), ObjectId('664662bc47dca324292e28a0'), ObjectId('664662bc47dca324292e28a1'), ObjectId('664662bc47dca324292e28a2'), ObjectId('664662bc47dca324292e28a3'), ObjectId('664662bc47dca324292e28a4'), ObjectId('664662bc47dca324292e28a5'), ObjectId('664662bc47dca324292e28a6'), ObjectId('664662bc47dca324292e28a7'), ObjectId('664662bc47dca324292e28a8'), ObjectId('664662bc47dca324292e28a9'), ObjectId('664662bc47dca324292e28aa'), ObjectId('664662bc47dca324292e28ab'), ObjectId('664662bc47dca324292e28ac'), ObjectId('664662bc47dca324292e28ad'), ObjectId('664662bc47dca324292e28ae'), ObjectId('664662bc47dca324292e28af'), ObjectId('664662bc47dca324292e28b0'), ObjectId('664662bc47dca324292e28b1'), ObjectId('664662bc47dca324292e28b2'), ObjectId('664662bc47dca324292e28b3'), ObjectId('664662bc47dca324292e28b4'), ObjectId('664662bc47dca324292e28b5'), ObjectId('664662bc47dca324292e28b6'), ObjectId('664662bc47dca324292e28b7'), ObjectId('664662bc47dca324292e28b8'), ObjectId('664662bc47dca324292e28b9'), ObjectId('664662bc47dca324292e28ba'), ObjectId('664662bc47dca324292e28bb'), ObjectId('664662bc47dca324292e28bc'), ObjectId('664662bc47dca324292e28bd'), ObjectId('664662bc47dca324292e28be'), ObjectId('664662bc47dca324292e28bf'), ObjectId('664662bc47dca324292e28c0'), ObjectId('664662bc47dca324292e28c1'), ObjectId('664662bc47dca324292e28c2'), ObjectId('664662bc47dca324292e28c3'), ObjectId('664662bc47dca324292e28c4'), ObjectId('664662bc47dca324292e28c5'), ObjectId('664662bc47dca324292e28c6'), ObjectId('664662bc47dca324292e28c7'), ObjectId('664662bc47dca324292e28c8'), ObjectId('664662bc47dca324292e28c9'), ObjectId('664662bc47dca324292e28ca'), ObjectId('664662bc47dca324292e28cb'), ObjectId('664662bc47dca324292e28cc'), ObjectId('664662bc47dca324292e28cd'), ObjectId('664662bc47dca324292e28ce'), ObjectId('664662bc47dca324292e28cf'), ObjectId('664662bc47dca324292e28d0'), ObjectId('664662bc47dca324292e28d1'), ObjectId('664662bc47dca324292e28d2'), ObjectId('664662bc47dca324292e28d3'), ObjectId('664662bc47dca324292e28d4'), ObjectId('664662bc47dca324292e28d5'), ObjectId('664662bc47dca324292e28d6'), ObjectId('664662bc47dca324292e28d7')], acknowledged=True)"
      ]
     },
     "execution_count": 20,
     "metadata": {},
     "output_type": "execute_result"
    }
   ],
   "source": [
    "# Отправим данные в БД MongoDB\n",
    "collection.insert_many(acb_list)"
   ]
  },
  {
   "cell_type": "markdown",
   "id": "45868417-03c2-4007-8d6c-cbbc21c0b213",
   "metadata": {},
   "source": [
    "## Вывод:\n",
    "Взял информацию с сайта `https://www.wildberries.ru/` об аккумуляторах 12V для ИБП. С помощью скрипта ввёл информацию для поиска, после чего скрипт прокручивал страницу, чтобы загрузились все товары. Далее сохранял все ссылки на аккумуляторы в список и если присутствовала кнопка далее, скрипт нажимал её.\n",
    "После того как были собраны все ссылки на аккумуляторы, в другом окне браузера открывалась каждая ссылка и извлекались следующие данные:  \n",
    "- марка;\n",
    "- напряжение аккумулятора;\n",
    "- ёмкость аккумулятора;\n",
    "- бренд;\n",
    "- страна производитель;\n",
    "- цена;\n",
    "- url.\n",
    "  \n",
    "Сначала хотел забирать данные с `OnlineTrade.ru` но сайт понял, что я робот и начал задавать различные задания - типа поверните картинку в правильном положении, поэтому перешел на `https://www.wildberries.ru/`. Все параметры (таймауты, число пикселей прокрутки и т.д.) подбирал экспериментальным путём. Отлаживал программу частично в PyCharm Profecional (демо версия), частично в Jupiter Notebook.\n",
    "\n",
    "Для автоматического сбора данных, нажмите в Jupiter Notebook -> выполнить все (`Run All Cells`)"
   ]
  },
  {
   "cell_type": "code",
   "execution_count": null,
   "id": "d702ad80-9113-4054-ae82-21a7553d0c7a",
   "metadata": {},
   "outputs": [],
   "source": []
  }
 ],
 "metadata": {
  "kernelspec": {
   "display_name": "Python 3 (ipykernel)",
   "language": "python",
   "name": "python3"
  },
  "language_info": {
   "codemirror_mode": {
    "name": "ipython",
    "version": 3
   },
   "file_extension": ".py",
   "mimetype": "text/x-python",
   "name": "python",
   "nbconvert_exporter": "python",
   "pygments_lexer": "ipython3",
   "version": "3.10.9"
  }
 },
 "nbformat": 4,
 "nbformat_minor": 5
}
