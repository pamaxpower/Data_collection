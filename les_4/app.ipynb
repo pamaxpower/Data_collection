{
 "cells": [
  {
   "cell_type": "code",
   "execution_count": 1,
   "metadata": {},
   "outputs": [],
   "source": [
    "from lxml import etree"
   ]
  },
  {
   "cell_type": "code",
   "execution_count": 38,
   "metadata": {},
   "outputs": [],
   "source": [
    "tree = etree.parse(\"./web_page.html\")"
   ]
  },
  {
   "cell_type": "code",
   "execution_count": 4,
   "metadata": {},
   "outputs": [
    {
     "name": "stdout",
     "output_type": "stream",
     "text": [
      "<lxml.etree._ElementTree object at 0x000002588043F680>\n"
     ]
    }
   ],
   "source": [
    "print(tree)"
   ]
  },
  {
   "cell_type": "code",
   "execution_count": 8,
   "metadata": {},
   "outputs": [
    {
     "data": {
      "text/plain": [
       "'This is title of the page'"
      ]
     },
     "execution_count": 8,
     "metadata": {},
     "output_type": "execute_result"
    }
   ],
   "source": [
    "# Скрепинг заголовка\n",
    "title_element = tree.find(\"head/title\")\n",
    "title_element.text"
   ]
  },
  {
   "cell_type": "code",
   "execution_count": 9,
   "metadata": {},
   "outputs": [
    {
     "data": {
      "text/plain": [
       "'Hello GeekBrains'"
      ]
     },
     "execution_count": 9,
     "metadata": {},
     "output_type": "execute_result"
    }
   ],
   "source": [
    "# содержимое тега 'p'\n",
    "p_element = tree.find(\"body/p\")\n",
    "p_element.text"
   ]
  },
  {
   "cell_type": "code",
   "execution_count": 11,
   "metadata": {},
   "outputs": [
    {
     "name": "stdout",
     "output_type": "stream",
     "text": [
      "[<Element li at 0x25880537380>, <Element li at 0x25880536e00>] \n",
      "\n",
      "Data scraping course.\n",
      "GeekBrain's link:\n",
      "            \n"
     ]
    }
   ],
   "source": [
    "# найти все элементы списка\n",
    "list_items = tree.findall(\"body/ul/li\")\n",
    "print(list_items, '\\n')\n",
    "for li in list_items:\n",
    "   print(li.text)"
   ]
  },
  {
   "cell_type": "code",
   "execution_count": 12,
   "metadata": {},
   "outputs": [
    {
     "name": "stdout",
     "output_type": "stream",
     "text": [
      "Data scraping course.\n",
      "GeekBrain's link: Developer\n"
     ]
    }
   ],
   "source": [
    "# получить элемента списка со всем содержимым\n",
    "for li in list_items:\n",
    "   a = li.find(\"a\")\n",
    "   if a is not None:\n",
    "       print(f\"{li.text.strip()} {a.text}\")\n",
    "   else:\n",
    "       print(li.text)"
   ]
  },
  {
   "cell_type": "markdown",
   "metadata": {},
   "source": [
    "Метод **xpath()** - в качестве аргумента принимает путь к целевому тегу (но не нужно указывать полный путь до тега)"
   ]
  },
  {
   "cell_type": "code",
   "execution_count": 15,
   "metadata": {},
   "outputs": [
    {
     "name": "stdout",
     "output_type": "stream",
     "text": [
      "This is title of the page\n"
     ]
    }
   ],
   "source": [
    "title_element = tree.xpath(\"//title\")   # получаем список\n",
    "# для применения свойства .text нужно обращаться к первому элементу списка\n",
    "title_element[0].text"
   ]
  },
  {
   "cell_type": "code",
   "execution_count": 17,
   "metadata": {},
   "outputs": [
    {
     "name": "stdout",
     "output_type": "stream",
     "text": [
      "This is title of the page\n"
     ]
    }
   ],
   "source": [
    "# также свойство text() можно вызвать внутри метода xpath\n",
    "title_element = tree.xpath(\"//title/text()\")\n",
    "title_element[0]"
   ]
  },
  {
   "cell_type": "code",
   "execution_count": 19,
   "metadata": {},
   "outputs": [
    {
     "name": "stdout",
     "output_type": "stream",
     "text": [
      "Hello GeekBrains\n"
     ]
    }
   ],
   "source": [
    "p_element = tree.xpath('//p/text()')\n",
    "p_element[0]"
   ]
  },
  {
   "cell_type": "code",
   "execution_count": 20,
   "metadata": {},
   "outputs": [
    {
     "name": "stdout",
     "output_type": "stream",
     "text": [
      "b'<li id=\"myID\">Data scraping course.</li>\\n        '\n",
      "b'<li class=\"myClass\">GeekBrain\\'s link:\\n            <a href=\"https://gb.ru/geek_university/developer\">Developer</a>\\n        </li>\\n    '\n"
     ]
    }
   ],
   "source": [
    "# получаем два элемента списка, содержащих полную html-разметку\n",
    "list_items = tree.xpath('//li')\n",
    "for li in list_items:\n",
    "    print(etree.tostring(li))"
   ]
  },
  {
   "cell_type": "code",
   "execution_count": 24,
   "metadata": {},
   "outputs": [
    {
     "name": "stdout",
     "output_type": "stream",
     "text": [
      "['Data scraping course.']\n",
      "[\"GeekBrain's link:\\n            \", 'Developer', '\\n        ']\n"
     ]
    }
   ],
   "source": [
    "# получить текст, который находится внутри тегов\n",
    "for li in list_items:\n",
    "    text = li.xpath('.//text()')\n",
    "    print(text)"
   ]
  },
  {
   "cell_type": "code",
   "execution_count": 26,
   "metadata": {},
   "outputs": [
    {
     "name": "stdout",
     "output_type": "stream",
     "text": [
      "['Data scraping course.']\n",
      "[\"GeekBrain's link:\", 'Developer', '']\n"
     ]
    }
   ],
   "source": [
    "# избавить от лишних символов во втором списке\n",
    "for li in list_items:\n",
    "    # используем метод map(использует функцию str.strip к каждому элементу списка)\n",
    "    text = map(str.strip, li.xpath('.//text()'))\n",
    "    # преобразуем объект map в список\n",
    "    print(list(text))"
   ]
  },
  {
   "cell_type": "code",
   "execution_count": 29,
   "metadata": {},
   "outputs": [
    {
     "name": "stdout",
     "output_type": "stream",
     "text": [
      "Data scraping course.\n",
      "GeekBrain's link:Developer\n"
     ]
    }
   ],
   "source": [
    "# возвращаем \"чистый текст\"\n",
    "for li in list_items:\n",
    "    text = ''.join(map(str.strip, li.xpath('.//text()')))\n",
    "    print(text)"
   ]
  },
  {
   "cell_type": "code",
   "execution_count": 30,
   "metadata": {},
   "outputs": [
    {
     "name": "stdout",
     "output_type": "stream",
     "text": [
      "Data scraping course.\n",
      "GeekBrain's link:Developer\n"
     ]
    }
   ],
   "source": [
    "# Выберем все элементы li (потомки ul)\n",
    "list_items = tree.xpath(\"//ul/descendant::li\")\n",
    "for li in list_items:\n",
    "    text = ''.join(map(str.strip, li.xpath('.//text()')))\n",
    "    print(text)"
   ]
  },
  {
   "cell_type": "code",
   "execution_count": 34,
   "metadata": {},
   "outputs": [
    {
     "name": "stdout",
     "output_type": "stream",
     "text": [
      "Data scraping course.GeekBrain's link:Developer\n"
     ]
    }
   ],
   "source": [
    "list_items = tree.xpath(\"///li/parent::*\")\n",
    "for li in list_items:\n",
    "    text = ''.join(map(str.strip, li.xpath('.//text()')))\n",
    "    print(text)"
   ]
  },
  {
   "cell_type": "markdown",
   "metadata": {},
   "source": [
    "CSS-selector"
   ]
  },
  {
   "cell_type": "code",
   "execution_count": 40,
   "metadata": {},
   "outputs": [
    {
     "ename": "AttributeError",
     "evalue": "'lxml.etree._ElementTree' object has no attribute 'cssselect'",
     "output_type": "error",
     "traceback": [
      "\u001b[1;31m---------------------------------------------------------------------------\u001b[0m",
      "\u001b[1;31mAttributeError\u001b[0m                            Traceback (most recent call last)",
      "Cell \u001b[1;32mIn[40], line 3\u001b[0m\n\u001b[0;32m      1\u001b[0m \u001b[38;5;28;01mimport\u001b[39;00m \u001b[38;5;21;01mcssselect\u001b[39;00m\n\u001b[1;32m----> 3\u001b[0m title_element \u001b[38;5;241m=\u001b[39m \u001b[43mtree\u001b[49m\u001b[38;5;241;43m.\u001b[39;49m\u001b[43mcssselect\u001b[49m(\u001b[38;5;124m'\u001b[39m\u001b[38;5;124mtitle\u001b[39m\u001b[38;5;124m'\u001b[39m)\n\u001b[0;32m      4\u001b[0m title_element[\u001b[38;5;241m0\u001b[39m]\n",
      "\u001b[1;31mAttributeError\u001b[0m: 'lxml.etree._ElementTree' object has no attribute 'cssselect'"
     ]
    }
   ],
   "source": [
    "title_element = tree.cssselect('title')\n",
    "title_element[0]"
   ]
  },
  {
   "cell_type": "code",
   "execution_count": 43,
   "metadata": {},
   "outputs": [
    {
     "data": {
      "text/plain": [
       "'This is title of the page'"
      ]
     },
     "execution_count": 43,
     "metadata": {},
     "output_type": "execute_result"
    }
   ],
   "source": [
    "# css работает непосредственно с html-элементами\n",
    "# конвертируем объект-дерево в html-элемент\n",
    "html = tree.getroot()\n",
    "\n",
    "title_element = html.cssselect('title')\n",
    "title_element[0].text"
   ]
  },
  {
   "cell_type": "code",
   "execution_count": 46,
   "metadata": {},
   "outputs": [
    {
     "name": "stdout",
     "output_type": "stream",
     "text": [
      "Data scraping course.\n",
      "GeekBrain's link: Developer\n"
     ]
    }
   ],
   "source": [
    "list_items = html.cssselect('li')\n",
    "for li in list_items:\n",
    "    a = li.cssselect('a')\n",
    "    if len(a) == 0:\n",
    "        print(li.text)\n",
    "    else:\n",
    "        print(f\"{li.text.strip()} {a[0].text}\")"
   ]
  }
 ],
 "metadata": {
  "kernelspec": {
   "display_name": "Python 3",
   "language": "python",
   "name": "python3"
  },
  "language_info": {
   "codemirror_mode": {
    "name": "ipython",
    "version": 3
   },
   "file_extension": ".py",
   "mimetype": "text/x-python",
   "name": "python",
   "nbconvert_exporter": "python",
   "pygments_lexer": "ipython3",
   "version": "3.10.9"
  }
 },
 "nbformat": 4,
 "nbformat_minor": 2
}
